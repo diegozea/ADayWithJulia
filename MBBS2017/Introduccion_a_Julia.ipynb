{
 "cells": [
  {
   "cell_type": "markdown",
   "metadata": {
    "slideshow": {
     "slide_type": "slide"
    }
   },
   "source": [
    "# Un día con el lenguaje de programación Julia"
   ]
  },
  {
   "cell_type": "markdown",
   "metadata": {
    "slideshow": {
     "slide_type": "slide"
    }
   },
   "source": [
    "# Julia\n",
    "\n",
    "**Julia** es un lenguaje de alto nivel, como **R** o **Python**, que permite escribir código de manera fácil y rápida, pero con una velocidad de ejecución similar a la de **C**, **C++** o **Fortran** *(~ 2x)*"
   ]
  },
  {
   "cell_type": "code",
   "execution_count": 1,
   "metadata": {
    "collapsed": false,
    "slideshow": {
     "slide_type": "-"
    }
   },
   "outputs": [
    {
     "name": "stdout",
     "output_type": "stream",
     "text": [
      "Hola mundo\n"
     ]
    }
   ],
   "source": [
    "println(\"Hola mundo\")"
   ]
  },
  {
   "cell_type": "code",
   "execution_count": 6,
   "metadata": {
    "collapsed": false,
    "slideshow": {
     "slide_type": "slide"
    }
   },
   "outputs": [
    {
     "name": "stdout",
     "output_type": "stream",
     "text": [
      "Benchmark;Fortran;Julia;Python;R;Matlab;Octave;Mathematica;JavaScript;Go;LuaJIT;Java\n",
      "fib;0.70;2.11;77.76;533.52;26.89;9324.35;118.53;3.36;1.86;1.71;1.21\n",
      "parse_int;5.05;1.45;17.02;45.73;802.52;9581.44;15.02;6.06;1.20;5.77;3.35\n",
      "quicksort;1.31;1.15;32.89;264.54;4.92;1866.01;43.23;2.70;1.29;2.03;2.60\n",
      "mandel;0.81;0.79;15.32;53.16;7.58;451.81;5.13;0.66;1.11;0.67;1.35\n",
      "pi_sum;1.00;1.00;21.99;9.56;1.00;299.31;1.69;1.01;1.00;1.00;1.00\n",
      "rand_mat_stat;1.45;1.66;17.93;14.56;14.52;30.93;5.95;2.30;2.96;3.27;3.92\n",
      "rand_mat_mul;3.48;1.02;1.14;1.57;1.12;1.12;1.30;15.07;1.42;1.16;2.36\n"
     ]
    }
   ],
   "source": [
    "; cat data/benchmark.csv"
   ]
  },
  {
   "cell_type": "code",
   "execution_count": 7,
   "metadata": {
    "collapsed": false,
    "slideshow": {
     "slide_type": "fragment"
    }
   },
   "outputs": [
    {
     "data": {
      "text/html": [
       "<table class=\"data-frame\"><thead><tr><th></th><th>Benchmark</th><th>Fortran</th><th>Julia</th><th>Python</th><th>R</th><th>Matlab</th><th>Octave</th><th>Mathematica</th><th>JavaScript</th><th>Go</th><th>LuaJIT</th><th>Java</th></tr></thead><tbody><tr><th>1</th><td>fib</td><td>0.7</td><td>2.11</td><td>77.76</td><td>533.52</td><td>26.89</td><td>9324.35</td><td>118.53</td><td>3.36</td><td>1.86</td><td>1.71</td><td>1.21</td></tr><tr><th>2</th><td>parse_int</td><td>5.05</td><td>1.45</td><td>17.02</td><td>45.73</td><td>802.52</td><td>9581.44</td><td>15.02</td><td>6.06</td><td>1.2</td><td>5.77</td><td>3.35</td></tr><tr><th>3</th><td>quicksort</td><td>1.31</td><td>1.15</td><td>32.89</td><td>264.54</td><td>4.92</td><td>1866.01</td><td>43.23</td><td>2.7</td><td>1.29</td><td>2.03</td><td>2.6</td></tr><tr><th>4</th><td>mandel</td><td>0.81</td><td>0.79</td><td>15.32</td><td>53.16</td><td>7.58</td><td>451.81</td><td>5.13</td><td>0.66</td><td>1.11</td><td>0.67</td><td>1.35</td></tr><tr><th>5</th><td>pi_sum</td><td>1.0</td><td>1.0</td><td>21.99</td><td>9.56</td><td>1.0</td><td>299.31</td><td>1.69</td><td>1.01</td><td>1.0</td><td>1.0</td><td>1.0</td></tr><tr><th>6</th><td>rand_mat_stat</td><td>1.45</td><td>1.66</td><td>17.93</td><td>14.56</td><td>14.52</td><td>30.93</td><td>5.95</td><td>2.3</td><td>2.96</td><td>3.27</td><td>3.92</td></tr><tr><th>7</th><td>rand_mat_mul</td><td>3.48</td><td>1.02</td><td>1.14</td><td>1.57</td><td>1.12</td><td>1.12</td><td>1.3</td><td>15.07</td><td>1.42</td><td>1.16</td><td>2.36</td></tr></tbody></table>"
      ],
      "text/plain": [
       "7×12 DataFrames.DataFrame\n",
       "│ Row │ Benchmark       │ Fortran │ Julia │ Python │ R      │ Matlab │ Octave  │\n",
       "├─────┼─────────────────┼─────────┼───────┼────────┼────────┼────────┼─────────┤\n",
       "│ 1   │ \"fib\"           │ 0.7     │ 2.11  │ 77.76  │ 533.52 │ 26.89  │ 9324.35 │\n",
       "│ 2   │ \"parse_int\"     │ 5.05    │ 1.45  │ 17.02  │ 45.73  │ 802.52 │ 9581.44 │\n",
       "│ 3   │ \"quicksort\"     │ 1.31    │ 1.15  │ 32.89  │ 264.54 │ 4.92   │ 1866.01 │\n",
       "│ 4   │ \"mandel\"        │ 0.81    │ 0.79  │ 15.32  │ 53.16  │ 7.58   │ 451.81  │\n",
       "│ 5   │ \"pi_sum\"        │ 1.0     │ 1.0   │ 21.99  │ 9.56   │ 1.0    │ 299.31  │\n",
       "│ 6   │ \"rand_mat_stat\" │ 1.45    │ 1.66  │ 17.93  │ 14.56  │ 14.52  │ 30.93   │\n",
       "│ 7   │ \"rand_mat_mul\"  │ 3.48    │ 1.02  │ 1.14   │ 1.57   │ 1.12   │ 1.12    │\n",
       "\n",
       "│ Row │ Mathematica │ JavaScript │ Go   │ LuaJIT │ Java │\n",
       "├─────┼─────────────┼────────────┼──────┼────────┼──────┤\n",
       "│ 1   │ 118.53      │ 3.36       │ 1.86 │ 1.71   │ 1.21 │\n",
       "│ 2   │ 15.02       │ 6.06       │ 1.2  │ 5.77   │ 3.35 │\n",
       "│ 3   │ 43.23       │ 2.7        │ 1.29 │ 2.03   │ 2.6  │\n",
       "│ 4   │ 5.13        │ 0.66       │ 1.11 │ 0.67   │ 1.35 │\n",
       "│ 5   │ 1.69        │ 1.01       │ 1.0  │ 1.0    │ 1.0  │\n",
       "│ 6   │ 5.95        │ 2.3        │ 2.96 │ 3.27   │ 3.92 │\n",
       "│ 7   │ 1.3         │ 15.07      │ 1.42 │ 1.16   │ 2.36 │"
      ]
     },
     "execution_count": 7,
     "metadata": {},
     "output_type": "execute_result"
    }
   ],
   "source": [
    "using DataFrames\n",
    "benchmark = readtable(\"data/benchmark.csv\", separator=';')"
   ]
  },
  {
   "cell_type": "code",
   "execution_count": 22,
   "metadata": {
    "collapsed": false,
    "slideshow": {
     "slide_type": "slide"
    }
   },
   "outputs": [
    {
     "data": {
      "text/html": [
       "<img src=\"data:image/png;base64,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\" />"
      ]
     },
     "execution_count": 22,
     "metadata": {},
     "output_type": "execute_result"
    }
   ],
   "source": [
    "using Plots, StatPlots\n",
    "scatter(benchmark, :Benchmark, [:Julia, :Fortran, :Python, :R], \n",
    "    yscale=:log10, \n",
    "    ylab=\"Tiempo relativo a C\", \n",
    "    yticks=([1,20,50,100,1000],[\"1\",\"20\",\"50\",\"100\",\"1000\"]))"
   ]
  },
  {
   "cell_type": "markdown",
   "metadata": {
    "slideshow": {
     "slide_type": "slide"
    }
   },
   "source": [
    "# Julia fue diseñado para ser rápido \n",
    "\n",
    "Julia fue diseñado desde su creación para ser un lenguaje de programación compilado en tiempo real (JIT por *just-in-time*).\n",
    "\n",
    "- No es necesario recurrir a código en C para obtener velocidad.\n",
    "\n",
    "- Los tipos de datos y métodos/funciones definidos por el usuario son tan rápidos como los que vienen en la biblioteca estándar. De hecho… La biblioteca estándar de Julia está escrita en Julia (es un lenguaje homoicónicos).\n",
    "\n",
    "El secreto de Julia es que compila cada función de la manera más eficiente y específica para cada tipo de dato sobre la cual se usa o se define.  \n",
    "\n",
    "Cuando más de un método existe con el mismo nombre, Julia elige el método más específico para el tipo de sus argumentos, debido a su diseño basado en *multiple dispatch*.  "
   ]
  },
  {
   "cell_type": "markdown",
   "metadata": {
    "slideshow": {
     "slide_type": "slide"
    }
   },
   "source": [
    "La primera vez que se llama a una función, su tiempo de ejecución es más lento porque incluye el tiempo de compilación. Pero la segunda vez que se ejecuta, es casi tan rápida como si corriera en C (dado que ya fue compilada específicamente para el tipo de datos de sus argumentos)"
   ]
  },
  {
   "cell_type": "code",
   "execution_count": 23,
   "metadata": {
    "collapsed": false,
    "slideshow": {
     "slide_type": "fragment"
    }
   },
   "outputs": [
    {
     "name": "stdout",
     "output_type": "stream",
     "text": [
      "  0.065439 seconds (41.22 k allocations: 1.725 MB)\n"
     ]
    },
    {
     "data": {
      "text/plain": [
       "51.38055110002102"
      ]
     },
     "execution_count": 23,
     "metadata": {},
     "output_type": "execute_result"
    }
   ],
   "source": [
    "@time sum(rand(100))"
   ]
  },
  {
   "cell_type": "code",
   "execution_count": 24,
   "metadata": {
    "collapsed": false,
    "slideshow": {
     "slide_type": "fragment"
    }
   },
   "outputs": [
    {
     "name": "stdout",
     "output_type": "stream",
     "text": [
      "  0.000004 seconds (7 allocations: 1.063 KB)\n"
     ]
    },
    {
     "data": {
      "text/plain": [
       "45.77580229313082"
      ]
     },
     "execution_count": 24,
     "metadata": {},
     "output_type": "execute_result"
    }
   ],
   "source": [
    "@time sum(rand(100))"
   ]
  },
  {
   "cell_type": "markdown",
   "metadata": {
    "slideshow": {
     "slide_type": "slide"
    }
   },
   "source": [
    "# Tipos de datos elementales\n",
    "\n",
    "Julia posee varios [tipos de datos elementales](https://es.wikipedia.org/wiki/Tipo_de_dato_elemental), los más usados son:"
   ]
  },
  {
   "cell_type": "code",
   "execution_count": 25,
   "metadata": {
    "collapsed": false,
    "slideshow": {
     "slide_type": "-"
    }
   },
   "outputs": [
    {
     "name": "stdout",
     "output_type": "stream",
     "text": [
      "Int64 42\n",
      "Float64 1.0\n",
      "Bool true\n",
      "Char A\n",
      "String \"A\"\n",
      "Tuple{Bool,Bool}\n",
      "  1: Bool true\n",
      "  2: Bool false\n"
     ]
    }
   ],
   "source": [
    "for valor in [42, 1.0, true, 'A', \"A\", (true, false)]\n",
    "    dump(valor) #\n",
    "end"
   ]
  },
  {
   "cell_type": "markdown",
   "metadata": {
    "slideshow": {
     "slide_type": "slide"
    }
   },
   "source": [
    "# Arrays\n",
    "\n",
    "En Julia los arrays son tipos de datos paramétricos, definidos por el tipo de datos que contienen y su dimensión. Por ejemplo una lista de Python sería un array unidimensional que contiene cualquier tipo de datos: `Array{Any,1}`"
   ]
  },
  {
   "cell_type": "code",
   "execution_count": 27,
   "metadata": {
    "collapsed": false,
    "slideshow": {
     "slide_type": "-"
    }
   },
   "outputs": [
    {
     "data": {
      "text/plain": [
       "3-element Array{Any,1}:\n",
       "  1                    \n",
       " π = 3.1415926535897...\n",
       "   \"Hola mundo\"        "
      ]
     },
     "execution_count": 27,
     "metadata": {},
     "output_type": "execute_result"
    }
   ],
   "source": [
    "lista = [1, π, \"Hola mundo\"]"
   ]
  },
  {
   "cell_type": "code",
   "execution_count": 28,
   "metadata": {
    "collapsed": false,
    "slideshow": {
     "slide_type": "-"
    }
   },
   "outputs": [
    {
     "data": {
      "text/plain": [
       "Array{Any,1}"
      ]
     },
     "execution_count": 28,
     "metadata": {},
     "output_type": "execute_result"
    }
   ],
   "source": [
    "typeof(lista)"
   ]
  },
  {
   "cell_type": "markdown",
   "metadata": {
    "slideshow": {
     "slide_type": "slide"
    }
   },
   "source": [
    "Si un array contiene siempre un mismo tipo de datos, su almacenamiento en memoria es más eficiente si lo declaramos. A su vez las funciones que lo utilizan se ejecutarán de manera más eficiente/rápida (porque el compilador puede predecir el tipo de datos que va a obtener de array)."
   ]
  },
  {
   "cell_type": "code",
   "execution_count": 29,
   "metadata": {
    "collapsed": false,
    "slideshow": {
     "slide_type": "fragment"
    }
   },
   "outputs": [
    {
     "data": {
      "text/plain": [
       "4-element Array{Int64,1}:\n",
       " 62\n",
       " 95\n",
       " 99\n",
       " 30"
      ]
     },
     "execution_count": 29,
     "metadata": {},
     "output_type": "execute_result"
    }
   ],
   "source": [
    "[62, 95, 99, 30]"
   ]
  },
  {
   "cell_type": "code",
   "execution_count": 30,
   "metadata": {
    "collapsed": false,
    "slideshow": {
     "slide_type": "fragment"
    }
   },
   "outputs": [
    {
     "data": {
      "text/plain": [
       "4-element Array{Float64,1}:\n",
       " 62.0\n",
       " 95.0\n",
       " 99.0\n",
       " 30.0"
      ]
     },
     "execution_count": 30,
     "metadata": {},
     "output_type": "execute_result"
    }
   ],
   "source": [
    "identidad = Float64[62, 95, 99, 30]"
   ]
  },
  {
   "cell_type": "code",
   "execution_count": 31,
   "metadata": {
    "collapsed": false,
    "slideshow": {
     "slide_type": "slide"
    }
   },
   "outputs": [
    {
     "data": {
      "text/plain": [
       "62.0"
      ]
     },
     "execution_count": 31,
     "metadata": {},
     "output_type": "execute_result"
    }
   ],
   "source": [
    "identidad[1] # Los Arrays se acceden desde 1"
   ]
  },
  {
   "cell_type": "code",
   "execution_count": 32,
   "metadata": {
    "collapsed": false,
    "slideshow": {
     "slide_type": "fragment"
    }
   },
   "outputs": [
    {
     "data": {
      "text/plain": [
       "2-element Array{Float64,1}:\n",
       " 95.0\n",
       " 99.0"
      ]
     },
     "execution_count": 32,
     "metadata": {},
     "output_type": "execute_result"
    }
   ],
   "source": [
    "identidad[2:3] # Es posible acceder usando rangos start:end"
   ]
  },
  {
   "cell_type": "code",
   "execution_count": 33,
   "metadata": {
    "collapsed": false,
    "slideshow": {
     "slide_type": "fragment"
    }
   },
   "outputs": [
    {
     "data": {
      "text/plain": [
       "4-element Array{Float64,1}:\n",
       "  62.0\n",
       "  95.0\n",
       "  99.0\n",
       " 100.0"
      ]
     },
     "execution_count": 33,
     "metadata": {},
     "output_type": "execute_result"
    }
   ],
   "source": [
    "identidad[end] = 100 # Es posible asignar un elemento a un índice en particular, \"end\" permite obtener el último ítem\n",
    "identidad"
   ]
  },
  {
   "cell_type": "markdown",
   "metadata": {
    "slideshow": {
     "slide_type": "slide"
    }
   },
   "source": [
    "Es posible indexar un array usando otro array, por ejemplo usando arrays lógicos"
   ]
  },
  {
   "cell_type": "code",
   "execution_count": 34,
   "metadata": {
    "collapsed": false,
    "slideshow": {
     "slide_type": "fragment"
    }
   },
   "outputs": [
    {
     "data": {
      "text/plain": [
       "4-element BitArray{1}:\n",
       " false\n",
       " false\n",
       "  true\n",
       "  true"
      ]
     },
     "execution_count": 34,
     "metadata": {},
     "output_type": "execute_result"
    }
   ],
   "source": [
    "usar = identidad .> 95.0 # .> compara el array elemento a elemento"
   ]
  },
  {
   "cell_type": "code",
   "execution_count": 35,
   "metadata": {
    "collapsed": false,
    "slideshow": {
     "slide_type": "fragment"
    }
   },
   "outputs": [
    {
     "data": {
      "text/plain": [
       "2-element Array{Float64,1}:\n",
       "  99.0\n",
       " 100.0"
      ]
     },
     "execution_count": 35,
     "metadata": {},
     "output_type": "execute_result"
    }
   ],
   "source": [
    "identidad[ usar ]"
   ]
  },
  {
   "cell_type": "markdown",
   "metadata": {
    "slideshow": {
     "slide_type": "slide"
    }
   },
   "source": [
    "Existen varias *dequeue functions* en Julia. Dado que modifican el array que reciben, por convención sus nombres terminan en `!`, por ejemplo:\n",
    "```\n",
    "push! # Al final del array\n",
    "pop!\n",
    "\n",
    "shift! # Al inicio del array\n",
    "unshift!\n",
    "\n",
    "splice! # Toma un valor dentro del array\n",
    "```"
   ]
  },
  {
   "cell_type": "code",
   "execution_count": 36,
   "metadata": {
    "collapsed": false,
    "slideshow": {
     "slide_type": "fragment"
    }
   },
   "outputs": [
    {
     "data": {
      "text/plain": [
       "5-element Array{Float64,1}:\n",
       "  62.0\n",
       "  95.0\n",
       "  99.0\n",
       " 100.0\n",
       "  30.0"
      ]
     },
     "execution_count": 36,
     "metadata": {},
     "output_type": "execute_result"
    }
   ],
   "source": [
    "push!(identidad, 30)\n",
    "identidad"
   ]
  },
  {
   "cell_type": "markdown",
   "metadata": {
    "slideshow": {
     "slide_type": "slide"
    }
   },
   "source": [
    "## Arrays multidimensionales"
   ]
  },
  {
   "cell_type": "code",
   "execution_count": 37,
   "metadata": {
    "collapsed": false,
    "slideshow": {
     "slide_type": "fragment"
    }
   },
   "outputs": [
    {
     "data": {
      "text/plain": [
       "2×2 Array{Float64,2}:\n",
       " 0.5  0.6\n",
       " 0.7  0.8"
      ]
     },
     "execution_count": 37,
     "metadata": {},
     "output_type": "execute_result"
    }
   ],
   "source": [
    "matrix = [ 0.5 0.6 \n",
    "           0.7 0.8 ]"
   ]
  },
  {
   "cell_type": "code",
   "execution_count": 38,
   "metadata": {
    "collapsed": false,
    "slideshow": {
     "slide_type": "fragment"
    }
   },
   "outputs": [
    {
     "data": {
      "text/plain": [
       "0.7"
      ]
     },
     "execution_count": 38,
     "metadata": {},
     "output_type": "execute_result"
    }
   ],
   "source": [
    "matrix[2,1] # Fila 2, Columna 1"
   ]
  },
  {
   "cell_type": "code",
   "execution_count": 39,
   "metadata": {
    "collapsed": false,
    "slideshow": {
     "slide_type": "fragment"
    }
   },
   "outputs": [
    {
     "data": {
      "text/plain": [
       "0.6"
      ]
     },
     "execution_count": 39,
     "metadata": {},
     "output_type": "execute_result"
    }
   ],
   "source": [
    "matrix[3] # La matriz se almacena de manera continua en memoria; column-major order."
   ]
  },
  {
   "cell_type": "markdown",
   "metadata": {
    "slideshow": {
     "slide_type": "slide"
    }
   },
   "source": [
    "# Dicts\n",
    "\n",
    "**Dict** es a **Julia** lo que un hash es a *Perl* o un *dict* a *Python*. Una manera de almacenar datos asociados. `Dict` es también un tipo de dato paramétrico determinado por el tipo de sus llaves (`keys`) y valores (`values`)."
   ]
  },
  {
   "cell_type": "code",
   "execution_count": 40,
   "metadata": {
    "collapsed": false,
    "slideshow": {
     "slide_type": "fragment"
    }
   },
   "outputs": [
    {
     "data": {
      "text/plain": [
       "Dict{Char,Int64} with 2 entries:\n",
       "  'A' => 1\n",
       "  'B' => 2"
      ]
     },
     "execution_count": 40,
     "metadata": {},
     "output_type": "execute_result"
    }
   ],
   "source": [
    "dict = Dict('A'=>1, 'B'=>2)"
   ]
  },
  {
   "cell_type": "code",
   "execution_count": 41,
   "metadata": {
    "collapsed": false
   },
   "outputs": [
    {
     "data": {
      "text/plain": [
       "1"
      ]
     },
     "execution_count": 41,
     "metadata": {},
     "output_type": "execute_result"
    }
   ],
   "source": [
    "dict['A'] # Accede al valor de la llave 'A'"
   ]
  },
  {
   "cell_type": "code",
   "execution_count": 42,
   "metadata": {
    "collapsed": false,
    "slideshow": {
     "slide_type": "fragment"
    }
   },
   "outputs": [
    {
     "data": {
      "text/plain": [
       "Dict{Char,Int64} with 3 entries:\n",
       "  'A' => 10\n",
       "  'B' => 2\n",
       "  'C' => 30"
      ]
     },
     "execution_count": 42,
     "metadata": {},
     "output_type": "execute_result"
    }
   ],
   "source": [
    "dict['C'] = 30 # Agrega un nuevo par (Pair) llave => valor al diccionario\n",
    "dict['A'] = 10 # Si la llave ya existe, el valor es reemplazado\n",
    "dict"
   ]
  },
  {
   "cell_type": "code",
   "execution_count": 43,
   "metadata": {
    "collapsed": false,
    "slideshow": {
     "slide_type": "slide"
    }
   },
   "outputs": [
    {
     "ename": "LoadError",
     "evalue": "KeyError: key 'D' not found",
     "output_type": "error",
     "traceback": [
      "KeyError: key 'D' not found",
      "",
      " in getindex(::Dict{Char,Int64}, ::Char) at ./dict.jl:688"
     ]
    }
   ],
   "source": [
    "dict['D'] # Error: 'D' no está en map"
   ]
  },
  {
   "cell_type": "code",
   "execution_count": 44,
   "metadata": {
    "collapsed": false,
    "slideshow": {
     "slide_type": "fragment"
    }
   },
   "outputs": [
    {
     "data": {
      "text/plain": [
       "0"
      ]
     },
     "execution_count": 44,
     "metadata": {},
     "output_type": "execute_result"
    }
   ],
   "source": [
    "get(dict, 'D', 0) # Es posible usar get para definir un valor default que evite el error"
   ]
  },
  {
   "cell_type": "code",
   "execution_count": 45,
   "metadata": {
    "collapsed": false,
    "slideshow": {
     "slide_type": "fragment"
    }
   },
   "outputs": [
    {
     "data": {
      "text/plain": [
       "Dict{Char,Int64} with 3 entries:\n",
       "  'A' => 10\n",
       "  'B' => 2\n",
       "  'C' => 30"
      ]
     },
     "execution_count": 45,
     "metadata": {},
     "output_type": "execute_result"
    }
   ],
   "source": [
    "dict"
   ]
  },
  {
   "cell_type": "code",
   "execution_count": 46,
   "metadata": {
    "collapsed": false,
    "slideshow": {
     "slide_type": "fragment"
    }
   },
   "outputs": [
    {
     "data": {
      "text/plain": [
       "Dict{Char,Int64} with 4 entries:\n",
       "  'A' => 10\n",
       "  'B' => 2\n",
       "  'C' => 30\n",
       "  'D' => 0"
      ]
     },
     "execution_count": 46,
     "metadata": {},
     "output_type": "execute_result"
    }
   ],
   "source": [
    "get!(dict, 'D', 0) # gest! es como get, pero agrega el valor si no se encuentra la llave\n",
    "dict"
   ]
  },
  {
   "cell_type": "markdown",
   "metadata": {
    "slideshow": {
     "slide_type": "slide"
    }
   },
   "source": [
    "Control de flujo\n",
    "================"
   ]
  },
  {
   "cell_type": "markdown",
   "metadata": {
    "slideshow": {
     "slide_type": "slide"
    }
   },
   "source": [
    "### If\n",
    "\n",
    "Evaluación condicional"
   ]
  },
  {
   "cell_type": "code",
   "execution_count": 47,
   "metadata": {
    "collapsed": false,
    "slideshow": {
     "slide_type": "fragment"
    }
   },
   "outputs": [
    {
     "data": {
      "text/plain": [
       "73.05181039527461"
      ]
     },
     "execution_count": 47,
     "metadata": {},
     "output_type": "execute_result"
    }
   ],
   "source": [
    "identidad = rand() * 100.0"
   ]
  },
  {
   "cell_type": "code",
   "execution_count": 48,
   "metadata": {
    "collapsed": false,
    "slideshow": {
     "slide_type": "fragment"
    }
   },
   "outputs": [
    {
     "name": "stdout",
     "output_type": "stream",
     "text": [
      "Homólogas\n"
     ]
    }
   ],
   "source": [
    "if identidad == 100.0\n",
    "    println(\"Idénticas\")\n",
    "elseif identidad >= 30 # Opcional\n",
    "    println(\"Homólogas\")\n",
    "else  # Opcional\n",
    "    println(\"Twilight\")\n",
    "end"
   ]
  },
  {
   "cell_type": "markdown",
   "metadata": {
    "slideshow": {
     "slide_type": "slide"
    }
   },
   "source": [
    "## Loops"
   ]
  },
  {
   "cell_type": "code",
   "execution_count": 49,
   "metadata": {
    "collapsed": false
   },
   "outputs": [
    {
     "data": {
      "text/plain": [
       "7-element Array{String,1}:\n",
       " \"benchmark.csv\"         \n",
       " \"Empty.fasta\"           \n",
       " \"iris.csv\"              \n",
       " \"out.fas\"               \n",
       " \"PF09645_full.fasta\"    \n",
       " \"PF09645_full.stockholm\"\n",
       " \"py_out.fas\"            "
      ]
     },
     "execution_count": 49,
     "metadata": {},
     "output_type": "execute_result"
    }
   ],
   "source": [
    "carpeta = \"data\"\n",
    "archivos = readdir(carpeta)"
   ]
  },
  {
   "cell_type": "code",
   "execution_count": 50,
   "metadata": {
    "collapsed": false,
    "slideshow": {
     "slide_type": "fragment"
    }
   },
   "outputs": [
    {
     "name": "stdout",
     "output_type": "stream",
     "text": [
      "benchmark.csv\n",
      "Empty.fasta\n",
      "iris.csv\n",
      "out.fas\n",
      "PF09645_full.fasta\n",
      "PF09645_full.stockholm\n",
      "py_out.fas\n"
     ]
    }
   ],
   "source": [
    "i = 1\n",
    "while i <= length(archivos)\n",
    "    println(archivos[i])\n",
    "    i += 1 # i = i + 1\n",
    "end"
   ]
  },
  {
   "cell_type": "code",
   "execution_count": 51,
   "metadata": {
    "collapsed": false,
    "slideshow": {
     "slide_type": "fragment"
    }
   },
   "outputs": [
    {
     "name": "stdout",
     "output_type": "stream",
     "text": [
      "benchmark.csv\n",
      "Empty.fasta\n",
      "iris.csv\n",
      "out.fas\n",
      "PF09645_full.fasta\n",
      "PF09645_full.stockholm\n",
      "py_out.fas\n"
     ]
    }
   ],
   "source": [
    "for archivo in archivos # for numero = numeros\n",
    "    println(archivo)\n",
    "end"
   ]
  },
  {
   "cell_type": "markdown",
   "metadata": {
    "slideshow": {
     "slide_type": "slide"
    }
   },
   "source": [
    "En Julia los `for`s son reescritos como `while`s, usando las funciones `start` para inicializar la iteración, `done` para testear si se alcanzó el final de la iteración y `next`para obtener el valor de la iteración y el del próximo estado. Uno puede definir estas funciones para cualquier tipo propio que quiera hacer iterable. "
   ]
  },
  {
   "cell_type": "code",
   "execution_count": 52,
   "metadata": {
    "collapsed": false,
    "slideshow": {
     "slide_type": "fragment"
    }
   },
   "outputs": [
    {
     "name": "stdout",
     "output_type": "stream",
     "text": [
      "benchmark.csv\n",
      "Empty.fasta\n",
      "iris.csv\n",
      "out.fas\n",
      "PF09645_full.fasta\n",
      "PF09645_full.stockholm\n",
      "py_out.fas\n"
     ]
    }
   ],
   "source": [
    "state = start(archivos) # state = 1\n",
    "while !done(archivos, state) # !( state > length(archivos) )\n",
    "    (archivo, state) = next(archivos, state) # archivos[state], state + 1\n",
    "    println(archivo)\n",
    "end"
   ]
  },
  {
   "cell_type": "markdown",
   "metadata": {
    "slideshow": {
     "slide_type": "slide"
    }
   },
   "source": [
    "### *List comprehension* como en *Python*  "
   ]
  },
  {
   "cell_type": "code",
   "execution_count": 55,
   "metadata": {
    "collapsed": false,
    "slideshow": {
     "slide_type": "fragment"
    }
   },
   "outputs": [
    {
     "data": {
      "text/plain": [
       "7-element Array{Int64,1}:\n",
       "  571\n",
       "    0\n",
       " 4164\n",
       "  555\n",
       "  558\n",
       " 1277\n",
       "  559"
      ]
     },
     "execution_count": 55,
     "metadata": {},
     "output_type": "execute_result"
    }
   ],
   "source": [
    "len = length(archivos) \n",
    "lista = Array(Int, len)\n",
    "\n",
    "for i in 1:len\n",
    "    lista[i] = filesize(joinpath(carpeta, archivos[i])) # Tamaño en bytes\n",
    "end\n",
    "\n",
    "lista"
   ]
  },
  {
   "cell_type": "code",
   "execution_count": 56,
   "metadata": {
    "collapsed": false,
    "slideshow": {
     "slide_type": "fragment"
    }
   },
   "outputs": [
    {
     "data": {
      "text/plain": [
       "7-element Array{Int64,1}:\n",
       "  571\n",
       "    0\n",
       " 4164\n",
       "  555\n",
       "  558\n",
       " 1277\n",
       "  559"
      ]
     },
     "execution_count": 56,
     "metadata": {},
     "output_type": "execute_result"
    }
   ],
   "source": [
    "lista = [ filesize(joinpath(carpeta, nombre)) for nombre in archivos ]"
   ]
  },
  {
   "cell_type": "code",
   "execution_count": 57,
   "metadata": {
    "collapsed": false
   },
   "outputs": [
    {
     "data": {
      "text/plain": [
       "2-element Array{Int64,1}:\n",
       "   0\n",
       " 558"
      ]
     },
     "execution_count": 57,
     "metadata": {},
     "output_type": "execute_result"
    }
   ],
   "source": [
    "lista = [ filesize(joinpath(carpeta, nombre)) for nombre in archivos if endswith(nombre,\".fasta\") ]"
   ]
  },
  {
   "cell_type": "markdown",
   "metadata": {
    "slideshow": {
     "slide_type": "slide"
    }
   },
   "source": [
    "Strings\n",
    "======="
   ]
  },
  {
   "cell_type": "markdown",
   "metadata": {
    "slideshow": {
     "slide_type": "fragment"
    }
   },
   "source": [
    "Los *strings* son secuencias finitas de *caracteres*. En sus principios la *bioinformática* se trató del análisis de secuencias de caracteres (utilizando la codificación *ASCII* de *8 bits*), lo que hizo popular a **Perl** en el área.\n",
    "**Julia**, al igual que Perl, tiene un buen soporte para *strings*:"
   ]
  },
  {
   "cell_type": "code",
   "execution_count": 58,
   "metadata": {
    "collapsed": false,
    "slideshow": {
     "slide_type": "slide"
    }
   },
   "outputs": [
    {
     "data": {
      "text/plain": [
       "\"∃x ∈ B ∧ x ∈ A\""
      ]
     },
     "execution_count": 58,
     "metadata": {},
     "output_type": "execute_result"
    }
   ],
   "source": [
    "cadena = \"∃x ∈ B ∧ x ∈ A\""
   ]
  },
  {
   "cell_type": "code",
   "execution_count": 59,
   "metadata": {
    "collapsed": false,
    "slideshow": {
     "slide_type": "fragment"
    }
   },
   "outputs": [
    {
     "data": {
      "text/plain": [
       "String"
      ]
     },
     "execution_count": 59,
     "metadata": {},
     "output_type": "execute_result"
    }
   ],
   "source": [
    "typeof(cadena)"
   ]
  },
  {
   "cell_type": "markdown",
   "metadata": {
    "slideshow": {
     "slide_type": "slide"
    }
   },
   "source": [
    "Es seguro iterar sobre un string (inmutable) para obtener sus caracteres. Si se quiere obtener un `Vector{Char}` (`Array` de una dimensión, mutable) se puede usar list comprehension o la función `collect`."
   ]
  },
  {
   "cell_type": "code",
   "execution_count": 61,
   "metadata": {
    "collapsed": false,
    "slideshow": {
     "slide_type": "fragment"
    }
   },
   "outputs": [
    {
     "name": "stdout",
     "output_type": "stream",
     "text": [
      "∃x ∈ B ∧ x ∈ A"
     ]
    }
   ],
   "source": [
    "for char in cadena\n",
    "    print(char)\n",
    "end"
   ]
  },
  {
   "cell_type": "code",
   "execution_count": 63,
   "metadata": {
    "collapsed": false,
    "slideshow": {
     "slide_type": "fragment"
    }
   },
   "outputs": [
    {
     "data": {
      "text/plain": [
       "14-element Array{Char,1}:\n",
       " '∃'\n",
       " 'x'\n",
       " ' '\n",
       " '∈'\n",
       " ' '\n",
       " 'B'\n",
       " ' '\n",
       " '∧'\n",
       " ' '\n",
       " 'x'\n",
       " ' '\n",
       " '∈'\n",
       " ' '\n",
       " 'A'"
      ]
     },
     "execution_count": 63,
     "metadata": {},
     "output_type": "execute_result"
    }
   ],
   "source": [
    "collect(cadena) # [ char for char in cadena ]"
   ]
  },
  {
   "cell_type": "markdown",
   "metadata": {
    "slideshow": {
     "slide_type": "slide"
    }
   },
   "source": [
    "Sin embargo, acceder directamente a un string como si fuera un array no es una acción segura dado que un carácter puede estar codificado por más de un valor de 8 bits. Sólo es seguro hacer eso si la codificación es ASCII, dado que cada carácter está codificado por un sólo número entero de 8 bits. Pero no es seguro hacerlo para otras codificación. Por ejemplo, la codificación *UTF-8* de ∃ (`\\exists<tab>` en la consola) requiere de tres valores de 8 bits: "
   ]
  },
  {
   "cell_type": "code",
   "execution_count": 65,
   "metadata": {
    "collapsed": false,
    "slideshow": {
     "slide_type": "fragment"
    }
   },
   "outputs": [
    {
     "data": {
      "text/plain": [
       "false"
      ]
     },
     "execution_count": 65,
     "metadata": {},
     "output_type": "execute_result"
    }
   ],
   "source": [
    "isascii(cadena)"
   ]
  },
  {
   "cell_type": "code",
   "execution_count": 67,
   "metadata": {
    "collapsed": false,
    "slideshow": {
     "slide_type": "fragment"
    }
   },
   "outputs": [
    {
     "name": "stdout",
     "output_type": "stream",
     "text": [
      "1 ∃\n",
      "2 UnicodeError: invalid character index\n",
      "3 UnicodeError: invalid character index\n",
      "4 x\n",
      "5  \n",
      "6 ∈\n",
      "7 UnicodeError: invalid character index\n",
      "8 UnicodeError: invalid character index\n",
      "9  \n",
      "10 B\n",
      "11  \n",
      "12 ∧\n",
      "13 UnicodeError: invalid character index\n",
      "14 UnicodeError: invalid character index\n"
     ]
    }
   ],
   "source": [
    "for i in 1:length(cadena)\n",
    "    try\n",
    "        println(i, \" \", cadena[i])\n",
    "    catch err\n",
    "        println(i, \" \", err) # Error al acceder cadena_unicode[i]\n",
    "    end\n",
    "end"
   ]
  },
  {
   "cell_type": "markdown",
   "metadata": {
    "slideshow": {
     "slide_type": "slide"
    }
   },
   "source": [
    "## Regex: Regular Expression\n",
    "\n",
    "Las expresiones regulares de **Julia** se escriben igual a las de **Perl**, dado que Julia utiliza la biblioteca **PCRE2** (*Perl Compatible Regular Expressions*)."
   ]
  },
  {
   "cell_type": "code",
   "execution_count": 68,
   "metadata": {
    "collapsed": false,
    "slideshow": {
     "slide_type": "fragment"
    }
   },
   "outputs": [
    {
     "data": {
      "text/plain": [
       "r\"\\.fasta$\""
      ]
     },
     "execution_count": 68,
     "metadata": {},
     "output_type": "execute_result"
    }
   ],
   "source": [
    "ext_fasta = r\"\\.fasta$\" # r\"... permite escribir una expresión regular"
   ]
  },
  {
   "cell_type": "code",
   "execution_count": 69,
   "metadata": {
    "collapsed": false,
    "slideshow": {
     "slide_type": "fragment"
    }
   },
   "outputs": [
    {
     "data": {
      "text/plain": [
       "Regex"
      ]
     },
     "execution_count": 69,
     "metadata": {},
     "output_type": "execute_result"
    }
   ],
   "source": [
    "typeof(ext_fasta)"
   ]
  },
  {
   "cell_type": "code",
   "execution_count": 70,
   "metadata": {
    "collapsed": false,
    "slideshow": {
     "slide_type": "fragment"
    }
   },
   "outputs": [
    {
     "name": "stdout",
     "output_type": "stream",
     "text": [
      "benchmark.csv\t:\tfalse\n",
      "Empty.fasta\t:\ttrue\n",
      "iris.csv\t:\tfalse\n",
      "out.fas\t:\tfalse\n",
      "PF09645_full.fasta\t:\ttrue\n",
      "PF09645_full.stockholm\t:\tfalse\n",
      "py_out.fas\t:\tfalse\n"
     ]
    }
   ],
   "source": [
    "for nombre in archivos\n",
    "    println(nombre, \"\\t:\\t\", ismatch(ext_fasta, nombre)) # ismatch es true si la regex está en el string\n",
    "end"
   ]
  },
  {
   "cell_type": "code",
   "execution_count": 71,
   "metadata": {
    "collapsed": false,
    "slideshow": {
     "slide_type": "fragment"
    }
   },
   "outputs": [
    {
     "data": {
      "text/plain": [
       "true"
      ]
     },
     "execution_count": 71,
     "metadata": {},
     "output_type": "execute_result"
    }
   ],
   "source": [
    "ismatch(r\"^>\\w{4}\\.\\w\", \">2trx.A\")"
   ]
  },
  {
   "cell_type": "markdown",
   "metadata": {
    "slideshow": {
     "slide_type": "slide"
    }
   },
   "source": [
    "### Capturando strings con expresiones regulares"
   ]
  },
  {
   "cell_type": "code",
   "execution_count": 72,
   "metadata": {
    "collapsed": false,
    "slideshow": {
     "slide_type": "fragment"
    }
   },
   "outputs": [
    {
     "data": {
      "text/plain": [
       "RegexMatch(\">2trx.A\", 1=\"2trx\", 2=\"A\")"
      ]
     },
     "execution_count": 72,
     "metadata": {},
     "output_type": "execute_result"
    }
   ],
   "source": [
    "captura = match(r\"^>(\\w{4})\\.(\\w)\", \">2trx.A\")"
   ]
  },
  {
   "cell_type": "code",
   "execution_count": 73,
   "metadata": {
    "collapsed": false,
    "slideshow": {
     "slide_type": "fragment"
    }
   },
   "outputs": [
    {
     "name": "stdout",
     "output_type": "stream",
     "text": [
      "PDB\t2trx\n",
      "Cadena\tA\n"
     ]
    }
   ],
   "source": [
    "if captura != nothing\n",
    "    println(\"PDB\\t\", captura[1]) # captura[1] == captura.captures[1]\n",
    "    println(\"Cadena\\t\", captura[2])\n",
    "else\n",
    "    println(\"No es un PDB ID\")\n",
    "end"
   ]
  },
  {
   "cell_type": "code",
   "execution_count": 74,
   "metadata": {
    "collapsed": false,
    "slideshow": {
     "slide_type": "fragment"
    }
   },
   "outputs": [],
   "source": [
    "captura = match(r\"^>(\\w{4})\\.(\\w)\", \">PF00085\") # nothing no imprime nada en pantalla"
   ]
  },
  {
   "cell_type": "code",
   "execution_count": 75,
   "metadata": {
    "collapsed": false,
    "slideshow": {
     "slide_type": "fragment"
    }
   },
   "outputs": [
    {
     "name": "stdout",
     "output_type": "stream",
     "text": [
      "No cumple con el formato de pdb.cadena\n"
     ]
    }
   ],
   "source": [
    "if captura != nothing\n",
    "    println(\"PDB\\t\", captura[1])\n",
    "    println(\"Cadena\\t\", captura[2])\n",
    "else\n",
    "    println(\"No cumple con el formato de pdb.cadena\")\n",
    "end"
   ]
  },
  {
   "cell_type": "markdown",
   "metadata": {
    "slideshow": {
     "slide_type": "slide"
    }
   },
   "source": [
    "## Interpolation\n",
    "\n",
    "La interpolación de cadenas en Julia está basada e inspirada en la interpolación de **Perl**. De hecho, se utiliza el mismo símbolo: `\\$`"
   ]
  },
  {
   "cell_type": "code",
   "execution_count": 76,
   "metadata": {
    "collapsed": false,
    "slideshow": {
     "slide_type": "fragment"
    }
   },
   "outputs": [
    {
     "data": {
      "text/plain": [
       "\"Su dado es 5, mientras el dado de IJulia es 1: usted gana\""
      ]
     },
     "execution_count": 76,
     "metadata": {},
     "output_type": "execute_result"
    }
   ],
   "source": [
    "A, B = rand(1:6), rand(1:6)\n",
    "\n",
    "\"Su dado es $A, mientras el dado de IJulia es $B: $( A > B ? \"usted gana\" : A != B ? \"IJulia gana\" : \"empate\")\""
   ]
  },
  {
   "cell_type": "markdown",
   "metadata": {
    "slideshow": {
     "slide_type": "slide"
    }
   },
   "source": [
    "## Lectura/Escritura de archivos\n",
    "\n",
    "Para abrir un archivo se utiliza la función `open` (modos `r` para leer, `w` para escribir y `a` para agregar) y `close` para cerrarlo.\n"
   ]
  },
  {
   "cell_type": "code",
   "execution_count": 77,
   "metadata": {
    "collapsed": false,
    "slideshow": {
     "slide_type": "fragment"
    }
   },
   "outputs": [
    {
     "data": {
      "text/plain": [
       "IOStream(<file data/PF09645_full.fasta>)"
      ]
     },
     "execution_count": 77,
     "metadata": {},
     "output_type": "execute_result"
    }
   ],
   "source": [
    "stream = open(\"data/PF09645_full.fasta\", \"r\")"
   ]
  },
  {
   "cell_type": "code",
   "execution_count": 78,
   "metadata": {
    "collapsed": false,
    "slideshow": {
     "slide_type": "fragment"
    }
   },
   "outputs": [
    {
     "name": "stdout",
     "output_type": "stream",
     "text": [
      ">C3N734_SULIY/1-95\n",
      "...mp---NSYQMAEIMYKILQQKKEISLEDILAQFEISASTAYNVQRTLRMICEKHPDE\n",
      "CEVQTKNRRTIFKWIKNEETTEEGQEE--QEIEKILNAQPAE-------------k....\n",
      ">H2C869_9CREN/7-104\n",
      "...nk--LNDVQRAKLLVKILQAKGELDVYDIMLQFEISYTRAIPIMKLTRKICEAQ-EI\n",
      "CTYDEKEHKLVSLNAKKEKVEQDEEENEREEIEKILDAH----------------trreq\n",
      ">Y070_ATV/2-70\n",
      "qsvne-------VAQQLFSKLREKKEITAEDIIAIYNVTPSVAYAIFTVLKVMCQQHQGE\n",
      "CQAIKRGRKTVI-------------------------------------------vskq.\n",
      ">F112_SSV1/3-112\n",
      ".....QTLNSYKMAEIMYKILEKKGELTLEDILAQFEISVPSAYNIQRALKAICERHPDE\n",
      "CEVQYKNRKTTFKWIKQEQKEEQKQEQTQDNIAKIFDAQPANFEQTDQGFIKAKQ....."
     ]
    }
   ],
   "source": [
    "for line in eachline(stream) # Itero para cada línea (incluye '\\n')\n",
    "    print(line) # como println pero no agrega un salto de línea\n",
    "end"
   ]
  },
  {
   "cell_type": "code",
   "execution_count": 79,
   "metadata": {
    "collapsed": false,
    "slideshow": {
     "slide_type": "fragment"
    }
   },
   "outputs": [],
   "source": [
    "close(stream)"
   ]
  },
  {
   "cell_type": "markdown",
   "metadata": {
    "slideshow": {
     "slide_type": "slide"
    }
   },
   "source": [
    "*open( … ) do …* asegura que el archivo se cierre si ocurre algún error (implementa un *try/catch*)"
   ]
  },
  {
   "cell_type": "code",
   "execution_count": 80,
   "metadata": {
    "collapsed": false,
    "slideshow": {
     "slide_type": "fragment"
    }
   },
   "outputs": [
    {
     "name": "stdout",
     "output_type": "stream",
     "text": [
      ">C3N734_SULIY/1-95\n",
      "...mp---NSYQMAEIMYKILQQKKEISLEDILAQFEISASTAYNVQRTLRMICEKHPDE\n",
      "CEVQTKNRRTIFKWIKNEETTEEGQEE--QEIEKILNAQPAE-------------k....\n",
      ">H2C869_9CREN/7-104\n",
      "...nk--LNDVQRAKLLVKILQAKGELDVYDIMLQFEISYTRAIPIMKLTRKICEAQ-EI\n",
      "CTYDEKEHKLVSLNAKKEKVEQDEEENEREEIEKILDAH----------------trreq\n",
      ">Y070_ATV/2-70\n",
      "qsvne-------VAQQLFSKLREKKEITAEDIIAIYNVTPSVAYAIFTVLKVMCQQHQGE\n",
      "CQAIKRGRKTVI-------------------------------------------vskq.\n",
      ">F112_SSV1/3-112\n",
      ".....QTLNSYKMAEIMYKILEKKGELTLEDILAQFEISVPSAYNIQRALKAICERHPDE\n",
      "CEVQYKNRKTTFKWIKQEQKEEQKQEQTQDNIAKIFDAQPANFEQTDQGFIKAKQ....."
     ]
    }
   ],
   "source": [
    "open(\"data/PF09645_full.fasta\", \"r\") do stream\n",
    "    for line in eachline(stream)\n",
    "        print(line)\n",
    "    end\n",
    "end    "
   ]
  },
  {
   "cell_type": "markdown",
   "metadata": {
    "slideshow": {
     "slide_type": "slide"
    }
   },
   "source": [
    "Funciones\n",
    "========="
   ]
  },
  {
   "cell_type": "code",
   "execution_count": 85,
   "metadata": {
    "collapsed": false,
    "slideshow": {
     "slide_type": "slide"
    }
   },
   "outputs": [
    {
     "data": {
      "text/plain": [
       "listar_alineamientos (generic function with 2 methods)"
      ]
     },
     "execution_count": 85,
     "metadata": {},
     "output_type": "execute_result"
    }
   ],
   "source": [
    "function listar_alineamientos(direccion, extension::Regex=r\"\\.fasta$\"; vacios::Bool=false)\n",
    "    alns = String[]\n",
    "    for nombre in readdir(direccion)\n",
    "        if ismatch(extension, nombre)\n",
    "           \n",
    "            if vacios || filesize(joinpath(direccion, nombre)) >0\n",
    "                push!(alns, nombre)\n",
    "            end\n",
    "            \n",
    "        end\n",
    "    end   \n",
    "    alns\n",
    "end"
   ]
  },
  {
   "cell_type": "code",
   "execution_count": 86,
   "metadata": {
    "collapsed": false,
    "slideshow": {
     "slide_type": "fragment"
    }
   },
   "outputs": [
    {
     "data": {
      "text/html": [
       "2 methods for generic function <b>listar_alineamientos</b>:<ul><li> listar_alineamientos(direccion) at In[85]:2</li> <li> listar_alineamientos(direccion, extension::<b>Regex</b>; <i>vacios</i>) at In[85]:2</li> </ul>"
      ],
      "text/plain": [
       "# 2 methods for generic function \"listar_alineamientos\":\n",
       "listar_alineamientos(direccion) at In[85]:2\n",
       "listar_alineamientos(direccion, extension::Regex; vacios) at In[85]:2"
      ]
     },
     "execution_count": 86,
     "metadata": {},
     "output_type": "execute_result"
    }
   ],
   "source": [
    "methods(listar_alineamientos)"
   ]
  },
  {
   "cell_type": "code",
   "execution_count": 87,
   "metadata": {
    "collapsed": false,
    "slideshow": {
     "slide_type": "slide"
    }
   },
   "outputs": [
    {
     "data": {
      "text/plain": [
       "1-element Array{String,1}:\n",
       " \"PF09645_full.fasta\""
      ]
     },
     "execution_count": 87,
     "metadata": {},
     "output_type": "execute_result"
    }
   ],
   "source": [
    "listar_alineamientos(\"data\")"
   ]
  },
  {
   "cell_type": "code",
   "execution_count": 88,
   "metadata": {
    "collapsed": false,
    "slideshow": {
     "slide_type": "fragment"
    }
   },
   "outputs": [
    {
     "data": {
      "text/plain": [
       "2-element Array{String,1}:\n",
       " \"Empty.fasta\"       \n",
       " \"PF09645_full.fasta\""
      ]
     },
     "execution_count": 88,
     "metadata": {},
     "output_type": "execute_result"
    }
   ],
   "source": [
    "listar_alineamientos(\"data\", vacios=true)"
   ]
  },
  {
   "cell_type": "code",
   "execution_count": 89,
   "metadata": {
    "collapsed": false,
    "slideshow": {
     "slide_type": "slide"
    }
   },
   "outputs": [
    {
     "data": {
      "text/plain": [
       "1-element Array{String,1}:\n",
       " \"PF09645_full.stockholm\""
      ]
     },
     "execution_count": 89,
     "metadata": {},
     "output_type": "execute_result"
    }
   ],
   "source": [
    "listar_alineamientos(\"data\", r\"\\.stockholm$\")"
   ]
  },
  {
   "cell_type": "code",
   "execution_count": 92,
   "metadata": {
    "collapsed": false,
    "slideshow": {
     "slide_type": "fragment"
    }
   },
   "outputs": [
    {
     "data": {
      "text/plain": [
       "listarstockholm (generic function with 1 method)"
      ]
     },
     "execution_count": 92,
     "metadata": {},
     "output_type": "execute_result"
    }
   ],
   "source": [
    "listarstockholm(carpeta) = listar_alineamientos(carpeta, r\"\\.stockholm$\")"
   ]
  },
  {
   "cell_type": "code",
   "execution_count": 93,
   "metadata": {
    "collapsed": false,
    "slideshow": {
     "slide_type": "fragment"
    }
   },
   "outputs": [
    {
     "data": {
      "text/plain": [
       "1-element Array{String,1}:\n",
       " \"PF09645_full.stockholm\""
      ]
     },
     "execution_count": 93,
     "metadata": {},
     "output_type": "execute_result"
    }
   ],
   "source": [
    "listarstockholm(\"data\")"
   ]
  },
  {
   "cell_type": "markdown",
   "metadata": {
    "slideshow": {
     "slide_type": "slide"
    }
   },
   "source": [
    "# Documentación: *doctrings*"
   ]
  },
  {
   "cell_type": "code",
   "execution_count": 94,
   "metadata": {
    "collapsed": false,
    "slideshow": {
     "slide_type": "fragment"
    }
   },
   "outputs": [
    {
     "data": {
      "text/plain": [
       "Σ_simd!"
      ]
     },
     "execution_count": 94,
     "metadata": {},
     "output_type": "execute_result"
    }
   ],
   "source": [
    "\"\"\"\n",
    "Documentación de Σ!\n",
    "-------------------\n",
    "\n",
    "La manera más simple de agregar un **docstring** es escribirlo en un *string*, \n",
    "justo antes de la definición de la función.  \n",
    "\n",
    "**Se puede escribir en markdown!** 😄 ( ← *emoji* )\n",
    "\n",
    "Σ! ( *← unicode* ) tiene el **keyword argument** `valor` que por defecto vale 1.  \n",
    "\n",
    "Simplemente suma `valor` a cada elemento del vector.\n",
    "\"\"\"\n",
    "function Σ!{T}(vector::Vector{T}; valor::T=one(T))\n",
    "    N = length(vector)\n",
    "    for i in 1:N\n",
    "        vector[i] += 1\n",
    "    end\n",
    "    vector\n",
    "end\n",
    "\n",
    "\"Σ_simd! es como Σ!, pero usando `@simd` y `@inbounds` (*SIMD*: una instrucción, múltiples datos)\"\n",
    "function Σ_simd!{T}(vector::Vector{T}; valor::T=one(T))\n",
    "    N = length(vector)\n",
    "    @inbounds @simd for i in 1:N\n",
    "        vector[i] += 1\n",
    "    end\n",
    "    vector\n",
    "end"
   ]
  },
  {
   "cell_type": "code",
   "execution_count": 95,
   "metadata": {
    "collapsed": false,
    "slideshow": {
     "slide_type": "slide"
    }
   },
   "outputs": [
    {
     "name": "stdout",
     "output_type": "stream",
     "text": [
      "search:\n",
      "\n"
     ]
    },
    {
     "data": {
      "text/markdown": [
       "## Documentación de Σ!\n",
       "\n",
       "La manera más simple de agregar un **docstring** es escribirlo en un *string*,  justo antes de la definición de la función.  \n",
       "\n",
       "**Se puede escribir en markdown!** 😄 ( ← *emoji* )\n",
       "\n",
       "Σ! ( *← unicode* ) tiene el **keyword argument** `valor` que por defecto vale 1.  \n",
       "\n",
       "Simplemente suma `valor` a cada elemento del vector.\n"
      ],
      "text/plain": [
       "## Documentación de Σ!\n",
       "\n",
       "La manera más simple de agregar un **docstring** es escribirlo en un *string*,  justo antes de la definición de la función.  \n",
       "\n",
       "**Se puede escribir en markdown!** 😄 ( ← *emoji* )\n",
       "\n",
       "Σ! ( *← unicode* ) tiene el **keyword argument** `valor` que por defecto vale 1.  \n",
       "\n",
       "Simplemente suma `valor` a cada elemento del vector.\n"
      ]
     },
     "execution_count": 95,
     "metadata": {},
     "output_type": "execute_result"
    }
   ],
   "source": [
    "?Σ! "
   ]
  },
  {
   "cell_type": "code",
   "execution_count": 96,
   "metadata": {
    "collapsed": false,
    "slideshow": {
     "slide_type": "fragment"
    }
   },
   "outputs": [
    {
     "name": "stdout",
     "output_type": "stream",
     "text": [
      "search:\n",
      "\n"
     ]
    },
    {
     "data": {
      "text/markdown": [
       "Σ_simd! es como Σ!, pero usando `@simd` y `@inbounds` (*SIMD*: una instrucción, múltiples datos)\n"
      ],
      "text/plain": [
       "Σ_simd! es como Σ!, pero usando `@simd` y `@inbounds` (*SIMD*: una instrucción, múltiples datos)\n"
      ]
     },
     "execution_count": 96,
     "metadata": {},
     "output_type": "execute_result"
    }
   ],
   "source": [
    "?Σ_simd! "
   ]
  },
  {
   "cell_type": "markdown",
   "metadata": {
    "slideshow": {
     "slide_type": "slide"
    }
   },
   "source": [
    "## SIMD"
   ]
  },
  {
   "cell_type": "code",
   "execution_count": 99,
   "metadata": {
    "collapsed": false,
    "slideshow": {
     "slide_type": "-"
    }
   },
   "outputs": [],
   "source": [
    "vector = Array(Int, 200_000)\n",
    "; # Con ; no muestra/imprime la salida"
   ]
  },
  {
   "cell_type": "code",
   "execution_count": 100,
   "metadata": {
    "collapsed": false,
    "slideshow": {
     "slide_type": "-"
    }
   },
   "outputs": [
    {
     "data": {
      "text/plain": [
       "0.000142666"
      ]
     },
     "execution_count": 100,
     "metadata": {},
     "output_type": "execute_result"
    }
   ],
   "source": [
    "Σ!(vector) # compilar...\n",
    "\n",
    "@elapsed Σ!(vector)"
   ]
  },
  {
   "cell_type": "code",
   "execution_count": 101,
   "metadata": {
    "collapsed": false,
    "slideshow": {
     "slide_type": "-"
    }
   },
   "outputs": [
    {
     "data": {
      "text/plain": [
       "8.3178e-5"
      ]
     },
     "execution_count": 101,
     "metadata": {},
     "output_type": "execute_result"
    }
   ],
   "source": [
    "Σ_simd!(vector)\n",
    "\n",
    "@elapsed Σ_simd!(vector)"
   ]
  },
  {
   "cell_type": "markdown",
   "metadata": {
    "slideshow": {
     "slide_type": "slide"
    }
   },
   "source": [
    "# Ejecución fácil y segura de comando shell (*Bash*) desde Julia  "
   ]
  },
  {
   "cell_type": "code",
   "execution_count": 102,
   "metadata": {
    "collapsed": false,
    "slideshow": {
     "slide_type": "-"
    }
   },
   "outputs": [
    {
     "data": {
      "text/plain": [
       "\"data/benchmark.csv\""
      ]
     },
     "execution_count": 102,
     "metadata": {},
     "output_type": "execute_result"
    }
   ],
   "source": [
    "file = joinpath(\"data\", \"benchmark.csv\")"
   ]
  },
  {
   "cell_type": "code",
   "execution_count": 103,
   "metadata": {
    "collapsed": false,
    "slideshow": {
     "slide_type": "-"
    }
   },
   "outputs": [
    {
     "name": "stdout",
     "output_type": "stream",
     "text": [
      "Benchmark;Fortran;Julia;Python;R;Matlab;Octave;Mathematica;JavaScript;Go;LuaJIT;Java\n",
      "fib;0.70;2.11;77.76;533.52;26.89;9324.35;118.53;3.36;1.86;1.71;1.21\n",
      "parse_int;5.05;1.45;17.02;45.73;802.52;9581.44;15.02;6.06;1.20;5.77;3.35\n",
      "quicksort;1.31;1.15;32.89;264.54;4.92;1866.01;43.23;2.70;1.29;2.03;2.60\n",
      "mandel;0.81;0.79;15.32;53.16;7.58;451.81;5.13;0.66;1.11;0.67;1.35\n",
      "pi_sum;1.00;1.00;21.99;9.56;1.00;299.31;1.69;1.01;1.00;1.00;1.00\n",
      "rand_mat_stat;1.45;1.66;17.93;14.56;14.52;30.93;5.95;2.30;2.96;3.27;3.92\n",
      "rand_mat_mul;3.48;1.02;1.14;1.57;1.12;1.12;1.30;15.07;1.42;1.16;2.36\n"
     ]
    }
   ],
   "source": [
    "run(`cat $file`)"
   ]
  },
  {
   "cell_type": "code",
   "execution_count": 104,
   "metadata": {
    "collapsed": false,
    "slideshow": {
     "slide_type": "slide"
    }
   },
   "outputs": [
    {
     "data": {
      "text/plain": [
       "pipeline(pipeline(`cat data/benchmark.csv`, stdout=`grep -v Benchmark`), stdout=`wc -l`)"
      ]
     },
     "execution_count": 104,
     "metadata": {},
     "output_type": "execute_result"
    }
   ],
   "source": [
    "comandos = pipeline(`cat $file`, `grep -v Benchmark`, `wc -l`)"
   ]
  },
  {
   "cell_type": "code",
   "execution_count": 105,
   "metadata": {
    "collapsed": false,
    "slideshow": {
     "slide_type": "fragment"
    }
   },
   "outputs": [
    {
     "name": "stdout",
     "output_type": "stream",
     "text": [
      "7\n"
     ]
    }
   ],
   "source": [
    "run(comandos)"
   ]
  },
  {
   "cell_type": "code",
   "execution_count": 107,
   "metadata": {
    "collapsed": false,
    "slideshow": {
     "slide_type": "fragment"
    }
   },
   "outputs": [
    {
     "data": {
      "text/plain": [
       "\"7\\n\""
      ]
     },
     "execution_count": 107,
     "metadata": {},
     "output_type": "execute_result"
    }
   ],
   "source": [
    "readstring(comandos)"
   ]
  },
  {
   "cell_type": "markdown",
   "metadata": {
    "slideshow": {
     "slide_type": "slide"
    }
   },
   "source": [
    "# Paralelizar de manera sencilla"
   ]
  },
  {
   "cell_type": "code",
   "execution_count": 108,
   "metadata": {
    "collapsed": false,
    "slideshow": {
     "slide_type": "fragment"
    }
   },
   "outputs": [
    {
     "data": {
      "text/plain": [
       "1"
      ]
     },
     "execution_count": 108,
     "metadata": {},
     "output_type": "execute_result"
    }
   ],
   "source": [
    "nprocs()"
   ]
  },
  {
   "cell_type": "code",
   "execution_count": 109,
   "metadata": {
    "collapsed": false,
    "slideshow": {
     "slide_type": "fragment"
    }
   },
   "outputs": [
    {
     "data": {
      "text/plain": [
       "3-element Array{Int64,1}:\n",
       " 2\n",
       " 3\n",
       " 4"
      ]
     },
     "execution_count": 109,
     "metadata": {},
     "output_type": "execute_result"
    }
   ],
   "source": [
    "addprocs(3)"
   ]
  },
  {
   "cell_type": "code",
   "execution_count": 110,
   "metadata": {
    "collapsed": false,
    "slideshow": {
     "slide_type": "fragment"
    }
   },
   "outputs": [
    {
     "data": {
      "text/plain": [
       "4"
      ]
     },
     "execution_count": 110,
     "metadata": {},
     "output_type": "execute_result"
    }
   ],
   "source": [
    "nprocs()"
   ]
  },
  {
   "cell_type": "code",
   "execution_count": 111,
   "metadata": {
    "collapsed": true,
    "slideshow": {
     "slide_type": "fragment"
    }
   },
   "outputs": [],
   "source": [
    "@everywhere const times = [1 for i=1:8] # define la variable en todos los procesos"
   ]
  },
  {
   "cell_type": "markdown",
   "metadata": {
    "slideshow": {
     "slide_type": "slide"
    }
   },
   "source": [
    "## map"
   ]
  },
  {
   "cell_type": "code",
   "execution_count": 112,
   "metadata": {
    "collapsed": false,
    "slideshow": {
     "slide_type": "fragment"
    }
   },
   "outputs": [
    {
     "data": {
      "text/plain": [
       "8.010019689"
      ]
     },
     "execution_count": 112,
     "metadata": {},
     "output_type": "execute_result"
    }
   ],
   "source": [
    "map(sleep, times) # Cada función es compilada la primera vez que se llama\n",
    "@elapsed map(sleep, times) "
   ]
  },
  {
   "cell_type": "code",
   "execution_count": 113,
   "metadata": {
    "collapsed": false,
    "slideshow": {
     "slide_type": "fragment"
    }
   },
   "outputs": [
    {
     "data": {
      "text/plain": [
       "3.008231056"
      ]
     },
     "execution_count": 113,
     "metadata": {},
     "output_type": "execute_result"
    }
   ],
   "source": [
    "pmap(sleep, times)  \n",
    "@elapsed pmap(sleep, times) "
   ]
  },
  {
   "cell_type": "markdown",
   "metadata": {
    "slideshow": {
     "slide_type": "slide"
    }
   },
   "source": [
    "## for & reduce"
   ]
  },
  {
   "cell_type": "code",
   "execution_count": 114,
   "metadata": {
    "collapsed": false,
    "slideshow": {
     "slide_type": "-"
    }
   },
   "outputs": [
    {
     "name": "stdout",
     "output_type": "stream",
     "text": [
      "  3.503802 seconds (247.59 k allocations: 10.123 MB)\n"
     ]
    },
    {
     "data": {
      "text/plain": [
       "8"
      ]
     },
     "execution_count": 114,
     "metadata": {},
     "output_type": "execute_result"
    }
   ],
   "source": [
    "@time @parallel (+) for i in times\n",
    "    sleep(i)\n",
    "    i\n",
    "end"
   ]
  }
 ],
 "metadata": {
  "celltoolbar": "Slideshow",
  "default_encoding": "UTF-8",
  "kernelspec": {
   "display_name": "Julia 0.5.0",
   "language": "julia",
   "name": "julia-0.5"
  },
  "language_info": {
   "file_extension": ".jl",
   "mimetype": "application/julia",
   "name": "julia",
   "version": "0.5.0"
  }
 },
 "nbformat": 4,
 "nbformat_minor": 0
}
