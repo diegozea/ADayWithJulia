{
 "cells": [
  {
   "cell_type": "markdown",
   "metadata": {
    "slideshow": {
     "slide_type": "slide"
    }
   },
   "source": [
    "# A day with *(the)* Julia *(language)*  \n",
    "\n",
    "## Análisis de datos   \n",
    "   "
   ]
  },
  {
   "cell_type": "code",
   "execution_count": 1,
   "metadata": {
    "collapsed": true,
    "slideshow": {
     "slide_type": "notes"
    }
   },
   "outputs": [],
   "source": [
    "ENV[\"LINES\"]   = 10 \n",
    "ENV[\"COLUMNS\"] = 60;"
   ]
  },
  {
   "cell_type": "markdown",
   "metadata": {
    "collapsed": false,
    "slideshow": {
     "slide_type": "slide"
    }
   },
   "source": [
    "- *DataFrame* para manejar datos tabulares, datos faltantes...\n",
    "- *Gadfly* para hacer rápidamente gráficos estadísticos al estilo de *ggplot2* \n",
    "- *Plots* para graficar independiente del *backend*, soporte para animaciones, gráficos interactivos con *Plotly* o 3D, etc.\n",
    "- *IJulia* para trabajar con IPython/**Ju**pyter notebooks, e *Interact*\n",
    "- Test estadísticos, clustering, etc. con los paquetes de la organización [**JuliaStats**](http://juliastats.github.io/)"
   ]
  },
  {
   "cell_type": "code",
   "execution_count": 2,
   "metadata": {
    "collapsed": false,
    "slideshow": {
     "slide_type": "slide"
    }
   },
   "outputs": [
    {
     "data": {
      "text/html": [
       "<table class=\"data-frame\"><thead><tr><th></th><th>Benchmark</th><th>Fortran</th><th>Julia</th><th>Python</th><th>R</th><th>Matlab</th><th>Octave</th><th>Mathematica</th><th>JavaScript</th><th>Go</th><th>LuaJIT</th><th>Java</th></tr></thead><tbody><tr><th>1</th><td>fib</td><td>0.7</td><td>2.11</td><td>77.76</td><td>533.52</td><td>26.89</td><td>9324.35</td><td>118.53</td><td>3.36</td><td>1.86</td><td>1.71</td><td>1.21</td></tr><tr><th>2</th><td>parse_int</td><td>5.05</td><td>1.45</td><td>17.02</td><td>45.73</td><td>802.52</td><td>9581.44</td><td>15.02</td><td>6.06</td><td>1.2</td><td>5.77</td><td>3.35</td></tr><tr><th>3</th><td>quicksort</td><td>1.31</td><td>1.15</td><td>32.89</td><td>264.54</td><td>4.92</td><td>1866.01</td><td>43.23</td><td>2.7</td><td>1.29</td><td>2.03</td><td>2.6</td></tr><tr><th>4</th><td>mandel</td><td>0.81</td><td>0.79</td><td>15.32</td><td>53.16</td><td>7.58</td><td>451.81</td><td>5.13</td><td>0.66</td><td>1.11</td><td>0.67</td><td>1.35</td></tr><tr><th>5</th><td>pi_sum</td><td>1.0</td><td>1.0</td><td>21.99</td><td>9.56</td><td>1.0</td><td>299.31</td><td>1.69</td><td>1.01</td><td>1.0</td><td>1.0</td><td>1.0</td></tr><tr><th>6</th><td>rand_mat_stat</td><td>1.45</td><td>1.66</td><td>17.93</td><td>14.56</td><td>14.52</td><td>30.93</td><td>5.95</td><td>2.3</td><td>2.96</td><td>3.27</td><td>3.92</td></tr><tr><th>7</th><td>rand_mat_mul</td><td>3.48</td><td>1.02</td><td>1.14</td><td>1.57</td><td>1.12</td><td>1.12</td><td>1.3</td><td>15.07</td><td>1.42</td><td>1.16</td><td>2.36</td></tr></tbody></table>"
      ],
      "text/plain": [
       "7×12 DataFrames.DataFrame\n",
       "│ Row │ Benchmark       │ Fortran │ Julia │ Python │\n",
       "├─────┼─────────────────┼─────────┼───────┼────────┤\n",
       "│ 1   │ \"fib\"           │ 0.7     │ 2.11  │ 77.76  │\n",
       "⋮\n",
       "│ 6   │ \"rand_mat_stat\" │ 1.45    │ 1.66  │ 17.93  │\n",
       "│ 7   │ \"rand_mat_mul\"  │ 3.48    │ 1.02  │ 1.14   │\n",
       "\n",
       "│ Row │ R      │ Matlab │ Octave  │ Mathematica │\n",
       "├─────┼────────┼────────┼─────────┼─────────────┤\n",
       "│ 1   │ 533.52 │ 26.89  │ 9324.35 │ 118.53      │\n",
       "⋮\n",
       "│ 6   │ 14.56  │ 14.52  │ 30.93   │ 5.95        │\n",
       "│ 7   │ 1.57   │ 1.12   │ 1.12    │ 1.3         │\n",
       "\n",
       "│ Row │ JavaScript │ Go   │ LuaJIT │ Java │\n",
       "├─────┼────────────┼──────┼────────┼──────┤\n",
       "│ 1   │ 3.36       │ 1.86 │ 1.71   │ 1.21 │\n",
       "⋮\n",
       "│ 6   │ 2.3        │ 2.96 │ 3.27   │ 3.92 │\n",
       "│ 7   │ 15.07      │ 1.42 │ 1.16   │ 2.36 │"
      ]
     },
     "execution_count": 2,
     "metadata": {},
     "output_type": "execute_result"
    }
   ],
   "source": [
    "using DataFrames\n",
    "benchmark = readtable(joinpath(\"data\",\"benchmark.csv\"), separator=';')"
   ]
  },
  {
   "cell_type": "code",
   "execution_count": 3,
   "metadata": {
    "collapsed": false,
    "slideshow": {
     "slide_type": "slide"
    }
   },
   "outputs": [
    {
     "data": {
      "text/html": [
       "<table class=\"data-frame\"><thead><tr><th></th><th>variable</th><th>value</th><th>Benchmark</th></tr></thead><tbody><tr><th>1</th><td>Fortran</td><td>0.7</td><td>fib</td></tr><tr><th>2</th><td>Fortran</td><td>5.05</td><td>parse_int</td></tr><tr><th>3</th><td>Fortran</td><td>1.31</td><td>quicksort</td></tr><tr><th>4</th><td>Fortran</td><td>0.81</td><td>mandel</td></tr><tr><th>5</th><td>Fortran</td><td>1.0</td><td>pi_sum</td></tr><tr><th>6</th><td>Fortran</td><td>1.45</td><td>rand_mat_stat</td></tr><tr><th>7</th><td>Fortran</td><td>3.48</td><td>rand_mat_mul</td></tr><tr><th>8</th><td>Julia</td><td>2.11</td><td>fib</td></tr><tr><th>9</th><td>Julia</td><td>1.45</td><td>parse_int</td></tr><tr><th>10</th><td>Julia</td><td>1.15</td><td>quicksort</td></tr><tr><th>&vellip;</th><td>&vellip;</td><td>&vellip;</td><td>&vellip;</td></tr></tbody></table>"
      ],
      "text/plain": [
       "77×3 DataFrames.DataFrame\n",
       "│ Row │ variable │ value │ Benchmark       │\n",
       "├─────┼──────────┼───────┼─────────────────┤\n",
       "│ 1   │ Fortran  │ 0.7   │ \"fib\"           │\n",
       "⋮\n",
       "│ 76  │ Java     │ 3.92  │ \"rand_mat_stat\" │\n",
       "│ 77  │ Java     │ 2.36  │ \"rand_mat_mul\"  │"
      ]
     },
     "execution_count": 3,
     "metadata": {},
     "output_type": "execute_result"
    }
   ],
   "source": [
    "longformat = melt(benchmark, [:Benchmark]) # Reshaping: wide -> long"
   ]
  },
  {
   "cell_type": "code",
   "execution_count": 4,
   "metadata": {
    "collapsed": false,
    "slideshow": {
     "slide_type": "slide"
    }
   },
   "outputs": [
    {
     "data": {
      "text/html": [
       "<table class=\"data-frame\"><thead><tr><th></th><th>variable</th><th>x1</th></tr></thead><tbody><tr><th>1</th><td>Fortran</td><td>1.9714285714285715</td></tr><tr><th>2</th><td>Go</td><td>1.5485714285714285</td></tr><tr><th>3</th><td>Java</td><td>2.255714285714286</td></tr><tr><th>4</th><td>JavaScript</td><td>4.451428571428571</td></tr><tr><th>5</th><td>Julia</td><td>1.3114285714285712</td></tr><tr><th>6</th><td>LuaJIT</td><td>2.23</td></tr><tr><th>7</th><td>Mathematica</td><td>27.264285714285712</td></tr><tr><th>8</th><td>Matlab</td><td>122.64999999999999</td></tr><tr><th>9</th><td>Octave</td><td>3079.281428571429</td></tr><tr><th>10</th><td>Python</td><td>26.292857142857144</td></tr><tr><th>&vellip;</th><td>&vellip;</td><td>&vellip;</td></tr></tbody></table>"
      ],
      "text/plain": [
       "11×2 DataFrames.DataFrame\n",
       "│ Row │ variable │ x1      │\n",
       "├─────┼──────────┼─────────┤\n",
       "│ 1   │ Fortran  │ 1.97143 │\n",
       "⋮\n",
       "│ 10  │ Python   │ 26.2929 │\n",
       "│ 11  │ R        │ 131.806 │"
      ]
     },
     "execution_count": 4,
     "metadata": {},
     "output_type": "execute_result"
    }
   ],
   "source": [
    "meantime = by(longformat, :variable, df -> mean( df[:value] )) # Split-Apply-Combine"
   ]
  },
  {
   "cell_type": "code",
   "execution_count": 5,
   "metadata": {
    "collapsed": false,
    "slideshow": {
     "slide_type": "slide"
    }
   },
   "outputs": [
    {
     "data": {
      "text/html": [
       "<table class=\"data-frame\"><thead><tr><th></th><th>Lenguaje</th><th>Tiempo_Medio</th></tr></thead><tbody><tr><th>1</th><td>Julia</td><td>1.3114285714285712</td></tr><tr><th>2</th><td>Go</td><td>1.5485714285714285</td></tr><tr><th>3</th><td>Fortran</td><td>1.9714285714285715</td></tr><tr><th>4</th><td>LuaJIT</td><td>2.23</td></tr><tr><th>5</th><td>Java</td><td>2.255714285714286</td></tr><tr><th>6</th><td>JavaScript</td><td>4.451428571428571</td></tr><tr><th>7</th><td>Python</td><td>26.292857142857144</td></tr><tr><th>8</th><td>Mathematica</td><td>27.264285714285712</td></tr><tr><th>9</th><td>Matlab</td><td>122.64999999999999</td></tr><tr><th>10</th><td>R</td><td>131.80571428571426</td></tr><tr><th>&vellip;</th><td>&vellip;</td><td>&vellip;</td></tr></tbody></table>"
      ],
      "text/plain": [
       "11×2 DataFrames.DataFrame\n",
       "│ Row │ Lenguaje │ Tiempo_Medio │\n",
       "├─────┼──────────┼──────────────┤\n",
       "│ 1   │ Julia    │ 1.31143      │\n",
       "⋮\n",
       "│ 10  │ R        │ 131.806      │\n",
       "│ 11  │ Octave   │ 3079.28      │"
      ]
     },
     "execution_count": 5,
     "metadata": {},
     "output_type": "execute_result"
    }
   ],
   "source": [
    "sort!(meantime, cols=[:x1]) # Sorting\n",
    "names!(meantime, [:Lenguaje, :Tiempo_Medio])"
   ]
  },
  {
   "cell_type": "markdown",
   "metadata": {
    "slideshow": {
     "slide_type": "slide"
    }
   },
   "source": [
    "Descripción (estadística) del dataset (columnas), similar a `summary` de *R*."
   ]
  },
  {
   "cell_type": "code",
   "execution_count": 6,
   "metadata": {
    "collapsed": false,
    "scrolled": true,
    "slideshow": {
     "slide_type": "-"
    }
   },
   "outputs": [
    {
     "name": "stdout",
     "output_type": "stream",
     "text": [
      "Lenguaje\n",
      "Length  11\n",
      "Type    Symbol\n",
      "NAs     0\n",
      "NA%     0.0%\n",
      "Unique  11\n",
      "\n",
      "Tiempo_Medio\n",
      "Min      1.3114285714285712\n",
      "1st Qu.  2.100714285714286\n",
      "Median   4.451428571428571\n",
      "Mean     309.1875324675325\n",
      "3rd Qu.  74.95714285714286\n",
      "Max      3079.281428571429\n",
      "NAs      0\n",
      "NA%      0.0%\n",
      "\n"
     ]
    }
   ],
   "source": [
    "describe(meantime)"
   ]
  },
  {
   "cell_type": "markdown",
   "metadata": {
    "slideshow": {
     "slide_type": "slide"
    }
   },
   "source": [
    "### Usando funciones de R"
   ]
  },
  {
   "cell_type": "code",
   "execution_count": 8,
   "metadata": {
    "collapsed": false,
    "slideshow": {
     "slide_type": "-"
    }
   },
   "outputs": [],
   "source": [
    "using RCall"
   ]
  },
  {
   "cell_type": "code",
   "execution_count": 9,
   "metadata": {
    "collapsed": false,
    "slideshow": {
     "slide_type": "-"
    }
   },
   "outputs": [
    {
     "data": {
      "text/plain": [
       "RCall.RObject{RCall.VecSxp}\n",
       "\n",
       "\tTwo-sample Kolmogorov-Smirnov test\n",
       "\n",
       "data:  `#JL`$`(benchmark[:Julia])` and `#JL`$`(benchmark[:R])`\n",
       "D = 0.85714, p-value = 0.008159\n",
       "alternative hypothesis: two-sided\n",
       "\n"
      ]
     },
     "execution_count": 9,
     "metadata": {},
     "output_type": "execute_result"
    }
   ],
   "source": [
    "ks = R\"\"\"ks.test($(benchmark[:Julia]), $(benchmark[:R]))\"\"\""
   ]
  },
  {
   "cell_type": "code",
   "execution_count": 10,
   "metadata": {
    "collapsed": false,
    "slideshow": {
     "slide_type": "fragment"
    }
   },
   "outputs": [
    {
     "data": {
      "text/plain": [
       "Dict{Symbol,Any} with 5 entries:\n",
       "  :statistic          => 0.857143\n",
       "  :alternative        => \"two-sided\"\n",
       "  Symbol(\"p.value\")   => 0.00815851\n",
       "  :method             => \"Two-sample Kolmogorov-Smirnov tes…\n",
       "  Symbol(\"data.name\") => \"`#JL`\\$`(benchmark[:Julia])` and …"
      ]
     },
     "execution_count": 10,
     "metadata": {},
     "output_type": "execute_result"
    }
   ],
   "source": [
    "rcopy(ks) # Transforma los datos de R a tipos de datos de Julia"
   ]
  },
  {
   "cell_type": "markdown",
   "metadata": {
    "slideshow": {
     "slide_type": "slide"
    }
   },
   "source": [
    "### JuliaStats\n",
    "\n",
    "Muchos de los tests estadísticos más clásicos están definidos en alguna biblioteca de Julia"
   ]
  },
  {
   "cell_type": "code",
   "execution_count": 12,
   "metadata": {
    "collapsed": false,
    "slideshow": {
     "slide_type": "slide"
    }
   },
   "outputs": [],
   "source": [
    "using HypothesisTests"
   ]
  },
  {
   "cell_type": "code",
   "execution_count": 13,
   "metadata": {
    "collapsed": false,
    "slideshow": {
     "slide_type": "-"
    }
   },
   "outputs": [
    {
     "data": {
      "text/plain": [
       "Approximate two sample Kolmogorov-Smirnov test\n",
       "----------------------------------------------\n",
       "Population details:\n",
       "    parameter of interest:   Supremum of CDF differences\n",
       "    value under h_0:         0.0\n",
       "    point estimate:          0.857142857142857\n",
       "\n",
       "Test summary:\n",
       "    outcome with 95% confidence: reject h_0\n",
       "    two-sided p-value:           0.011681952358448919\n",
       "\n",
       "Details:\n",
       "    number of observations:   [7,7]\n",
       "    KS-statistic:              1.603567451474546\n"
      ]
     },
     "execution_count": 13,
     "metadata": {},
     "output_type": "execute_result"
    }
   ],
   "source": [
    "ApproximateTwoSampleKSTest(benchmark[:Julia], benchmark[:R])"
   ]
  },
  {
   "cell_type": "code",
   "execution_count": 14,
   "metadata": {
    "collapsed": false,
    "slideshow": {
     "slide_type": "slide"
    }
   },
   "outputs": [
    {
     "data": {
      "text/plain": [
       "Exact Wilcoxon signed rank test\n",
       "-------------------------------\n",
       "Population details:\n",
       "    parameter of interest:   Location parameter (pseudomedian)\n",
       "    value under h_0:         0\n",
       "    point estimate:          -44.279999999999994\n",
       "    95% confidence interval: (-291.89,-6.7250000000000005)\n",
       "\n",
       "Test summary:\n",
       "    outcome with 95% confidence: reject h_0\n",
       "    two-sided p-value:           0.015625000000000003\n",
       "\n",
       "Details:\n",
       "    number of observations:      7\n",
       "    Wilcoxon rank-sum statistic: 0.0\n",
       "    rank sums:                   [0.0,28.0]\n",
       "    adjustment for ties:         0.0\n"
      ]
     },
     "execution_count": 14,
     "metadata": {},
     "output_type": "execute_result"
    }
   ],
   "source": [
    "SignedRankTest(\n",
    "convert(Vector{Float64}, benchmark[:Julia]), \n",
    "convert(Vector{Float64}, benchmark[:R])\n",
    ") # Wilcoxon signed rank test"
   ]
  },
  {
   "cell_type": "code",
   "execution_count": 16,
   "metadata": {
    "collapsed": false,
    "slideshow": {
     "slide_type": "slide"
    }
   },
   "outputs": [
    {
     "data": {
      "text/plain": [
       "DataFrames.DataFrameRegressionModel{GLM.LinearModel{GLM.LmResp{Array{Float64,1}},GLM.DensePredChol{Float64,Base.LinAlg.Cholesky{Float64,Array{Float64,2}}}},Array{Float64,2}}\n",
       "\n",
       "Formula: R ~ 1 + Julia\n",
       "\n",
       "Coefficients:\n",
       "             Estimate Std.Error t value Pr(>|t|)\n",
       "(Intercept)  -247.159   200.519 -1.2326   0.2725\n",
       "Julia         288.971   145.487 1.98623   0.1037\n"
      ]
     },
     "execution_count": 16,
     "metadata": {},
     "output_type": "execute_result"
    }
   ],
   "source": [
    "using GLM\n",
    "\n",
    "lineal = lm(@formula(R ~ Julia), benchmark)"
   ]
  },
  {
   "cell_type": "code",
   "execution_count": 17,
   "metadata": {
    "collapsed": false,
    "slideshow": {
     "slide_type": "-"
    }
   },
   "outputs": [
    {
     "data": {
      "text/plain": [
       "2-element Array{Float64,1}:\n",
       " -247.159\n",
       "  288.971"
      ]
     },
     "execution_count": 17,
     "metadata": {},
     "output_type": "execute_result"
    }
   ],
   "source": [
    "inter, pend = coef(lineal)"
   ]
  },
  {
   "cell_type": "code",
   "execution_count": 22,
   "metadata": {
    "collapsed": false,
    "slideshow": {
     "slide_type": "slide"
    }
   },
   "outputs": [],
   "source": [
    "using Plots, StatPlots"
   ]
  },
  {
   "cell_type": "code",
   "execution_count": 24,
   "metadata": {
    "collapsed": false,
    "slideshow": {
     "slide_type": "-"
    }
   },
   "outputs": [
    {
     "data": {
      "text/html": [
       "<img src=\"data:image/png;base64,iVBORw0KGgoAAAANSUhEUgAAAlgAAAGQCAYAAAByNR6YAAAABHNCSVQICAgIfAhkiAAAAAlwSFlzAAAPYQAAD2EBqD+naQAAIABJREFUeJzt3XlcVIX+//H3ALK74ApaVuZeai4tGqmVaUmhtluaSdmtXLK82K3sKnZvpbfFX2rLLbu2overSJa3MgtUskRFzUrKFrMUVFwZhn3m98dRErXSPMw5zHk9H48e9zIMw2eyd/PuzJnzcfl8Pp8AAABgmiCrBwAAAAg0FCwAAACThVg9wKnKy8tTXl6e1WMAAAAHi4uLU1xcXNXXtbpg5eXlaejQoVq+fLnVowAAAAfr06ePUlNTq0pWrS9Yy5cv15tvvqkOHTpYPY6jjR8/XjNmzLB6DMAWyANgcEoWNm/erGHDhikvLy8wCtZhHTp0ULdu3awew9EaNGjAnwFwCHkADE7OAie5AwAAmIyCBQAAYDIKFkyxYcMGq0cAbIM8AAYnZyEgzsGC9QYNGmT1CIBtkAfAUBuy4PV6tXTpUm3atEmtW7fW1VdfrTp16pzy41KwYIqZM2daPQJgG+QBMNg9C4WFhep/5VX6fNWnCo6IVmWxW207dFTmx8uqXdPqz+AtQgAA4EhTp07VmvUbpQc+VOWMPdIjn+v7vL26//4HTvmxKVgAAMCRUv+7QJUXDpfaXyq5XNIZ3VR52VilLUqT1+s9pcemYMEUWVlZVo8A2AZ5AAy1IgsuV408LAULppg+fbrVIwC2QR4Ag92zMPTG6xX8+etSbqbk80k/rVfwJzN17ZBrFRR0ahWJk9xhinnz5lk9AmAb5AEw2D0Ljz76qFZ+ukqrn+mv4Ii6qiwuVKv2HfTss8+c8mNTsGCKyMhIq0cAbIM8AAa7Z6FevXpalbVSH330kTZu3Kg2bdpwmQYAAIBTFRQUpAEDBmjAgAHmPq6pjwYAAAAKFsyRnJxs9QiAbZAHwODkLFCwYIqWLVtaPQJgG+QBMDg5CxQsmGLs2LFWjwDYBnkADE7OAgULAADAZBQsAAAAk1GwYIrc3FyrRwBsgzwABidngYIFU0ycONHqEQDbIA+AwclZoGDBFLNmzbJ6BMA2yANgcHIWKFgwhZM/igscjTwABidngYIFAABgMgoWAACAyShYMMW0adOsHgGwDfIAGJycBQoWTOHxeKweAbAN8gAYnJwFChZMkZKSYvUIgG2QB8Dg5CxQsAAAAExGwQIAADAZBQumKCgosHoEwDbIA2BwchYoWDBFUlKS1SMAtkEeAIOTs0DBgimmTJli9QiAbZAHwODkLFCwYIpu3bpZPQJgG+QBMDg5CxQsAAAAk1GwAAAATEbBginmzJlj9QiAbZAHwODkLFCwYIqcnByrRwBsgzwABidngYIFU8yePdvqEQDbIA+AwclZoGABAACYjIIFAABgMgoWAACAyShYMEViYqLVIwC2QR4Ag5OzQMGCKcaMGWP1CIBtkAfA4OQsULBgiv79+1s9AmAb5AEwODkLFCwAAACTUbAAAABMRsGCKdLT060eAbAN8gAYnJwFChZMkZqaavUIgG2QB8Dg5CxQsGCK+fPnWz0CYBvkATA4OQsULAAAAJNRsAAAAExGwQIAADAZBQumGDlypNUjALZBHgCDk7NAwYIpnHy1XuBo5AEwODkLFCyYYujQoVaPANgGeQAMTs4CBQsAAMBkFCwAAACTUbBgiqysLKtHAGyDPAAGJ2eBggVTTJ8+3eoRANsgD4DByVmgYMEU8+bNs3oEwDbIA2BwchYoWDBFZGSk1SMAtkEeAIOTs0DBAgAAMBkFCwAAwGQULJgiOTnZ6hEA2yAPgMHJWaBgwRQtW7a0egTANsgDYHByFihYMMXYsWOtHgGwDfIAGJycBQoWAACAyShYAAAAJqNgwRS5ublWjwDYBnkADE7OAgULppg4caLVIwC2QR4Ag5OzQMGCKWbNmmX1CIBtkAfA4OQsULBgCid/FBc4GnkADE7OAgULAADAZBQsAAAAk1GwYIpp06ZZPQJgG+QBMDg5CxQsmMLj8Vg9AmAb5AEwODkLFCyYIiUlxeoRANsgD4DByVmgYAEAAJiMggUAAGAyChZMUVBQYPUIgG2QB8Dg5CxQsGCKpKQkq0cAbIM8AAYnZ4GCBVNMmTLF6hEA2yAPgMHJWaBgwRTdunWzegTANsgDYHByFvxesJKTkzVy5EhJ0rJly9SlSxe1bdtWkyZNqrrPhg0b1KNHD7Vr10533nmnKioq/D0mAADAn+bXgvXxxx/rtddek8vlUklJiZKSkpSenq7Nmzdr7dq1eu+99yRJw4YN08yZM/XNN99Ikl588UV/jgkAAHBK/Faw9u7dq0mTJunhhx+Wz+dTdna22rRpo7POOkvBwcEaNmyYFixYoG3btqm4uFg9e/aUJN1+++1asGCBv8bEnzRnzhyrRwBsgzwABidnwW8F6+6779bjjz+umJgYSdKOHTvUvHnzqu/HxsYqLy/vN2+HveXk5Fg9AmAb5AEwODkLfilYr7zyik4//XRdeuml8vl8klT1v9WGCQr6zdthb7Nnz7Z6BMA2yANgcHIW/NJc/vvf/2rp0qXq2rWrJk+erMWLF+vll19Wfn5+1X3y8vLUokULtWjR4pjbjzyidTwDBw5UYmJitb969uyp9PT0avdbunSpEhMTj/n50aNHH3MYMycnR4mJicdcJG3y5MnHbAfftm2bEhMTlZubW+32mTNnKjk5udptHo9HiYmJysrKqnZ7ampq1cn/R7rpppt4HjwPngfPg+fB8+B52OR5pKamKjExUQkJCYqNjVV8fLzGjx9/zCwu3/EOGdWg1157TcuXL9cLL7yg1q1b65NPPlGrVq2UkJCgUaNG6brrrlOnTp30wgsvKD4+XnfccYc6duyoCRMmHPNYOTk56t69u9atW+foj4ICAADrHK+PWPbeW1hYmF577TXdcMMN6tixo8455xxdd911kqS33npLEyZMUIcOHVRaWqpx48ZZNSYAAMBJC/H3LxwxYoRGjBghSbrsssu0YcOGY+7TuXNnrV692t+j4RQkJiZq8eLFVo8B2AJ5AAxOzgJnj8MUY8aMsXoEwDbIA2BwchYoWDBF//79rR4BsA3yABicnAUKFgAAgMkoWAAAACajYMEUR1+jBHAy8gAYnJwFChZMkZqaavUIgG2QB8Dg5CxQsGCK+fPnWz0CYBvkATA4OQsULAAAAJNRsAAAAExGwQIAADAZBQumON4GdMCpyANgcHIWKFgwhZOv1gscjTwABidngYIFUwwdOtTqEQDbIA+AwclZoGABAACYjIIFAABgMgoWTJGVlWX1CIBtkAfA4OQsULBgiunTp1s9AmAb5AEwODkLFCyYYt68eVaPANgGeQAMTs4CBQumiIyMtHoEwDbIA2CoDVnwegp1cNl/teu5Caos3Gfa44aY9kgAAAC1RMWefLmXL1LR5x/KV1mpqAv6KSgi2rTHp2ABAADHKP3xa7kz01T8xSoFRUYruu+1ir7kGgXXjTH19/AWIUyRnJxs9QiAbZAHwGCXLPi8lfJsWKldz47X7v/3gMp3/KgG149W7OTXVX/gbaaXK4kjWDBJy5YtrR4BsA3yABiszoK3xKOi1UvlXpGuyj35Cj27kxrdOUXhHS+QK6hmjzFRsGCKsWPHWj0CYBvkATBYlYWK/bvlXrFYRav+J19ZsSK69lHd2x9R6Olt/DYDBQsAAASEsl++lztzoTw5y+UKDVNUz6sU3XuwQmKa+H0WChYAAKi1fF6vSjavkTszTaVbNio4pqnqJ96pqIv6Kyg8yrK5KFgwRW5urtq3b2/1GIAtkAfAUJNZ8JWVqmjtx3JnLlLFrp9Vp2U7NRzxsCI6XyxXcHCN/M6TwacIYYqJEydaPQJgG+QBMNREFioL9+vA+28ob+pt2v9/MxUSe7qajHtaTe+fociuvW1RriSOYMEks2bNsnoEwDbIA2AwMwvl+dvkzkxT0dqP5QoKUuSFA1S392CFNGlu2u8wEwULprD6o7iAnZAHwHCqWfD5fCrdskHuzDSVfL1GQfUaqt6AWxXdK0FBUXVNmrJmULAAAICt+CrK5Vm/XO7MRSrf/r3qND9LMbf8VZHd+sgVUsfq8U4IBQsAANiC11Mo96r/yb1ysbwH9ii8w/mqn3iHwtp2lcvlsnq8k8JJ7jDFtGnTrB4BsA3yABhONAsVBXnav/B55U0ZroPvv6nwDj3U7MEX1fgvjym8XbdaV64kjmDBJB6Px+oRANsgD4Dhj7JQ+uPXcmcsVPGmzxQUWVfRl16n6Pira2Q3oL9RsGCKlJQUq0cAbIM8AIbjZcFXWaniTavkzliosp9yFdKkhRpcP1pR5/eTKzTMgilrBgULAADUuKrFy8sXqXLvToW17qxGo1IU3uH8Gl+8bAUKFgAAqDHG4uV3VLTqffnKShTZtbeiR07y6+JlK1CwYIqCggI1btzY6jEAWyAPgFT2y3cq+OBteb9eLVdouKJ6XaXoSwZZsnjZChQsmCIpKUmLFy+2egzAFsgDnKpq8XLGQpV+94X2lEutbviLoi4aoKDwSKvH8ysKFkwxZcoUq0cAbIM8wGmOXrwcekZ7Nbz9Ye2qiFDdHudbPZ4lKFgwRbdu3aweAbAN8gCnqCzcL3fWuyrKek9ez0FFdOqlmKH3K+ysjpIkJyeBggUAAE5Kef5PKsxMk2ftJ3IFBSvqwv6K7jNYIY3tuXjZChQsAADwh6oWL2ekqWTzGgXVb6R6Vw5TdK+BCoq09+JlKwTehSdgiTlz5lg9AmAb5AGBxFdRrqLsZdr1r9EqeP4hVR4oUMwtf1Xco3NVr99Nv1uunJwFChZMkZOTY/UIgG2QBwQCb1GhDn40T3lTR2jf208puEEjNb73CTVNfl5RF/STK6TOHz6Gk7PAW4QwxezZs60eAbAN8oDarKJghwqXp8uz+kP5vF5F9bhc0X2HqE7sGSf9WE7OAgULAACH8/l8Kvvxa7kz01S8aZWCIusp+tLrA2bxshUoWAAAOJSxePlTuTPSjMXLTU9TgxvGKqrH5QG1eNkKFCwAABzGW+JR0ecfyr0i3Vi83KZLQC9etgJ/F2GKxMREq0cAbIM8wK4q9u3W/ndeVt6UYTqw+BWFndVRTSfMVJPR0xRxzoWmlysnZ4EjWDDFmDFjrB4BsA3yALsp+3mLCjPTVLx+xaHFywmK7p2okAY1u3jZyVmgYMEU/fv3t3oEwDbIA+zA5/Wq5OtsuTPTVPrdFwpu2Ez1B41S1IX9/bZ42clZoGABABBAfGWlKlqzTO7li1Sx65dDi5cfUUSnXnIFB1s9nmNQsAAACACVhfvkXvmuij5dIq+nUBGdeylm6ANVi5fhX5zkDlOkp6dbPQJgG+QB/lSet1V75z2rvJTb5M5MU2S3Pop95BU1GjnJ8nLl5CxQsGCK1NRUq0cAbIM8oKb5fD6VfJOj3S9O0s5pd6tk81rVu3K44qa8oQbX3auQxs2tHlGSs7PAW4Qwxfz5860eAbAN8oCa4qsolycnU+7MNJXv+FF1mrdSzK1/VWTXPie0G9DfnJwFChYAADbnLSqUe9USuVculvfgXoV3PF/1B/9FYW26yOVyWT0ejoOCBQCATVXs3qHC5YvkyV56youX4V8ULAAAbMRYvPyVCjPTVLLpsyMWL1+j4LoNrB4PJ4iT3GGKkSNHWj0CYBvkAX+Gr7JSnvUrtOvZ8dr93F9Vkf+zGtw4TnGTX1f9q4bXynLl5CxwBAumcPLVeoGjkQecDGPx8gdyL09X5b5dAbV42clZoGDBFEOHDrV6BMA2yANORMW+3XKvSFfRZ+/LV1aqyG59FN33WoWe1trq0Uzj5CxQsAAA8KOyn7eoMGOhijeskCs0wm+Ll+FfFCwAAGqYsXh5tQoz0lT2/SYFN4pV/UF3KeqiAQoKi7B6PNSA2v3mLmwjKyvL6hEA2yAPOMxbViL3p0u084lR2vNKilRZoYYjJyn2kTmq22dwwJcrJ2eBI1gwxfTp0xUfH2/1GIAtkAf8unj5PXk9bmPx8i0TLN8N6G9OzgIFC6aYN2+e1SMAtkEenKs8b6sKM9PkWZshV3Cwoi4aoOjegxXSOM7q0Szh5CxQsGCKyMhIq0cAbIM8OIvP51Ppt+tVmLFQpbnrFFS/kepdNVzRva5SUGRdq8ezlJOzQMECAOBP8FWUyZOz/NfFyy3OVsywZEWe19uWi5fhXxQsAABOwrGLly9Q/SF3K6x1ZxYvowqfIoQpkpOTrR4BsA3yEJgqdu/QvgWzlZcyTAc/fEsR51yoZn/7txrfNVXhbbpQro7DyVngCBZM0bJlS6tHAGyDPASOqsXLGWkq+fIzBUXVU93LblDUxVfXyt2A/ubkLFCwYIqxY8daPQJgG+Sh9vNVVqp4Y5YKMxeqfNu3Cml6uhrcOE5R3S+TKzTM6vFqDSdngYIFnKDKykoVFBSoQYMGCgvjX7BAIPKWFKno8w+PWLx8nhrdNVXh7XvU+sXL8C8KFnACXn/9df3tkUnK++VnRdWtp/vGjtHUqVMVHBxs9WgATFCxb5fcK945YvFy30OLl8+2ejTUUhQsmCI3N1ft27e3eowasWTJEo0YMULqcb10zdMq+mG1nnhymoKCgvTYY49ZPR5sKJDzEGjKtn2rwsw0Y/FyWKSiL75a0ZckKrhBY6tHCwhOzgLHO2GKiRMnWj1CjXn62RkKbtNLGvWW1HWwdN0T8l0+Tv9v5iyVl5dbPR5sKJDzEAh8Xq+Kv/xMu2Yma9cz41T2U64aDP6L4qa8ofrXJFGuTOTkLHAEC6aYNWuW1SPUmK0/bVPlGQOkIz+CfWZ3FX70rAoLC9WwYUPrhoMtBXIeajNvWYk82cvkXr5IFbu3K/TMDmo4cpIiOvWUK4i3+2uCk7Nw0kewioqKdP/999fELKjFAvmjuD0vPF/BX7wrlRQaN3i9UvY8ndmqtWJiYqwdDrYUyHmojSoP7tWB/72m/JTbtH/h86rT/Cw1ue8ZNR3/rCK7xFOuapCTs1DtCFZJSYmSk5OVmpqqkJAQDR8+XNOmGeeaSNKHH36ou+++W9u2bdOzzz5rycCAvz3y8MN6Z3FPlUztqspzByp4a7a8P63XtHnzuLAgYGPleVtVmJEmz7rDi5evVHSfwQppFGv1aHCAagXroYce0r///W8NGzZMYWFheumll1S/fn099NBDGjdunF544QW1adNGGRkZVs0L+F3Hjh21Nnu1nnjySa1ek6WzzzlTD7wyXZdffrnVowE4is/nU+k3OSrMTFNp7joF12+s+gNvU1TPqxQUGW31eHCQagVr0aJFmjFjhu655x5JUkJCgsaNG6dffvlFr7zyipKTkzV16lSuAYRjTJs2TQ8++KDVY9SY9u3b67W5c60eA7VEoOfBjnwVZfKsyzQWL+dtVZ3TzlbDYRMVcd4lLF62kJOzUK1g5efna8CAAVVfDxgwQFu3btXChQu1bNky9e3b19/zoZbweDxWjwDYBnnwn8qigyr6dIncWYvlPbjPWLx87T0sXrYJJ2ehWsEqKytTdPSvh1BDQkIUGRmpZ599lnKF35WSkmL1CIBtkIeaV757u9zLF8mz+iP55FNUj8sV3fda1Wl2utWj4QhOzsIJXabhoosuquk5AAD4XT6fT2U/fKXCjIUq+epzY/Hy5TcqKj5BwdEsXoa9nFDBCmL/EgDAIsbi5ZUqzEwzFi83a6mYG8cpssflctUJtXo84LiOKVj33XefIiIiJB36NEZpqR588EHVrVu36jaXy6VXX33Vv5PC1goKCtS4MVc/BiTyYBZvSZGKPvtA7hXvGIuX256nRnc9pvD23Vm8XEs4OQvVClbv3r2Vn59f7Q69evXS7t27VVBQIOnXggUcKSkpSYsXL7Z6DMAWyMOpqdi3S+7l6Sr67AP5KsqMxct9hrB4uRZychaqFazMzEyLxkBtN2XKFKtHAGyDPPw5Zdu+VWHGQhVvXGksXo5n8XJt5+QssIsQpujWrZvVIwC2QR5OnM9bqZKvslWYsVBlP3yp4EZxajDkbkVecIWCwiKsHg+nyMlZoGABAPzOWLz8kdyZi1RRsEOhZ3VUo5GTFM7iZQQIChYAwG8qD+6Ve+ViFX26RN7iIkV0uVgxw5IVdmYHq0cDTMXHMGCKOXPmWD0CYBvk4VjlO37U3refVl7KCLlXvKPI8/spdtKranT7I5SrAObkLFCwYIqcnByrRwBsgzwYfD6fSnLXafcLD2vn9HtU+u161U+4TXGT31CDIX9RSKNYq0dEDXNyFniLEKaYPXu21SMAtuH0PBxevFyYmaaKvK2qc1prNRz+oLF4OZiXHSdxchb4Jx0AYApj8fJ7cq98V97CfQo/50I1YPEyHIqCBQA4JeW7t8uduUie7EOLl8/vp+g+Q1i8DEejYAEATpqxePnLQ4uXVysoqj6Ll4EjcJI7TJGYmGj1CIBtBHIefJUV8uRkatcz47R7ZrIqCnYo5qb7FDf5ddW78lbKFaoJ5Cz8EY5gwRRjxoyxegTANgIxD97iIhV9fuTi5a7G4uUOPTi/Cr8pELNwoihYMEX//v2tHgGwjUDKQ8Xencbi5c8//HXxct9rFdqildWjoRYIpCycLAoWAOAYZdu+UWFGmrF4OTxS0ZdcYyxert/I6tGAWoGCBQCQdGjx8perVZi5UGU/fKXgxixeBv4sTnKHKdLT060eAbCN2pYHb2mJ3Fnvaufjo7Tn1amSz6dGSY8q9uFXFH1JIuUKf1pty4KZKFgwRWpqqtUjALZRW/JQeWCPDiyZq/yU4dq/8AXVOa21moyfoab3PaOIzhfLFRRs9Yio5WpLFmoCbxHCFPPnz7d6BMA27J6Hsh0/yJ2RJk9OplwhdRR10ZWK7j2I3YAwnd2zUJMoWADgAD6fT6W561SYmabSb3IU3KCx6ifcrqiLrlRQZLTV4wEBh4IFAAHMV1Emz9oMY/Fy/k8sXgb8hHQBQACqdB9Q0aol1RYvx1w/WqFnd+LCoIAfcJI7TDFy5EirRwBsw8o8lO/6Rfv+O1P5Kbfp4EfzFNGpl5o99LIaj0pRWOvOlCv4lZNfGziCBVM4+Wq9wNH8nQefz6ey7zcZi5e/zjYWL/e7UVEXX63g6Pp+nQU4kpNfGyhYMMXQoUOtHgGwDX/lwVdZoeINK1WYmabyn7coJLalYm66T5HdL5OrTqhfZgB+j5NfG/z2FuEzzzyjc889V506dVJSUpLKy8u1bNkydenSRW3bttWkSZOq7rthwwb16NFD7dq105133qmKigp/jQkAtuctLlLhJwuU/9hI7X1jmoIi66rxX/6hZg++pKiLrqRcATbgl4KVnZ2tuXPnas2aNdq0aZMqKir01FNPKSkpSenp6dq8ebPWrl2r9957T5I0bNgwzZw5U998840k6cUXX/THmABgaxV78rV/0UvKmzJcB5bMVVibLmo68Xk1uedxhXfowflVgI34pWA1bNhQs2fPVkSEsW6hc+fO+uijj9S2bVudddZZCg4O1rBhw7RgwQJt27ZNxcXF6tmzpyTp9ttv14IFC/wxJk5BVlaW1SMAtmF2Hsp++kZ75j6u/H8kqWjNR4runai4v7+mhrf+VaHNW5n6uwAzOfm1wS8Fq3Xr1rrkkkskSbt27dLs2bN11113KS4uruo+sbGxysvL044dO9S8efNjboe9TZ8+3eoRANswIw8+b6WKv/hUu56boF3P3qeyX7aowbV3K27ym6qfcLuC6zcyYVKgZjn5tcGvJ7lv3bpVCQkJuuuuu+Tz+Y75flBQ0G/eDnubN2+e1SMAtnEqefCWlsiTvVTu5emqKNih0FbnqFHSowo/9yJ2A6LWcfJrg9+ay4YNGxQfH697771XDz30kFq0aKH8/Pyq7+fl5alFixbHvf3II1rHM3DgQCUmJlb7q2fPnsds8V66dKkSExOP+fnRo0drzpw51W7LyclRYmKiCgoKqt0+efJkTZs2rdpt27ZtU2JionJzc6vdPnPmTCUnJ1e7zePxKDEx8ZjDpqmpqce9XshNN91UK55HZGRkQDyPw3gePI9TeR6STvp5LJn/lg689x/lpQzT/rQXtadOtKZtD1HTcU9XW7zMnwfPozY9jzlz5gTE8zjyzyM1NVWJiYlKSEhQbGys4uPjNX78+GNmcfmOd8jIZLt371anTp304osvavDgwZKkkpIStWnTRp988olatWqlhIQEjRo1Stddd506deqkF154QfHx8brjjjvUsWNHTZgw4ZjHzcnJUffu3bVu3Tp169atpp8GAJiu+uLlUEVdNIDFy0Atc7w+4pe3CGfMmCG3262UlBSlpKRIkhISEvTaa6/phhtuUHFxsa6++mpdd911kqS33npLo0aN0sGDB9W9e3eNGzfOH2MCgF9ULV7OWKjSb9f/uni551UKioiyejwAJvDLEayawhEs+0hOTta//vUvq8cAbOG38uArL5Nn3SeHFi9vU53T26hu32tZvIyA5ZTXBsuOYCHwtWzZ0uoRANs4Og+V7gMq+vQ9Y/Fy0YFDi5fHsHgZAc/Jrw0ULJhi7NixVo8A2MbhPJTv/Fnu5YtUtGaZXHIp8vx+iu47RHWanmbxhIB/OPm1gYIFACby+Xwq/e4LuTPTVPLVagXVjVG9K25WVK8EFi8DDkLBAgATVC1ezlio8l++U0jsGYq5+X5Fdr+U3YCAA1GwYIrc3Fy1b9/e6jEAv/MWF6nos//JveIdVe4vUFi7bipO+Ita9xvM+VVwPCe/NnCJdJhi4sSJVo8A+NWvi5eH6cCS1xTWtmvV4uUJM/9DuQLk7NcGjmDBFLNmzbJ6BMAvSrfmyp25UMUbP5UrIlLRvQcpOv6aarsByQNgcHIWKFgwhZM/iovA5/NWqmTTZyrMTFPZj18rpHFzNbjuHkWef4WCwsKPuT95AAxOzgIFCwB+w+HFy4XLF6myIE+hrc5Vo6S/K/zcC1m8DOB3UbAA4CiVB/bIvXKx3KuWyFfiUUSXS1R3+N8UekY9W8iAAAAeOElEQVQ7q0cDUEtwkjtMcfRGcqA2Ktv+g/a+9ZTypo6Qe+W7irqgv2In/UeNRjx0UuWKPAAGJ2eBI1gwhcfjsXoE4E/x+Xwq2bxW7syFKv12g4IbNFH9q0cq6qIr//TiZfIAGJycBQoWTJGSkmL1CMBJ8ZWXybP2YxUuX1S1eLnhbX9TRJf4U168TB4Ag5OzQMEC4CiV7v0qyloid9YRi5dvGKvQVudy7SoApqFgAXCEYxYvX3CFovsMZvEygBpBwYIpCgoK1LhxY6vHAKo5/uLloYrqNbBGFy+TB8Dg5CzwKUKYIikpyeoRgCq+ygp51n6iXU+PVcHsB1Wxd6dihj6guMmvqV7/oTVariTyABzm5CxwBAummDJlitUjAPJ63Cr6/P1qi5cb3/1PhbXr5tfzq8gDYHByFihYMEW3bt2sHgEOVrEnX+7l6Spa/aF8FeWK7H6p6va9VnWan2XJPOQBMDg5CxQsALVW6dbNcmemqXjjpwqKiDru4mUAsAIFC0Ctcszi5SYt1OC6exV5fr/jLl4GACtwkjtMMWfOHKtHQIDzlhbLveId5f/zTu35zz8kV5Aa3TFZzR56WdHxV9uqXJEHwODkLFCwYIqcnByrR0CAqtxfoAPvvqq8KcO1P/0lhbZsq6YP/D81HfeUIjr1lCvIfv8aIw+AwclZ4C1CmGL27NlWj4AAU7b9B7kzFsqzfrlcIaGK6nmlonsPUkjDZlaP9ofIA2BwchYoWABsw+f1qiR3rdyZacbi5ZimxuLlnlcqKPzPLV4GACtQsABYrmrxcuYiVew8cvHyJXIFB1s9HgCcNAoWAMsYi5ffO7R4+aDCz7lIMTeOU2irc1i8DKBWs9/ZoaiVEhMTrR4BtUj5zp+1b/7/U17KbSr8+P8Ucd4lavbwK2p852SFnX1urS9X5AEwODkLHMGCKcaMGWP1CLC5qsXLGQtV8nW2guodWrx8cYKCo+pZPZ6pyANgcHIWKFgwRf/+/a0eATblq6yQZ/1yuTPTVP7L9wqJO1MxQx9QZPe+coWEWj1ejSAPgMHJWaBgAagRXo9bRZ8dWrx8oEBh7btbsngZAKxAwQJgKmPx8iIVff6hfJWVxuLlS69VnbgzrR4NAPyGk9xhivT0dKtHgMVKt27Wnv/8Q/n/SJJn7SeK7jtEcZNfU8NbHnBcuSIPgMHJWaBgwRSpqalWjwAL+LyV8mzM0q4Z92v3jPtVvuNHNbjuXsVOeUP1B45QcL2GVo9oCfIAGJycBd4ihCnmz59v9QjwI29psYo+/1DuFemq3JOv0LM7qdGdkxXe8UJb7gb0N/IAGJycBQoWgBNWub9A7pWL5V71P/lKPYo4r7fqjnhYoS3bWj0aANgKBQvAHyr75Xu5MxfKk7NcrtAwRfW8yli8HNPU6tEAwJYoWACOq2rxckaaSrccWryceIeiLhrA4mUA+AOcLAFTjBw50uoRYBJfWancn72vndPu1p5//13eUo8a3vaQYif9R3X7Xku5OgHkATA4OQscwYIpnHy13kBRWbhf7qx3VfTpe8bi5XN7KuamcQo9i8XLJ4s8AAYnZ4GCBVMMHTrU6hHwJ5XnbzMuDLpmmVxBQYq8oL+i+wxWnSYtrB6t1iIPgMHJWaBgAQ7k8/lUumWj3JkLVfL1GmPx8oBbFd0rQUFRda0eDwBqPQoW4CC+inJ5NqyQOyNN5du/V524MxVzywRFdusTsIuXAcAKnOQOU2RlZVk9An6H11Oog8v+q/zHRmrfm/9SUN0GanzP42o68QVFXXAF5cpk5AEwODkLHMGCKaZPn674+Hirx8BRKgryjPOrVi81Fi/3uFR1+7J4uaaRB8Dg5CxQsGCKefPmWT0CjlD649dyZ6ap+ItVCoqMVnTfaxUdf7VjdwP6G3kADE7OAgULpoiMjLR6BMfzeStV/MUquTMWquynXIU0aaEG149W5PmXKyg03OrxHIU8AAYnZ4GCBdRy3hKPilYvPWrx8hSFd7yAxcsAYBEKFlBLVezfLfeKxSpa9T/5yopZvAwANsJ/3sIUycnJVo/gGGW/fKe9b0xT/tTbVbRqiaJ6XqnYR+eq0W1/o1zZBHkADE7OAkewYIqWLVtaPUJA83m9Ktm8Ru7MNJVu2cjiZZsjD4DByVmgYMEUY8eOtXqEgOQrK1XR2o/lzlykil0/q07Ldmo44mFFdL5YruBgq8fDbyAPgMHJWaBgATZ0zOLlTj0Vc/N9LF4GgFqCggXYSHn+Nrkz01S09uOqxct1+wxRSJPmVo8GADgJFCyYIjc3V+3bt7d6jFrJWLy8Qe6MNJVsXqOgeg1ZvFzLkQfA4OQs8ClCmGLixIlWj1Dr+CrKVbRmmXY9NUYFzz+kygMFirnlr4r7+2uqd8XNlKtajDwABidngSNYMMWsWbOsHqHW8HoK5V71P7lXLpb3wB6Fte+hxvc8rrC2XTm/KkCQB8Dg5CxQsGAKJ38U90RVFOyQe3n6r4uXz79MdfsMYfFyACIPgMHJWaBgATWs9Mev5c5YqOJNqxQUWddYvHzJNQquG2P1aACAGkLBAmqAr7JSxZs+lTsj7YjFy2NYvAwADsFJ7jDFtGnTrB7BFrwlHhUuT1f+P5O0d+7jctUJVaM7p6jZQy8r+uIEypVDkAfA4OQscAQLpvB4PFaPYClj8fI7Klr1vrF4uWsf1R05SaGnt7F6NFjA6XkADnNyFihYMEVKSorVI1ii7OctcmemybN+hVyhYYrqNVDRlwxSSEwTq0eDhZyaB+BoTs4CBQs4SVWLlzMWqvS7Lw4tXr7z0OLlSKvHAwDYAAULOEG+slIVrVkm9/JFqtj1i0LPaK+Gtz+siE4sXgYAVEfBgikKCgrUuHFjq8eoEVWLl7Pek9dzUBGdeinm5vsVelZHLgyK4wrkPAAnw8lZ4FOEMEVSUpLVI5iuPP8n7Z33rPJShsudsUAR3foo9pE5apT0qMJanUO5wm8KxDwAf4aTs8ARLJhiypQpVo9gCp/Pp9Jv18uduejXxctXDlN0z4HsBsQJC5Q8AKfKyVmgYMEU3bp1s3qEU+KrKJcnZ7ncmWkq3/GD6jQ/SzG3/FWR3frIFVLH6vFQy9T2PABmcXIWKFhwNG9RodyrlhiLlw/uVXiH81V/8CiFtTmPtwABAH8aBQuOVFGwQ4XL0+VZ/aF8Xq+ielyu6L5DVCf2DKtHAwAEAE5yhynmzJlj9Qh/yOfzqfSHr1Tw6lTl//MOFecsV/Sl1ytu8uuKuXk85QqmqQ15APzByVmgYMEUOTk5Vo/wm3yVlfKsX6HdM+7X7ucmqCJ/mxpcP0Zxk19X/auGK7hujNUjIsDYOQ+APzk5C7xFCFPMnj3b6hGO4S3xqOjzD+Veka7KvTsV1rqzGo1KUXiH8+UK4r8tUHPsmAfACk7OAgULAadi3265V6Sr6LP35SsrVWTX3opm8TIAwI8oWAgYZT9vUWFmmorXr5ArNNxYvNx7kEIasHgZAOBfFCzUaj6vVyVfZ8udmWYsXm7YTPUHjVLUhf1ZvAwAsAwnosAUiYmJfv193rISuT9dop1PjNKeV6bIV16mhrc/rNhHXlXdPoMpV7CUv/MA2JWTs8ARLJhizJgxfvk9lYX75F75roo+fU9eT6GxePmWCQo7q6Nffj9wIvyVB8DunJwFChZM0b9//xp9/PK8rSpcvkietZ/IFRSsqAv7K7rPYIU0bl6jvxf4M2o6D0Bt4eQsULBgW4cXLxdmpKk0d62C6jcyFi/3GqigSBYvAwDsy5EFa9euXXr++ee1OjtbZ55xhu655x517tzZ6rFwiLF4OfPQ4uUfVad5K8Xc+ldFdmXxMgCgdnDcSe7bt2/Xed176LFpT+mD7S698n9L1L1HD3344YdWj1arpaenn/JjeIsKdfCjecqbOkL73n5awQ0aq/G9T6hp8mxFnd+PcoVaw4w8AIHAyVlw3BGsJ598UrsOFsub8qUU00IVFWVyPXeNxo6/X998/ZVcLpfVI9ZKqampGjx48J/62YrdO4zzq7KXsngZAeFU8gAEEidnwXEFa1nGclV2GSzFtDBuCAmVr/ed2vLvW1VQUKAmTbgo5Z8xf/78k7q/z+dT2Y9fqTAzTSWbPlNQZD1FX3q9ouOvZjcgar2TzQMQqJycBccVrKZNGuvbnT/Ie+SNu75XnbAwRUVFWTWWY/gqK1X8xacqzFio8m3fKKTpaWpww1hF9bhcrtAwq8eDw/h8Pm3ZskWlpaXq2LGjgoODrR4JQIBwXMG69+6/aMXNN0vz/ypdOFTaulbBH0zTiOHDFRnJxSlrirekyFi8vDxdlft2KaxNFxYvw1Lffvutbhp6qzbkrJUknX7GWZr76iu67LLLLJ4MQCBwXMG68cYbtXXrVqU89g8Vf/ycXC6Xrr/pZs2YMcPq0QLScRcv932UxcuwVEVFhQYMTNDPniDp3gVSeF1t/98TSrj6Gn3/3RY1b8711QCcGscdOnC5XHrwwQe1M2+HsrOz9csvv2he6tu8PXiKRo4cWe3rsp+3aM/rTyr/sREq+uwDRfVKUOzf56rh8AcpV7Dcxx9/rK3ff6fKka9J5yVK7S+V9+7/qswrvfnmm6f8+EfnAXAqJ2fBcUewDqtbt67OP/98q8cIGP379z+0eHm1CjPSVPb9JgU3ilX9QXexeBm2s3v3buP/NG39642RDRRcr6l27dp1yo/v5KtXA0dychYcW7BgHm9Zia5pWU87nxilit3bFXpGezW8/RFFdO4lVxAnDcN+4uPj5XK55Mt8QRr4N+PGTe+rfPdW9enT55Qff+jQoaf8GEAgcHIWKFj40yoP7pU7610VfbpEXo9bEZ1ZvIza4cwzz1RycrKmT/+7gjculje8nny5GbpiwJUaOHCg1eMBCAAULJy08rytKsxMk2dthlzBhxcvD1FI4zirRwNO2JNPPqmLLrpIb771lkqKS5R43wsaOXIkl2oAYAoKFk7Ir4uXF6o0d52xePmq4YrudZWCIusqKytL8fEULNQeLpdLQ4YM0ZAhQ0x/bCMP8aY/LlDbODkLFCz8Ll9FmTzrDi1eztuqOi3OVsywZEWe17vabsDp06c7NkTA0cgDYHByFihYOK7KooMqWvU/uVe+I+/BfQrveL7qD7lbYW26HHdf47x58yyYErAn8gAYnJwFChaqMRYvp8mT/ZGxePn8foruM0R1Ylv+7s9xFXzgV+QBMDg5CxQsGIuXfzi0ePnLIxcvX6Pgug2sHg8AgFqHguVgvspKFW/MUmHmQpVv+1YhTU9XgxvHKar7ZSxeBgDgFDhuVQ6MxcuFGQuV/4+R2vv6EwoKi1Sju6aq2d9eUnTPq/5UuUpOTq6BSYHaiTwABidngSNYDlKxb5fcK975dfFytz6K7nutQk9r/cc//Adatvz9c7QAJyEPgMHJWaBgOUDZtm9VmLFQxRtXyhUWqeiLr1b0JYkKbtDYtN8xduxY0x4LqO3IA2BwchYoWAHqNxcvXzRAQWERVo8HAEBAo2AFGG9ZiTzZy+RevshYvHxmBzUcOUkRnXqyeBkAAD+hYAUIqxcv5+bmqn379n75XYDdOTEPmzdv1vbt29W1a1c1atTI6nFgE07MwmF8irCWK8/bqr1vP6O8lBFyZy5SZPdLFfvIHDUaOclv5UqSJk6c6LffBdidk/Kwd+9eXdbvCnXs2FFXXHGF4lq00NSpU+Xz+aweDTbgpCwcjSNYtZDP51PpNznG4uVvchRcv7HqD7xNUT2vUlBktCUzzZo1y5LfC9iRk/Iw6q6/aEX2eumut6XTO6t81euaPHmyOnTooBtuuMHq8WAxJ2XhaBSsWuREFy/7U1lZmdavX6+oqCj5fL7j7ikEnMYpH03fu3evFi1Kk+/mGVKP640bh/xDQd9/pn+/MoeCBcdk4XgoWLVAZdFBFX26RO6sxYcWL1+g+tfeo7DWnS0tNIsXL1bSqLu0Z9dOSVKnLl218P/mq02bNpbNBMB/3G63fF6v1KB5tdu9DVpo374fLZoKsAcKlo2V794ud+YiY/GyfIrqcbmi+16rOs1Ot3o0fffdd7ru+utV2bG/lPQ3qWivvl6QrKsSrtG3uV8rKIjT+4BAd/rpp+vsNu30wyez5Ot4hRQaIeVtVvAX7+qqv95v9XiApShYNlO1eDljoUq++lxBUfVU9/IbFBV/tYKj7bN4+fXXX5cvLFq+UW8b/1KVVBnZQN9P66OVK1eqT58+Fk8IWGfatGl68MEHrR6jxrlcLr0we6YSrrlGvodby9usrXw/rNbZbdvq/vspWHBOFo6HgmUTxuLllSrMWKjyn7copFlLxdw4TpE2Xby8Z88eueo1rSpXkqRGZ1R9D3Ayj8dj9Qh+c8UVV+jLL77Qyy+/rO3bt6vn2Jt0++23q27dulaPBhtwUhaOZtuC9fbbb+uf//ynysrKNH78eI0ePdrqkWqEt6RIRZ99IPeKd1S5b5fC2pynRndNVXj7HnLZ+G22yy67TM8//7z01VLpnP6Szycte04hdero4osvrrrft99+q88++0yxsbG6/PLLFRJi23/kANOkpKRYPYJftW3bVv/617+sHgM25LQsHMmWr3bbt2/Xww8/rPXr1yssLEy9evVSnz59dO6551o9mmkq9u2Se3m6ij77QL7yUkV263to8fLZVo92QgYNGqR+/Qdo2XPXKKh1LwV59qpi+2Y99sQTatasmbxer8aOHWuUsENatWmrjz54X61atbJwcgAAap4tC9ayZcvUr18/xcTESJKuv/56LViwICAKVtm2b1SYkfbr4uV48xcv+0NISIiWvLtYb7zxht5//31FRZ2t4cOfU79+/SRJqampRrm68SnpkjulvK/105zhGnbbCK3KWmnx9AAA1CxbFqy8vDzFxcVVfR0XF6fs7GwLJzo1Pm+lSr7KVmHGQpX98KWCG8WpweC/KPLC/rV68XJoaKjuuOMO3XHHHSooKFDjxr+WxDffeltB7fvI22+cccOZPVR5zRR99spw/fzzzzr9dOs/CQnUlKPzADiVk7Ngy5N8jrdioTZ+7N9bViJ31rva+fgo7ZmTIvm8ajRykmIfeUXRvQfV6nJ1tKSkpGpfl5aWyhsaVf1O4dFV3wMC2dF5AJzKyVmwZWtp0aKF8vPzq77esWOHWrRo8Zv3HzhwoBITE6v91bNnT6Wnp1e739KlS5WYmHjMz48ePVpz5sypdltOTo4SExNVUFBQ7fbJkydr2rRp1W7btm2bEhMTlZubK8lYvHxgyVxt/dsN2rtgtuq0aKUm459V0/ueka9NNw0aPERZWVnVHiM1NVUjR448ZrabbrrJsudx2MyZM5WcnFztNo/Ho8TExKrnMWXKlGrPY1DiNXJ9tVT66iPjBwoL5PrfE2rTvoPOPvts2z6Pw2r7nwfPw9rn8eCDDwbE8wiUPw+eh3XPo3379gHxPI7880hNTVViYqISEhIUGxur+Ph4jR8//phZXD4bbuTcsWOHLr74YmVnZysyMlK9evXSnDlz1KNHj2r3y8nJUffu3bVu3Tp169bNoml/Vb7jRxVmpsmzLlOukBBFXThA0X0GK6RRrNWj+V1JSYkGXn2NMj5epjpNzlDl/nxFhIfpow8/UM+ePa0eDwAA0xyvj9jyHKzmzZvr8ccf16WXXqry8nKNGjXqmHJlFz6fT6W561SYmfbr4uWE2xR1kXWLl+0gPDxcH334gZYsWaKsrCzFxcXp1ltvVdOmTa0eDQCAGmfLgiVJQ4cO1dChQ60e4zcdXrxcmJmmirytqnPa2Wo4bKIiuvaWK9i2f1v9Kjg4uOotWwAAnMSW52DZWWXRQR1c+rbyUkZoX+ozCmnYTI1HT1PTCbMU2eMyx5aro9/zBpyMPAAGJ2eBgnWCynf9on3/N0v5U4br4EfzFHHuRWr20MtqPCpF4W26yOVyWT2ipXJycqweAbAN8gAYnJwFZx5uOUHG4uUvDy1eXq2gqPqqe/mNiopPsNXiZTuYPXu21SMAtkEeAIOTs0DBOg5fZYWKN6xUYWaasXg5tqVibrrPWLxcJ9Tq8QAAgM1RsI7gLS5S0ecfyL08XZX7dyus7XlqdNdjCm/f3daLlwEAgL1QsCRV7N1pLF7+/EP5KsqMxct9htSaxcsAAMBeHH1YpuznLdrz2hPK/8dIFWV/pOj4qxX36Fw1vPWvlKuTxKUYgF+RB8Dg5Cw49giWz+tVwYuT5AqPVIMhdyvygisCajegv40ZM8bqEQDbIA+AwclZcGzBcgUFqdlD/1ZQZLRcQcFWj1Pr9e/f3+oRANsgD4DByVlwbMGSpODo+laPAAAAApCjz8ECAACoCRQsmCI9Pd3qEQDbIA+AwclZoGDBFNOmTbN6BMA2yANgcHIWKFgwRZMmTaweAbAN8gAYnJwFChYAAIDJKFgAAAAmo2ABAACYLCCug7V582arR3C87Oxs5eTkWD0GYAvkATA4JQvH6yEun8/ns2AWU+Tl5Wno0KFavny51aMAAAAH69Onj1JTUxUXFyeplhcsyShZeXl5Vo8BAAAcLC4urqpcSQFQsAAAAOyGk9wBAABMRsECAAAwGQULJ6WwsFCdOnXStm3bjvnehg0b1KNHD7Vr10533nmnKioqLJgQ8J/fy8NLL72kFi1aqGvXrurataseffRRCyYE/OOZZ57Rueeeq06dOikpKUnl5eXVvu/E1wcKFk7Y6tWrdckll2jLli3H/f6wYcM0c+ZMffPNN5KkF1980Z/jAX71R3lYs2aNnn/+ea1fv17r16/XY4895ucJAf/Izs7W3LlztWbNGm3atEkVFRWaPXt2tfs48fWBgoUT9tJLL2nWrFnVPiVx2E8//aTi4mL17NlTknT77bdrwYIF/h4R8Jvfy4NkvOi89NJL6tKli0aMGKEDBw74eULAPxo2bKjZs2crIiJCktS5c+dqR3Wd+vpAwcIJe/XVVxUfH3/c7+3YsUPNmzev+jo2NpbLZyCg/V4evF6vWrZsqccee0wbN27UaaedpnHjxvl5QsA/WrdurUsuuUSStGvXLs2ePVuDBg2q+r5TXx8C4krusN7xrvYRFER/hzMFBQXpvffeq/p64sSJatWqlYUTATVv69atSkhI0F133aU+ffpU3e7U14fAf4bwixYtWig/P7/q67y8vGr/xQI4SUFBgWbNmlX1dUVFhUJC+O9ZBK4NGzYoPj5e9957rx566KFq33Pq6wMFC6Y444wzFB4erqysLEnS3LlzNXDgQIunAqwRFRWllJSUqh1szz33nK699lqLpwJqxu7du3XllVdq1qxZGj169DHfd+rrAwULpyQhIaHqReStt97ShAkT1KFDB5WWlnLOCRzncB4iIiKUmpqqpKQkdejQQZs2bdL06dOtHg+oETNmzJDb7VZKSkrVZUkmTZqkhIQErVu3TpIzXx9YlQMAAGAyjmABAACYjIIFAABgMgoWAACAyShYAAAAJqNgAQAAmIyCBQAAYDIKFgAAgMkoWAAAACajYAEIWEFBQXr99ddP6L5nnnmmUlJSJBmrPJywjBZAzeHfIAAgyeVyyeVySZJuvvnmastpAeBksd4dAI4SHh6u8PBwq8cAUItxBAtAwJsyZYrOOuusarf93tuAR3/vq6++0uDBg9WoUSOFhYWpTZs2eu6552p0ZgC1GwULQMA7/Nbfn+HxeNSvXz/Vq1dPq1at0ubNm3XjjTdq/Pjx2rhxo4lTAggkFCwAAc/n8/3pn/V4PHrggQf0/PPPq127dmrVqpUmT54sSfryyy/NGhFAgOEcLAD4HY0bN9bdd9+t1NRUbdy4Ud999502bNggSaqsrLR4OgB2xREsAAFh586d1Y4oHT5qFRISUu3rw8rLy0/4cTt37qxXXnlFzZs31z333KN169aZNDWAQMURLAAB4amnntL7779fVbL2798vSWrSpIm2bt2qgwcPVrv/d999d0KP+9Zbb2nv3r367rvvFBwcLEnatGmTpFN76xFAYOMIFoCAcMUVV+jrr7/W66+/rh9++EGTJk1STEyMevbsqfj4eO3fv19PPvmktm7dqrfffltz586t9vO/VZZOP/10FRUVaf78+dq2bZuWLl2qW265RXXq1FFJSYkfnhmA2oiCBSAg9O/fX08//bSmTJmic889V+vWrdO7776r6Oho9e7dW//85z81a9YsdezYUW+88Yaefvrpap8uPPqThoe/vuGGG5ScnKwJEyaoXbt2mjp1qmbMmKG+ffsqOzvbr88RQO3h8nGMGwAAwFQcwQIAADAZBQsAAMBkFCwAAACTUbAAAABMRsECAAAwGQULAADAZP8f8R6wHJncXWcAAAAASUVORK5CYII=\" />"
      ]
     },
     "execution_count": 24,
     "metadata": {},
     "output_type": "execute_result"
    }
   ],
   "source": [
    "scatter(benchmark[:Julia], benchmark[:R], legend=false, xlab=\"Julia\", ylab=\"R\")\n",
    "Plots.abline!(pend, inter)"
   ]
  },
  {
   "cell_type": "code",
   "execution_count": 25,
   "metadata": {
    "collapsed": false,
    "slideshow": {
     "slide_type": "slide"
    }
   },
   "outputs": [
    {
     "data": {
      "text/plain": [
       "1000-element Array{Float64,1}:\n",
       " 0.326723\n",
       " 0.327877\n",
       " 0.615056\n",
       " ⋮       \n",
       " 0.787692\n",
       " 0.636218"
      ]
     },
     "execution_count": 25,
     "metadata": {},
     "output_type": "execute_result"
    }
   ],
   "source": [
    "using Distributions\n",
    "\n",
    "β = rand(Beta(2,2), 1000)"
   ]
  },
  {
   "cell_type": "markdown",
   "metadata": {
    "slideshow": {
     "slide_type": "slide"
    }
   },
   "source": [
    "### Usando bibliotecas de R"
   ]
  },
  {
   "cell_type": "code",
   "execution_count": 27,
   "metadata": {
    "collapsed": false,
    "slideshow": {
     "slide_type": "-"
    }
   },
   "outputs": [
    {
     "name": "stderr",
     "output_type": "stream",
     "text": [
      "\n",
      "This is package 'modeest' written by P. PONCET.\n",
      "For a complete list of functions, use 'library(help = \"modeest\")' or 'help.start()'.\n",
      "\n"
     ]
    },
    {
     "data": {
      "text/plain": [
       "RCall.RObject{RCall.RealSxp}\n",
       "[1] 0.5082594\n"
      ]
     },
     "execution_count": 27,
     "metadata": {},
     "output_type": "execute_result"
    }
   ],
   "source": [
    "# R\"\"\"\n",
    "# install.packages(\"modeest\")\n",
    "# \"\"\"\n",
    "\n",
    "@rimport modeest as rmode\n",
    "\n",
    "β_mode = rmode.hsm(β) # half-sample mode"
   ]
  },
  {
   "cell_type": "code",
   "execution_count": 28,
   "metadata": {
    "collapsed": false,
    "slideshow": {
     "slide_type": "-"
    }
   },
   "outputs": [
    {
     "data": {
      "text/html": [
       "0.5082594499045219"
      ],
      "text/plain": [
       "0.5082594499045219"
      ]
     },
     "execution_count": 28,
     "metadata": {},
     "output_type": "execute_result"
    }
   ],
   "source": [
    "rcopy(β_mode)"
   ]
  },
  {
   "cell_type": "markdown",
   "metadata": {
    "slideshow": {
     "slide_type": "slide"
    }
   },
   "source": [
    "## Clustering"
   ]
  },
  {
   "cell_type": "code",
   "execution_count": 29,
   "metadata": {
    "collapsed": false,
    "slideshow": {
     "slide_type": "-"
    }
   },
   "outputs": [
    {
     "data": {
      "text/html": [
       "<table class=\"data-frame\"><thead><tr><th></th><th>SepalLength</th><th>SepalWidth</th><th>PetalLength</th><th>PetalWidth</th><th>Species</th></tr></thead><tbody><tr><th>1</th><td>5.1</td><td>3.5</td><td>1.4</td><td>0.2</td><td>setosa</td></tr><tr><th>2</th><td>4.9</td><td>3.0</td><td>1.4</td><td>0.2</td><td>setosa</td></tr><tr><th>3</th><td>4.7</td><td>3.2</td><td>1.3</td><td>0.2</td><td>setosa</td></tr><tr><th>4</th><td>4.6</td><td>3.1</td><td>1.5</td><td>0.2</td><td>setosa</td></tr><tr><th>5</th><td>5.0</td><td>3.6</td><td>1.4</td><td>0.2</td><td>setosa</td></tr><tr><th>6</th><td>5.4</td><td>3.9</td><td>1.7</td><td>0.4</td><td>setosa</td></tr><tr><th>7</th><td>4.6</td><td>3.4</td><td>1.4</td><td>0.3</td><td>setosa</td></tr><tr><th>8</th><td>5.0</td><td>3.4</td><td>1.5</td><td>0.2</td><td>setosa</td></tr><tr><th>9</th><td>4.4</td><td>2.9</td><td>1.4</td><td>0.2</td><td>setosa</td></tr><tr><th>10</th><td>4.9</td><td>3.1</td><td>1.5</td><td>0.1</td><td>setosa</td></tr><tr><th>&vellip;</th><td>&vellip;</td><td>&vellip;</td><td>&vellip;</td><td>&vellip;</td><td>&vellip;</td></tr></tbody></table>"
      ],
      "text/plain": [
       "150×5 DataFrames.DataFrame\n",
       "│ Row │ SepalLength │ SepalWidth │ PetalLength │\n",
       "├─────┼─────────────┼────────────┼─────────────┤\n",
       "│ 1   │ 5.1         │ 3.5        │ 1.4         │\n",
       "⋮\n",
       "│ 149 │ 6.2         │ 3.4        │ 5.4         │\n",
       "│ 150 │ 5.9         │ 3.0        │ 5.1         │\n",
       "\n",
       "│ Row │ PetalWidth │ Species     │\n",
       "├─────┼────────────┼─────────────┤\n",
       "│ 1   │ 0.2        │ \"setosa\"    │\n",
       "⋮\n",
       "│ 149 │ 2.3        │ \"virginica\" │\n",
       "│ 150 │ 1.8        │ \"virginica\" │"
      ]
     },
     "execution_count": 29,
     "metadata": {},
     "output_type": "execute_result"
    }
   ],
   "source": [
    "iris = readtable(joinpath(\"data\", \"iris.csv\"))"
   ]
  },
  {
   "cell_type": "code",
   "execution_count": 31,
   "metadata": {
    "collapsed": false,
    "slideshow": {
     "slide_type": "slide"
    }
   },
   "outputs": [
    {
     "data": {
      "text/plain": [
       "Clustering.KmeansResult{Float64}([1.35926 0.246 2.04783; 4.29259 1.462 5.62609],[2,2,2,2,2,2,2,2,2,2  …  3,3,3,3,3,3,3,3,3,3],[0.00596,0.00596,0.02836,0.00356,0.00596,0.08036,0.00676,0.00356,0.00596,0.02276  …  0.124707,0.340359,0.29862,0.13862,0.209924,0.245142,0.413837,0.183837,0.114707,0.338185],[54,50,46],[54.0,50.0,46.0],31.412885668276868,5,true)"
      ]
     },
     "execution_count": 31,
     "metadata": {},
     "output_type": "execute_result"
    }
   ],
   "source": [
    "using Clustering\n",
    "\n",
    "cl = kmeans(convert(Matrix{Float64}, iris[:, [:PetalWidth, :PetalLength]])', 3)"
   ]
  },
  {
   "cell_type": "code",
   "execution_count": 32,
   "metadata": {
    "collapsed": false,
    "slideshow": {
     "slide_type": "fragment"
    }
   },
   "outputs": [
    {
     "data": {
      "text/plain": [
       "3×2 Array{Float64,2}:\n",
       " 1.35926  4.29259\n",
       " 0.246    1.462  \n",
       " 2.04783  5.62609"
      ]
     },
     "execution_count": 32,
     "metadata": {},
     "output_type": "execute_result"
    }
   ],
   "source": [
    "cl.centers'"
   ]
  },
  {
   "cell_type": "code",
   "execution_count": 33,
   "metadata": {
    "collapsed": false,
    "slideshow": {
     "slide_type": "fragment"
    }
   },
   "outputs": [
    {
     "data": {
      "text/html": [
       "<table class=\"data-frame\"><thead><tr><th></th><th>Species</th><th>x1</th></tr></thead><tbody><tr><th>1</th><td>setosa</td><td>(0.24600000000000002,1.462)</td></tr><tr><th>2</th><td>versicolor</td><td>(1.3259999999999998,4.260000000000001)</td></tr><tr><th>3</th><td>virginica</td><td>(2.026,5.5520000000000005)</td></tr></tbody></table>"
      ],
      "text/plain": [
       "3×2 DataFrames.DataFrame\n",
       "│ Row │ Species      │ x1            │\n",
       "├─────┼──────────────┼───────────────┤\n",
       "│ 1   │ \"setosa\"     │ (0.246,1.462) │\n",
       "│ 2   │ \"versicolor\" │ (1.326,4.26)  │\n",
       "│ 3   │ \"virginica\"  │ (2.026,5.552) │"
      ]
     },
     "execution_count": 33,
     "metadata": {},
     "output_type": "execute_result"
    }
   ],
   "source": [
    "by(iris, :Species, df -> (mean(df[:PetalWidth]), mean(df[:PetalLength])))"
   ]
  }
 ],
 "metadata": {
  "celltoolbar": "Slideshow",
  "default_encoding": "UTF-8",
  "kernelspec": {
   "display_name": "Julia 0.5.0",
   "language": "julia",
   "name": "julia-0.5"
  },
  "language_info": {
   "file_extension": ".jl",
   "mimetype": "application/julia",
   "name": "julia",
   "version": "0.5.0"
  }
 },
 "nbformat": 4,
 "nbformat_minor": 0
}
