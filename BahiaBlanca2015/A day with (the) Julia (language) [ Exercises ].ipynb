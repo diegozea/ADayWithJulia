{
 "cells": [
  {
   "cell_type": "markdown",
   "metadata": {
    "slideshow": {
     "slide_type": "slide"
    }
   },
   "source": [
    "# A day with (the) Julia (language)\n",
    "\n",
    "## Exercises"
   ]
  },
  {
   "cell_type": "markdown",
   "metadata": {
    "slideshow": {
     "slide_type": "slide"
    }
   },
   "source": [
    "### I. Escribir una función para convertir un archivo Stockholm en FASTA."
   ]
  },
  {
   "cell_type": "markdown",
   "metadata": {
    "slideshow": {
     "slide_type": "fragment"
    }
   },
   "source": [
    "**Pista:** En un archivo con formato [Stockholm](https://en.wikipedia.org/wiki/Stockholm_format), las secuencias son las únicas líneas que no comienzan con numeral **#=** ni **//**, la regex es: ```^(?![#=|//])```\n",
    "\n",
    "```\n",
    "O31699/88-139           EVMLTDIPRLHINDPIMKGFGMVINN..GFVCVENDE\n",
    "#=GR O31699/88-139 AS   ________________*____________________\n",
    "//\n",
    "```\n",
    "\n",
    "**Usar**: `match`, `@r_str`, `open`, `eachline`, `close`, `println` or `print`  \n",
    "**Opcional**: `chomp`"
   ]
  },
  {
   "cell_type": "code",
   "execution_count": 16,
   "metadata": {
    "collapsed": false,
    "slideshow": {
     "slide_type": "fragment"
    }
   },
   "outputs": [
    {
     "data": {
      "text/plain": [
       "stockholm2fasta (generic function with 1 method)"
      ]
     },
     "execution_count": 16,
     "metadata": {},
     "output_type": "execute_result"
    }
   ],
   "source": [
    "\"\"\"Función para convertir un archivo Stockholm en FASTA (secuencia en una sola línea).\n",
    "La función toma como argumentos la dirección/nombre de un archivo Stockholm y del archivo FASTA que se creara.\n",
    "La función retorna la dirección/nombre del FASTA.\"\"\"\n",
    "function stockholm2fasta(sto, fas)\n",
    "    \n",
    "    # COMPLETAR\n",
    "    \n",
    "end"
   ]
  },
  {
   "cell_type": "code",
   "execution_count": 43,
   "metadata": {
    "collapsed": false,
    "slideshow": {
     "slide_type": "fragment"
    }
   },
   "outputs": [
    {
     "name": "stdout",
     "output_type": "stream",
     "text": [
      "search: "
     ]
    },
    {
     "data": {
      "text/latex": [
       "Función para convertir un archivo Stockholm en FASTA (secuencia en una sola línea). La función toma como argumentos la dirección/nombre de un archivo Stockholm y del archivo FASTA que se creara. La función retorna la dirección/nombre del FASTA.\n"
      ],
      "text/markdown": [
       "Función para convertir un archivo Stockholm en FASTA (secuencia en una sola línea). La función toma como argumentos la dirección/nombre de un archivo Stockholm y del archivo FASTA que se creara. La función retorna la dirección/nombre del FASTA.\n"
      ],
      "text/plain": [
       "Función para convertir un archivo Stockholm en FASTA (secuencia en una sola línea). La función toma como argumentos la dirección/nombre de un archivo Stockholm y del archivo FASTA que se creara. La función retorna la dirección/nombre del FASTA.\n"
      ]
     },
     "execution_count": 43,
     "metadata": {},
     "output_type": "execute_result"
    },
    {
     "name": "stdout",
     "output_type": "stream",
     "text": [
      "stockholm2fasta\n",
      "\n"
     ]
    }
   ],
   "source": [
    "?stockholm2fasta"
   ]
  },
  {
   "cell_type": "code",
   "execution_count": 44,
   "metadata": {
    "collapsed": false,
    "slideshow": {
     "slide_type": "slide"
    }
   },
   "outputs": [
    {
     "data": {
      "text/plain": [
       "stockholm2fasta (generic function with 1 method)"
      ]
     },
     "execution_count": 44,
     "metadata": {},
     "output_type": "execute_result"
    }
   ],
   "source": [
    "\"\"\"Función para convertir un archivo Stockholm en FASTA (secuencia en una sola línea).\n",
    "La función toma como argumentos la dirección/nombre de un archivo Stockholm y del archivo FASTA que se creara.\n",
    "La función retorna la dirección/nombre del FASTA.\"\"\"\n",
    "function stockholm2fasta(sto, fas)\n",
    "    fh_in  = open(sto, \"r\")\n",
    "    open(fas, \"w\") do fh_out\n",
    "        for line in eachline(fh_in)\n",
    "            m = match(r\"^(?![#=|//])(\\S+)\\s+(\\S+)\", line)\n",
    "            if m != nothing\n",
    "                println(fh_out, \">\", m.captures[1], \"\\n\", m.captures[2])\n",
    "            end\n",
    "        end\n",
    "    end\n",
    "    close(fh_in)\n",
    "    fas\n",
    "end"
   ]
  },
  {
   "cell_type": "code",
   "execution_count": 50,
   "metadata": {
    "collapsed": false,
    "slideshow": {
     "slide_type": "fragment"
    }
   },
   "outputs": [
    {
     "data": {
      "text/plain": [
       "\"data/out.fas\""
      ]
     },
     "execution_count": 50,
     "metadata": {},
     "output_type": "execute_result"
    }
   ],
   "source": [
    "stockholm2fasta(\"data/PF09645_full.stockholm\", \"data/out.fas\")"
   ]
  },
  {
   "cell_type": "code",
   "execution_count": 51,
   "metadata": {
    "collapsed": false,
    "slideshow": {
     "slide_type": "fragment"
    }
   },
   "outputs": [
    {
     "name": "stdout",
     "output_type": "stream",
     "text": [
      ">C3N734_SULIY/1-95\n",
      "...mp---NSYQMAEIMYKILQQKKEISLEDILAQFEISASTAYNVQRTLRMICEKHPDECEVQTKNRRTIFKWIKNEETTEEGQEE--QEIEKILNAQPAE-------------k....\n",
      ">H2C869_9CREN/7-104\n",
      "...nk--LNDVQRAKLLVKILQAKGELDVYDIMLQFEISYTRAIPIMKLTRKICEAQ-EICTYDEKEHKLVSLNAKKEKVEQDEEENEREEIEKILDAH----------------trreq\n",
      ">Y070_ATV/2-70\n",
      "qsvne-------VAQQLFSKLREKKEITAEDIIAIYNVTPSVAYAIFTVLKVMCQQHQGECQAIKRGRKTVI-------------------------------------------vskq.\n",
      ">F112_SSV1/3-112\n",
      ".....QTLNSYKMAEIMYKILEKKGELTLEDILAQFEISVPSAYNIQRALKAICERHPDECEVQYKNRKTTFKWIKQEQKEEQKQEQTQDNIAKIFDAQPANFEQTDQGFIKAKQ.....\n"
     ]
    }
   ],
   "source": [
    "run(`cat ./data/out.fas`)"
   ]
  },
  {
   "cell_type": "markdown",
   "metadata": {
    "slideshow": {
     "slide_type": "slide"
    }
   },
   "source": [
    "### II. Escribir una función para convertir un archivo Stockholm en FASTA usando BioPython    \n",
    "  \n",
    "Usar [**PyCall**](https://github.com/stevengj/PyCall.jl) para importar BioPython en Julia. Un ejemplo similar en (Bio)Python está al final de la [wiki de AlignIO](http://biopython.org/wiki/AlignIO):  \n",
    "\n",
    "```python\n",
    "from Bio import AlignIO\n",
    " \n",
    "input_handle = open(\"example.phy\", \"rU\")\n",
    "output_handle = open(\"example.sth\", \"w\")\n",
    " \n",
    "alignments = AlignIO.parse(input_handle, \"phylip\")\n",
    "AlignIO.write(alignments, output_handle, \"stockholm\")\n",
    " \n",
    "output_handle.close()\n",
    "input_handle.close()\n",
    "```\n",
    "  \n",
    "**Usar:** `AlignIO.parse`, `AlignIO.write`"
   ]
  },
  {
   "cell_type": "code",
   "execution_count": 63,
   "metadata": {
    "collapsed": false,
    "slideshow": {
     "slide_type": "fragment"
    }
   },
   "outputs": [
    {
     "data": {
      "text/plain": [
       "py_stockholm2fasta (generic function with 1 method)"
      ]
     },
     "execution_count": 63,
     "metadata": {},
     "output_type": "execute_result"
    }
   ],
   "source": [
    "using PyCall \n",
    "\n",
    "@pyimport Bio.AlignIO as AlignIO\n",
    "\n",
    "\"\"\"Función para convertir un archivo Stockholm en FASTA usando BioPython.\n",
    "La función toma como argumentos la dirección/nombre de un archivo Stockholm y del archivo FASTA que se creara.\n",
    "La función retorna la dirección/nombre del FASTA.\"\"\"\n",
    "function py_stockholm2fasta(sto, fas)\n",
    "    fh_in  = open(sto, \"r\")\n",
    "    open(fas, \"w\") do fh_out\n",
    "        \n",
    "        # COMPLETAR\n",
    "        \n",
    "    end\n",
    "    close(fh_in)\n",
    "    fas\n",
    "end"
   ]
  },
  {
   "cell_type": "code",
   "execution_count": 64,
   "metadata": {
    "collapsed": false,
    "slideshow": {
     "slide_type": "slide"
    }
   },
   "outputs": [
    {
     "data": {
      "text/plain": [
       "py_stockholm2fasta (generic function with 1 method)"
      ]
     },
     "execution_count": 64,
     "metadata": {},
     "output_type": "execute_result"
    }
   ],
   "source": [
    "using PyCall \n",
    "\n",
    "@pyimport Bio.AlignIO as AlignIO\n",
    "\n",
    "\"\"\"Función para convertir un archivo Stockholm en FASTA usando BioPython.\n",
    "La función toma como argumentos la dirección/nombre de un archivo Stockholm y del archivo FASTA que se creara.\n",
    "La función retorna la dirección/nombre del FASTA.\"\"\"\n",
    "function py_stockholm2fasta(sto, fas)\n",
    "    fh_in  = open(sto, \"r\")\n",
    "    open(fas, \"w\") do fh_out\n",
    "        alignments = AlignIO.parse(fh_in, \"stockholm\")\n",
    "        AlignIO.write(alignments, fh_out,\"fasta\")\n",
    "    end\n",
    "    close(fh_in)\n",
    "    fas\n",
    "end"
   ]
  },
  {
   "cell_type": "code",
   "execution_count": 65,
   "metadata": {
    "collapsed": false,
    "slideshow": {
     "slide_type": "fragment"
    }
   },
   "outputs": [
    {
     "data": {
      "text/plain": [
       "\"data/py_out.fas\""
      ]
     },
     "execution_count": 65,
     "metadata": {},
     "output_type": "execute_result"
    }
   ],
   "source": [
    "py_stockholm2fasta(\"data/PF09645_full.stockholm\", \"data/py_out.fas\")"
   ]
  },
  {
   "cell_type": "code",
   "execution_count": 66,
   "metadata": {
    "collapsed": false,
    "slideshow": {
     "slide_type": "fragment"
    }
   },
   "outputs": [
    {
     "name": "stdout",
     "output_type": "stream",
     "text": [
      ">C3N734_SULIY/1-95\n",
      "---mp---NSYQMAEIMYKILQQKKEISLEDILAQFEISASTAYNVQRTLRMICEKHPDE\n",
      "CEVQTKNRRTIFKWIKNEETTEEGQEE--QEIEKILNAQPAE-------------k----\n",
      ">H2C869_9CREN/7-104\n",
      "---nk--LNDVQRAKLLVKILQAKGELDVYDIMLQFEISYTRAIPIMKLTRKICEAQ-EI\n",
      "CTYDEKEHKLVSLNAKKEKVEQDEEENEREEIEKILDAH----------------trreq\n",
      ">Y070_ATV/2-70\n",
      "qsvne-------VAQQLFSKLREKKEITAEDIIAIYNVTPSVAYAIFTVLKVMCQQHQGE\n",
      "CQAIKRGRKTVI-------------------------------------------vskq-\n",
      ">F112_SSV1/3-112\n",
      "-----QTLNSYKMAEIMYKILEKKGELTLEDILAQFEISVPSAYNIQRALKAICERHPDE\n",
      "CEVQYKNRKTTFKWIKQEQKEEQKQEQTQDNIAKIFDAQPANFEQTDQGFIKAKQ-----\n"
     ]
    }
   ],
   "source": [
    "run(`cat ./data/py_out.fas`)"
   ]
  }
 ],
 "metadata": {
  "celltoolbar": "Slideshow",
  "kernelspec": {
   "display_name": "Julia 0.4.0-rc3",
   "language": "julia",
   "name": "julia-0.4"
  },
  "language_info": {
   "file_extension": ".jl",
   "mimetype": "application/julia",
   "name": "julia",
   "version": "0.4.0"
  }
 },
 "nbformat": 4,
 "nbformat_minor": 0
}
