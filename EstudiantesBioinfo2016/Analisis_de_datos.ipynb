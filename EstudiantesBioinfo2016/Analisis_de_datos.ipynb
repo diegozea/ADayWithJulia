{
 "cells": [
  {
   "cell_type": "markdown",
   "metadata": {
    "slideshow": {
     "slide_type": "slide"
    }
   },
   "source": [
    "# A day with *(the)* Julia *(language)*  \n",
    "\n",
    "## Análisis de datos   \n",
    "   "
   ]
  },
  {
   "cell_type": "code",
   "execution_count": 1,
   "metadata": {
    "collapsed": true,
    "slideshow": {
     "slide_type": "notes"
    }
   },
   "outputs": [],
   "source": [
    "ENV[\"LINES\"]   = 10 \n",
    "ENV[\"COLUMNS\"] = 60;"
   ]
  },
  {
   "cell_type": "markdown",
   "metadata": {
    "collapsed": false,
    "slideshow": {
     "slide_type": "slide"
    }
   },
   "source": [
    "- *DataFrame* para manejar datos tabulares, datos faltantes...\n",
    "- *Gadfly* para hacer rápidamente gráficos estadísticos al estilo de *ggplot2* \n",
    "- *Plots* para graficar independiente del *backend*, soporte para animaciones, gráficos interactivos con *Plotly* o 3D, etc.\n",
    "- *IJulia* para trabajar con IPython/**Ju**pyter notebooks, e *Interact*\n",
    "- Test estadísticos, clustering, etc. con los paquetes de la organización [**JuliaStats**](http://juliastats.github.io/)"
   ]
  },
  {
   "cell_type": "code",
   "execution_count": 2,
   "metadata": {
    "collapsed": false,
    "slideshow": {
     "slide_type": "slide"
    }
   },
   "outputs": [
    {
     "data": {
      "text/html": [
       "<table class=\"data-frame\"><tr><th></th><th>Benchmark</th><th>Fortran</th><th>Julia</th><th>Python</th><th>R</th><th>Matlab</th><th>Octave</th><th>Mathematica</th><th>JavaScript</th><th>Go</th><th>LuaJIT</th><th>Java</th></tr><tr><th>1</th><td>fib</td><td>0.7</td><td>2.11</td><td>77.76</td><td>533.52</td><td>26.89</td><td>9324.35</td><td>118.53</td><td>3.36</td><td>1.86</td><td>1.71</td><td>1.21</td></tr><tr><th>2</th><td>parse_int</td><td>5.05</td><td>1.45</td><td>17.02</td><td>45.73</td><td>802.52</td><td>9581.44</td><td>15.02</td><td>6.06</td><td>1.2</td><td>5.77</td><td>3.35</td></tr><tr><th>3</th><td>quicksort</td><td>1.31</td><td>1.15</td><td>32.89</td><td>264.54</td><td>4.92</td><td>1866.01</td><td>43.23</td><td>2.7</td><td>1.29</td><td>2.03</td><td>2.6</td></tr><tr><th>4</th><td>mandel</td><td>0.81</td><td>0.79</td><td>15.32</td><td>53.16</td><td>7.58</td><td>451.81</td><td>5.13</td><td>0.66</td><td>1.11</td><td>0.67</td><td>1.35</td></tr><tr><th>5</th><td>pi_sum</td><td>1.0</td><td>1.0</td><td>21.99</td><td>9.56</td><td>1.0</td><td>299.31</td><td>1.69</td><td>1.01</td><td>1.0</td><td>1.0</td><td>1.0</td></tr><tr><th>6</th><td>rand_mat_stat</td><td>1.45</td><td>1.66</td><td>17.93</td><td>14.56</td><td>14.52</td><td>30.93</td><td>5.95</td><td>2.3</td><td>2.96</td><td>3.27</td><td>3.92</td></tr><tr><th>7</th><td>rand_mat_mul</td><td>3.48</td><td>1.02</td><td>1.14</td><td>1.57</td><td>1.12</td><td>1.12</td><td>1.3</td><td>15.07</td><td>1.42</td><td>1.16</td><td>2.36</td></tr></table>"
      ],
      "text/plain": [
       "7x12 DataFrames.DataFrame\n",
       "│ Row │ Benchmark       │ Fortran │ Julia │ Python │\n",
       "┝━━━━━┿━━━━━━━━━━━━━━━━━┿━━━━━━━━━┿━━━━━━━┿━━━━━━━━┥\n",
       "│ 1   │ \"fib\"           │ 0.7     │ 2.11  │ 77.76  │\n",
       "⋮\n",
       "│ 6   │ \"rand_mat_stat\" │ 1.45    │ 1.66  │ 17.93  │\n",
       "│ 7   │ \"rand_mat_mul\"  │ 3.48    │ 1.02  │ 1.14   │\n",
       "\n",
       "│ Row │ R      │ Matlab │ Octave  │ Mathematica │\n",
       "┝━━━━━┿━━━━━━━━┿━━━━━━━━┿━━━━━━━━━┿━━━━━━━━━━━━━┥\n",
       "│ 1   │ 533.52 │ 26.89  │ 9324.35 │ 118.53      │\n",
       "⋮\n",
       "│ 6   │ 14.56  │ 14.52  │ 30.93   │ 5.95        │\n",
       "│ 7   │ 1.57   │ 1.12   │ 1.12    │ 1.3         │\n",
       "\n",
       "│ Row │ JavaScript │ Go   │ LuaJIT │ Java │\n",
       "┝━━━━━┿━━━━━━━━━━━━┿━━━━━━┿━━━━━━━━┿━━━━━━┥\n",
       "│ 1   │ 3.36       │ 1.86 │ 1.71   │ 1.21 │\n",
       "⋮\n",
       "│ 6   │ 2.3        │ 2.96 │ 3.27   │ 3.92 │\n",
       "│ 7   │ 15.07      │ 1.42 │ 1.16   │ 2.36 │"
      ]
     },
     "execution_count": 2,
     "metadata": {},
     "output_type": "execute_result"
    }
   ],
   "source": [
    "using DataFrames\n",
    "benchmark = readtable(joinpath(\"data\",\"benchmark.csv\"), separator=';')"
   ]
  },
  {
   "cell_type": "code",
   "execution_count": 3,
   "metadata": {
    "collapsed": false,
    "slideshow": {
     "slide_type": "slide"
    }
   },
   "outputs": [
    {
     "data": {
      "text/html": [
       "<table class=\"data-frame\"><tr><th></th><th>variable</th><th>value</th><th>Benchmark</th></tr><tr><th>1</th><td>Fortran</td><td>0.7</td><td>fib</td></tr><tr><th>2</th><td>Fortran</td><td>5.05</td><td>parse_int</td></tr><tr><th>3</th><td>Fortran</td><td>1.31</td><td>quicksort</td></tr><tr><th>4</th><td>Fortran</td><td>0.81</td><td>mandel</td></tr><tr><th>5</th><td>Fortran</td><td>1.0</td><td>pi_sum</td></tr><tr><th>6</th><td>Fortran</td><td>1.45</td><td>rand_mat_stat</td></tr><tr><th>7</th><td>Fortran</td><td>3.48</td><td>rand_mat_mul</td></tr><tr><th>8</th><td>Julia</td><td>2.11</td><td>fib</td></tr><tr><th>9</th><td>Julia</td><td>1.45</td><td>parse_int</td></tr><tr><th>10</th><td>Julia</td><td>1.15</td><td>quicksort</td></tr><tr><th>&vellip;</th><td>&vellip;</td><td>&vellip;</td><td>&vellip;</td></tr></table>"
      ],
      "text/plain": [
       "77x3 DataFrames.DataFrame\n",
       "│ Row │ variable │ value │ Benchmark       │\n",
       "┝━━━━━┿━━━━━━━━━━┿━━━━━━━┿━━━━━━━━━━━━━━━━━┥\n",
       "│ 1   │ Fortran  │ 0.7   │ \"fib\"           │\n",
       "⋮\n",
       "│ 76  │ Java     │ 3.92  │ \"rand_mat_stat\" │\n",
       "│ 77  │ Java     │ 2.36  │ \"rand_mat_mul\"  │"
      ]
     },
     "execution_count": 3,
     "metadata": {},
     "output_type": "execute_result"
    }
   ],
   "source": [
    "longformat = melt(benchmark, [:Benchmark]) # Reshaping: wide -> long"
   ]
  },
  {
   "cell_type": "code",
   "execution_count": 4,
   "metadata": {
    "collapsed": false,
    "slideshow": {
     "slide_type": "slide"
    }
   },
   "outputs": [
    {
     "data": {
      "text/html": [
       "<table class=\"data-frame\"><tr><th></th><th>variable</th><th>x1</th></tr><tr><th>1</th><td>Fortran</td><td>1.9714285714285715</td></tr><tr><th>2</th><td>Go</td><td>1.5485714285714285</td></tr><tr><th>3</th><td>Java</td><td>2.255714285714286</td></tr><tr><th>4</th><td>JavaScript</td><td>4.451428571428571</td></tr><tr><th>5</th><td>Julia</td><td>1.3114285714285712</td></tr><tr><th>6</th><td>LuaJIT</td><td>2.23</td></tr><tr><th>7</th><td>Mathematica</td><td>27.264285714285712</td></tr><tr><th>8</th><td>Matlab</td><td>122.64999999999999</td></tr><tr><th>9</th><td>Octave</td><td>3079.281428571429</td></tr><tr><th>10</th><td>Python</td><td>26.292857142857144</td></tr><tr><th>&vellip;</th><td>&vellip;</td><td>&vellip;</td></tr></table>"
      ],
      "text/plain": [
       "11x2 DataFrames.DataFrame\n",
       "│ Row │ variable │ x1      │\n",
       "┝━━━━━┿━━━━━━━━━━┿━━━━━━━━━┥\n",
       "│ 1   │ Fortran  │ 1.97143 │\n",
       "⋮\n",
       "│ 10  │ Python   │ 26.2929 │\n",
       "│ 11  │ R        │ 131.806 │"
      ]
     },
     "execution_count": 4,
     "metadata": {},
     "output_type": "execute_result"
    }
   ],
   "source": [
    "meantime = by(longformat, :variable, df -> mean( df[:value] )) # Split-Apply-Combine"
   ]
  },
  {
   "cell_type": "code",
   "execution_count": 5,
   "metadata": {
    "collapsed": false,
    "slideshow": {
     "slide_type": "slide"
    }
   },
   "outputs": [
    {
     "data": {
      "text/html": [
       "<table class=\"data-frame\"><tr><th></th><th>Lenguaje</th><th>Tiempo_Medio</th></tr><tr><th>1</th><td>Julia</td><td>1.3114285714285712</td></tr><tr><th>2</th><td>Go</td><td>1.5485714285714285</td></tr><tr><th>3</th><td>Fortran</td><td>1.9714285714285715</td></tr><tr><th>4</th><td>LuaJIT</td><td>2.23</td></tr><tr><th>5</th><td>Java</td><td>2.255714285714286</td></tr><tr><th>6</th><td>JavaScript</td><td>4.451428571428571</td></tr><tr><th>7</th><td>Python</td><td>26.292857142857144</td></tr><tr><th>8</th><td>Mathematica</td><td>27.264285714285712</td></tr><tr><th>9</th><td>Matlab</td><td>122.64999999999999</td></tr><tr><th>10</th><td>R</td><td>131.80571428571426</td></tr><tr><th>&vellip;</th><td>&vellip;</td><td>&vellip;</td></tr></table>"
      ],
      "text/plain": [
       "11x2 DataFrames.DataFrame\n",
       "│ Row │ Lenguaje │ Tiempo_Medio │\n",
       "┝━━━━━┿━━━━━━━━━━┿━━━━━━━━━━━━━━┥\n",
       "│ 1   │ Julia    │ 1.31143      │\n",
       "⋮\n",
       "│ 10  │ R        │ 131.806      │\n",
       "│ 11  │ Octave   │ 3079.28      │"
      ]
     },
     "execution_count": 5,
     "metadata": {},
     "output_type": "execute_result"
    }
   ],
   "source": [
    "sort!(meantime, cols=[:x1]) # Sorting\n",
    "names!(meantime, [:Lenguaje, :Tiempo_Medio])"
   ]
  },
  {
   "cell_type": "markdown",
   "metadata": {
    "slideshow": {
     "slide_type": "slide"
    }
   },
   "source": [
    "Descripción (estadística) del dataset (columnas), similar a `summary` de *R*."
   ]
  },
  {
   "cell_type": "code",
   "execution_count": 7,
   "metadata": {
    "collapsed": false,
    "scrolled": true,
    "slideshow": {
     "slide_type": "-"
    }
   },
   "outputs": [
    {
     "name": "stdout",
     "output_type": "stream",
     "text": [
      "Lenguaje\n",
      "Length  11\n",
      "Type    Symbol\n",
      "NAs     0\n",
      "NA%     0.0%\n",
      "Unique  11\n",
      "\n",
      "Tiempo_Medio\n",
      "Min      1.3114285714285712\n",
      "1st Qu.  2.100714285714286\n",
      "Median   4.451428571428571\n",
      "Mean     309.1875324675325\n",
      "3rd Qu.  74.95714285714286\n",
      "Max      3079.281428571429\n",
      "NAs      0\n",
      "NA%      0.0%\n",
      "\n"
     ]
    }
   ],
   "source": [
    "describe(meantime)"
   ]
  },
  {
   "cell_type": "markdown",
   "metadata": {
    "slideshow": {
     "slide_type": "slide"
    }
   },
   "source": [
    "### Usando funciones de R"
   ]
  },
  {
   "cell_type": "code",
   "execution_count": 8,
   "metadata": {
    "collapsed": false,
    "slideshow": {
     "slide_type": "-"
    }
   },
   "outputs": [],
   "source": [
    "using RCall"
   ]
  },
  {
   "cell_type": "code",
   "execution_count": 9,
   "metadata": {
    "collapsed": false,
    "slideshow": {
     "slide_type": "-"
    }
   },
   "outputs": [
    {
     "data": {
      "text/plain": [
       "RCall.RObject{RCall.VecSxp}\n",
       "\n",
       "\tTwo-sample Kolmogorov-Smirnov test\n",
       "\n",
       "data:  $(benchmark[:Julia]) and $(benchmark[:R])\n",
       "D = 0.85714, p-value = 0.008159\n",
       "alternative hypothesis: two-sided\n",
       "\n"
      ]
     },
     "execution_count": 9,
     "metadata": {},
     "output_type": "execute_result"
    }
   ],
   "source": [
    "ks = R\"\"\"ks.test($(benchmark[:Julia]), $(benchmark[:R]))\"\"\""
   ]
  },
  {
   "cell_type": "code",
   "execution_count": 10,
   "metadata": {
    "collapsed": false,
    "slideshow": {
     "slide_type": "fragment"
    }
   },
   "outputs": [
    {
     "data": {
      "text/plain": [
       "Dict{Symbol,Any} with 5 entries:\n",
       "  :statistic         => 0.8571428571428571\n",
       "  :alternative       => \"two-sided\"\n",
       "  symbol(\"p.value\")  => 0.008158508158508049\n",
       "  :method            => \"Two-sample Kolmogorov-Smirnov test\"\n",
       "  symbol(\"data.name… => \"\\$(benchmark[:Julia]) and \\$(bench…"
      ]
     },
     "execution_count": 10,
     "metadata": {},
     "output_type": "execute_result"
    }
   ],
   "source": [
    "rcopy(ks) # Transforma los datos de R a tipos de datos de Julia"
   ]
  },
  {
   "cell_type": "markdown",
   "metadata": {
    "slideshow": {
     "slide_type": "slide"
    }
   },
   "source": [
    "### JuliaStats\n",
    "\n",
    "Muchos de los tests estadísticos más clásicos están definidos en alguna biblioteca de Julia"
   ]
  },
  {
   "cell_type": "code",
   "execution_count": 11,
   "metadata": {
    "collapsed": false,
    "slideshow": {
     "slide_type": "slide"
    }
   },
   "outputs": [],
   "source": [
    "using HypothesisTests"
   ]
  },
  {
   "cell_type": "code",
   "execution_count": 12,
   "metadata": {
    "collapsed": false,
    "slideshow": {
     "slide_type": "-"
    }
   },
   "outputs": [
    {
     "data": {
      "text/plain": [
       "Approximate two sample Kolmogorov-Smirnov test\n",
       "----------------------------------------------\n",
       "Population details:\n",
       "    parameter of interest:   Supremum of CDF differences\n",
       "    value under h_0:         0.0\n",
       "    point estimate:          0.857142857142857\n",
       "\n",
       "Test summary:\n",
       "    outcome with 95% confidence: reject h_0\n",
       "    two-sided p-value:           0.011681952358448919 (significant)\n",
       "\n",
       "Details:\n",
       "    number of observations:   [7,7]\n",
       "    KS-statistic:              1.603567451474546\n"
      ]
     },
     "execution_count": 12,
     "metadata": {},
     "output_type": "execute_result"
    }
   ],
   "source": [
    "ApproximateTwoSampleKSTest(benchmark[:Julia], benchmark[:R])"
   ]
  },
  {
   "cell_type": "code",
   "execution_count": 13,
   "metadata": {
    "collapsed": false,
    "slideshow": {
     "slide_type": "slide"
    }
   },
   "outputs": [
    {
     "data": {
      "text/plain": [
       "Exact Wilcoxon signed rank test\n",
       "-------------------------------\n",
       "Population details:\n",
       "    parameter of interest:   Location parameter (pseudomedian)\n",
       "    value under h_0:         0\n",
       "    point estimate:          -44.279999999999994\n",
       "\n",
       "Test summary:\n",
       "    outcome with 95% confidence: reject h_0\n",
       "    two-sided p-value:           0.015625000000000003 (significant)\n",
       "\n",
       "Details:\n",
       "    number of observations:      7\n",
       "    Wilcoxon rank-sum statistic: 0.0\n",
       "    rank sums:                   [0.0,28.0]\n",
       "    adjustment for ties:         0.0\n"
      ]
     },
     "execution_count": 13,
     "metadata": {},
     "output_type": "execute_result"
    }
   ],
   "source": [
    "SignedRankTest(\n",
    "convert(Vector{Float64}, benchmark[:Julia]), \n",
    "convert(Vector{Float64}, benchmark[:R])\n",
    ") # Wilcoxon signed rank test"
   ]
  },
  {
   "cell_type": "code",
   "execution_count": 14,
   "metadata": {
    "collapsed": false,
    "slideshow": {
     "slide_type": "slide"
    }
   },
   "outputs": [
    {
     "data": {
      "text/plain": [
       "DataFrames.DataFrameRegressionModel{GLM.LinearModel{GLM.LmResp{Array{Float64,1}},GLM.DensePredQR{Float64}},Float64}\n",
       "\n",
       "Formula: R ~ 1 + Julia\n",
       "\n",
       "Coefficients:\n",
       "             Estimate Std.Error t value Pr(>|t|)\n",
       "(Intercept)  -247.159   200.519 -1.2326   0.2725\n",
       "Julia         288.971   145.487 1.98623   0.1037\n"
      ]
     },
     "execution_count": 14,
     "metadata": {},
     "output_type": "execute_result"
    }
   ],
   "source": [
    "using GLM\n",
    "\n",
    "lineal = lm(R ~ Julia, benchmark)"
   ]
  },
  {
   "cell_type": "code",
   "execution_count": 15,
   "metadata": {
    "collapsed": false,
    "slideshow": {
     "slide_type": "-"
    }
   },
   "outputs": [
    {
     "data": {
      "text/plain": [
       "2-element Array{Float64,1}:\n",
       " -247.159\n",
       "  288.971"
      ]
     },
     "execution_count": 15,
     "metadata": {},
     "output_type": "execute_result"
    }
   ],
   "source": [
    "inter, pend = coef(lineal)"
   ]
  },
  {
   "cell_type": "code",
   "execution_count": 20,
   "metadata": {
    "collapsed": false,
    "slideshow": {
     "slide_type": "slide"
    }
   },
   "outputs": [],
   "source": [
    "using Plots"
   ]
  },
  {
   "cell_type": "code",
   "execution_count": 16,
   "metadata": {
    "collapsed": false,
    "slideshow": {
     "slide_type": "-"
    }
   },
   "outputs": [
    {
     "data": {
      "text/html": [
       "<?xml version=\"1.0\" encoding=\"utf-8\" standalone=\"no\"?>\n",
       "<!DOCTYPE svg PUBLIC \"-//W3C//DTD SVG 1.1//EN\"\n",
       "  \"http://www.w3.org/Graphics/SVG/1.1/DTD/svg11.dtd\">\n",
       "<!-- Created with matplotlib (http://matplotlib.org/) -->\n",
       "<svg height=\"288pt\" version=\"1.1\" viewBox=\"0 0 432 288\" width=\"432pt\" xmlns=\"http://www.w3.org/2000/svg\" xmlns:xlink=\"http://www.w3.org/1999/xlink\">\n",
       " <defs>\n",
       "  <style type=\"text/css\">\n",
       "*{stroke-linecap:butt;stroke-linejoin:round;}\n",
       "  </style>\n",
       " </defs>\n",
       " <g id=\"figure_1\">\n",
       "  <g id=\"patch_1\">\n",
       "   <path d=\"\n",
       "M0 288\n",
       "L432 288\n",
       "L432 0\n",
       "L0 0\n",
       "z\n",
       "\" style=\"fill:#ffffff;\"/>\n",
       "  </g>\n",
       "  <g id=\"axes_1\">\n",
       "   <g id=\"patch_2\">\n",
       "    <path d=\"\n",
       "M49.2111 248.664\n",
       "L413.808 248.664\n",
       "L413.808 16.6181\n",
       "L49.2111 16.6181\n",
       "z\n",
       "\" style=\"fill:#ffffff;\"/>\n",
       "   </g>\n",
       "   <g id=\"matplotlib.axis_1\">\n",
       "    <g id=\"xtick_1\">\n",
       "     <g id=\"line2d_1\">\n",
       "      <path clip-path=\"url(#p12c48a0e0b)\" d=\"\n",
       "M49.2111 248.664\n",
       "L49.2111 16.6181\" style=\"fill:none;stroke:#000000;stroke-dasharray:1.000000,3.000000;stroke-dashoffset:0.0;stroke-width:0.5;\"/>\n",
       "     </g>\n",
       "     <g id=\"line2d_2\">\n",
       "      <defs>\n",
       "       <path d=\"\n",
       "M0 0\n",
       "L0 -4\" id=\"m93b0483c22\" style=\"stroke:#000000;stroke-width:0.5;\"/>\n",
       "      </defs>\n",
       "      <g>\n",
       "       <use style=\"stroke:#000000;stroke-width:0.5;\" x=\"49.21109375\" xlink:href=\"#m93b0483c22\" y=\"248.66390625\"/>\n",
       "      </g>\n",
       "     </g>\n",
       "     <g id=\"line2d_3\">\n",
       "      <defs>\n",
       "       <path d=\"\n",
       "M0 0\n",
       "L0 4\" id=\"m741efc42ff\" style=\"stroke:#000000;stroke-width:0.5;\"/>\n",
       "      </defs>\n",
       "      <g>\n",
       "       <use style=\"stroke:#000000;stroke-width:0.5;\" x=\"49.21109375\" xlink:href=\"#m741efc42ff\" y=\"16.618125\"/>\n",
       "      </g>\n",
       "     </g>\n",
       "     <g id=\"text_1\">\n",
       "      <!-- 0.6 -->\n",
       "      <defs>\n",
       "       <path d=\"\n",
       "M4.15625 35.2969\n",
       "Q4.15625 48 6.76562 55.7344\n",
       "Q9.375 63.4844 14.5156 67.6719\n",
       "Q19.6719 71.875 27.4844 71.875\n",
       "Q33.25 71.875 37.5938 69.5469\n",
       "Q41.9375 67.2344 44.7656 62.8594\n",
       "Q47.6094 58.5 49.2188 52.2188\n",
       "Q50.8281 45.9531 50.8281 35.2969\n",
       "Q50.8281 22.7031 48.2344 14.9688\n",
       "Q45.6562 7.23438 40.5 3\n",
       "Q35.3594 -1.21875 27.4844 -1.21875\n",
       "Q17.1406 -1.21875 11.2344 6.20312\n",
       "Q4.15625 15.1406 4.15625 35.2969\n",
       "M13.1875 35.2969\n",
       "Q13.1875 17.6719 17.3125 11.8281\n",
       "Q21.4375 6 27.4844 6\n",
       "Q33.5469 6 37.6719 11.8594\n",
       "Q41.7969 17.7188 41.7969 35.2969\n",
       "Q41.7969 52.9844 37.6719 58.7812\n",
       "Q33.5469 64.5938 27.3906 64.5938\n",
       "Q21.3438 64.5938 17.7188 59.4688\n",
       "Q13.1875 52.9375 13.1875 35.2969\" id=\"ArialMT-30\"/>\n",
       "       <path d=\"\n",
       "M9.07812 0\n",
       "L9.07812 10.0156\n",
       "L19.0938 10.0156\n",
       "L19.0938 0\n",
       "z\n",
       "\" id=\"ArialMT-2e\"/>\n",
       "       <path d=\"\n",
       "M49.75 54.0469\n",
       "L41.0156 53.375\n",
       "Q39.8438 58.5469 37.7031 60.8906\n",
       "Q34.125 64.6562 28.9062 64.6562\n",
       "Q24.7031 64.6562 21.5312 62.3125\n",
       "Q17.3906 59.2812 14.9844 53.4688\n",
       "Q12.5938 47.6562 12.5 36.9219\n",
       "Q15.6719 41.75 20.2656 44.0938\n",
       "Q24.8594 46.4375 29.8906 46.4375\n",
       "Q38.6719 46.4375 44.8438 39.9688\n",
       "Q51.0312 33.5 51.0312 23.25\n",
       "Q51.0312 16.5 48.125 10.7188\n",
       "Q45.2188 4.9375 40.1406 1.85938\n",
       "Q35.0625 -1.21875 28.6094 -1.21875\n",
       "Q17.625 -1.21875 10.6875 6.85938\n",
       "Q3.76562 14.9375 3.76562 33.5\n",
       "Q3.76562 54.25 11.4219 63.6719\n",
       "Q18.1094 71.875 29.4375 71.875\n",
       "Q37.8906 71.875 43.2812 67.1406\n",
       "Q48.6875 62.4062 49.75 54.0469\n",
       "M13.875 23.1875\n",
       "Q13.875 18.6562 15.7969 14.5\n",
       "Q17.7188 10.3594 21.1875 8.17188\n",
       "Q24.6562 6 28.4688 6\n",
       "Q34.0312 6 38.0312 10.4844\n",
       "Q42.0469 14.9844 42.0469 22.7031\n",
       "Q42.0469 30.125 38.0781 34.3906\n",
       "Q34.125 38.6719 28.125 38.6719\n",
       "Q22.1719 38.6719 18.0156 34.3906\n",
       "Q13.875 30.125 13.875 23.1875\" id=\"ArialMT-36\"/>\n",
       "      </defs>\n",
       "      <g transform=\"translate(44.00046875 258.39015625)scale(0.08 -0.08)\">\n",
       "       <use xlink:href=\"#ArialMT-30\"/>\n",
       "       <use x=\"55.615234375\" xlink:href=\"#ArialMT-2e\"/>\n",
       "       <use x=\"83.3984375\" xlink:href=\"#ArialMT-36\"/>\n",
       "      </g>\n",
       "     </g>\n",
       "    </g>\n",
       "    <g id=\"xtick_2\">\n",
       "     <g id=\"line2d_4\">\n",
       "      <path clip-path=\"url(#p12c48a0e0b)\" d=\"\n",
       "M94.7857 248.664\n",
       "L94.7857 16.6181\" style=\"fill:none;stroke:#000000;stroke-dasharray:1.000000,3.000000;stroke-dashoffset:0.0;stroke-width:0.5;\"/>\n",
       "     </g>\n",
       "     <g id=\"line2d_5\">\n",
       "      <g>\n",
       "       <use style=\"stroke:#000000;stroke-width:0.5;\" x=\"94.7857226562\" xlink:href=\"#m93b0483c22\" y=\"248.66390625\"/>\n",
       "      </g>\n",
       "     </g>\n",
       "     <g id=\"line2d_6\">\n",
       "      <g>\n",
       "       <use style=\"stroke:#000000;stroke-width:0.5;\" x=\"94.7857226562\" xlink:href=\"#m741efc42ff\" y=\"16.618125\"/>\n",
       "      </g>\n",
       "     </g>\n",
       "     <g id=\"text_2\">\n",
       "      <!-- 0.8 -->\n",
       "      <defs>\n",
       "       <path d=\"\n",
       "M17.6719 38.8125\n",
       "Q12.2031 40.8281 9.5625 44.5312\n",
       "Q6.9375 48.25 6.9375 53.4219\n",
       "Q6.9375 61.2344 12.5469 66.5469\n",
       "Q18.1719 71.875 27.4844 71.875\n",
       "Q36.8594 71.875 42.5781 66.4219\n",
       "Q48.2969 60.9844 48.2969 53.1719\n",
       "Q48.2969 48.1875 45.6719 44.5\n",
       "Q43.0625 40.8281 37.75 38.8125\n",
       "Q44.3438 36.6719 47.7812 31.875\n",
       "Q51.2188 27.0938 51.2188 20.4531\n",
       "Q51.2188 11.2812 44.7188 5.03125\n",
       "Q38.2344 -1.21875 27.6406 -1.21875\n",
       "Q17.0469 -1.21875 10.5469 5.04688\n",
       "Q4.04688 11.3281 4.04688 20.7031\n",
       "Q4.04688 27.6875 7.59375 32.3906\n",
       "Q11.1406 37.1094 17.6719 38.8125\n",
       "M15.9219 53.7188\n",
       "Q15.9219 48.6406 19.1875 45.4062\n",
       "Q22.4688 42.1875 27.6875 42.1875\n",
       "Q32.7656 42.1875 36.0156 45.375\n",
       "Q39.2656 48.5781 39.2656 53.2188\n",
       "Q39.2656 58.0625 35.9062 61.3594\n",
       "Q32.5625 64.6562 27.5938 64.6562\n",
       "Q22.5625 64.6562 19.2344 61.4219\n",
       "Q15.9219 58.2031 15.9219 53.7188\n",
       "M13.0938 20.6562\n",
       "Q13.0938 16.8906 14.875 13.375\n",
       "Q16.6562 9.85938 20.1719 7.92188\n",
       "Q23.6875 6 27.7344 6\n",
       "Q34.0312 6 38.125 10.0469\n",
       "Q42.2344 14.1094 42.2344 20.3594\n",
       "Q42.2344 26.7031 38.0156 30.8594\n",
       "Q33.7969 35.0156 27.4375 35.0156\n",
       "Q21.2344 35.0156 17.1562 30.9062\n",
       "Q13.0938 26.8125 13.0938 20.6562\" id=\"ArialMT-38\"/>\n",
       "      </defs>\n",
       "      <g transform=\"translate(89.5675976562 258.39015625)scale(0.08 -0.08)\">\n",
       "       <use xlink:href=\"#ArialMT-30\"/>\n",
       "       <use x=\"55.615234375\" xlink:href=\"#ArialMT-2e\"/>\n",
       "       <use x=\"83.3984375\" xlink:href=\"#ArialMT-38\"/>\n",
       "      </g>\n",
       "     </g>\n",
       "    </g>\n",
       "    <g id=\"xtick_3\">\n",
       "     <g id=\"line2d_7\">\n",
       "      <path clip-path=\"url(#p12c48a0e0b)\" d=\"\n",
       "M140.36 248.664\n",
       "L140.36 16.6181\" style=\"fill:none;stroke:#000000;stroke-dasharray:1.000000,3.000000;stroke-dashoffset:0.0;stroke-width:0.5;\"/>\n",
       "     </g>\n",
       "     <g id=\"line2d_8\">\n",
       "      <g>\n",
       "       <use style=\"stroke:#000000;stroke-width:0.5;\" x=\"140.360351562\" xlink:href=\"#m93b0483c22\" y=\"248.66390625\"/>\n",
       "      </g>\n",
       "     </g>\n",
       "     <g id=\"line2d_9\">\n",
       "      <g>\n",
       "       <use style=\"stroke:#000000;stroke-width:0.5;\" x=\"140.360351562\" xlink:href=\"#m741efc42ff\" y=\"16.618125\"/>\n",
       "      </g>\n",
       "     </g>\n",
       "     <g id=\"text_3\">\n",
       "      <!-- 1.0 -->\n",
       "      <defs>\n",
       "       <path d=\"\n",
       "M37.25 0\n",
       "L28.4688 0\n",
       "L28.4688 56\n",
       "Q25.2969 52.9844 20.1406 49.9531\n",
       "Q14.9844 46.9219 10.8906 45.4062\n",
       "L10.8906 53.9062\n",
       "Q18.2656 57.375 23.7812 62.2969\n",
       "Q29.2969 67.2344 31.5938 71.875\n",
       "L37.25 71.875\n",
       "z\n",
       "\" id=\"ArialMT-31\"/>\n",
       "      </defs>\n",
       "      <g transform=\"translate(135.427226562 258.39015625)scale(0.08 -0.08)\">\n",
       "       <use xlink:href=\"#ArialMT-31\"/>\n",
       "       <use x=\"55.615234375\" xlink:href=\"#ArialMT-2e\"/>\n",
       "       <use x=\"83.3984375\" xlink:href=\"#ArialMT-30\"/>\n",
       "      </g>\n",
       "     </g>\n",
       "    </g>\n",
       "    <g id=\"xtick_4\">\n",
       "     <g id=\"line2d_10\">\n",
       "      <path clip-path=\"url(#p12c48a0e0b)\" d=\"\n",
       "M185.935 248.664\n",
       "L185.935 16.6181\" style=\"fill:none;stroke:#000000;stroke-dasharray:1.000000,3.000000;stroke-dashoffset:0.0;stroke-width:0.5;\"/>\n",
       "     </g>\n",
       "     <g id=\"line2d_11\">\n",
       "      <g>\n",
       "       <use style=\"stroke:#000000;stroke-width:0.5;\" x=\"185.934980469\" xlink:href=\"#m93b0483c22\" y=\"248.66390625\"/>\n",
       "      </g>\n",
       "     </g>\n",
       "     <g id=\"line2d_12\">\n",
       "      <g>\n",
       "       <use style=\"stroke:#000000;stroke-width:0.5;\" x=\"185.934980469\" xlink:href=\"#m741efc42ff\" y=\"16.618125\"/>\n",
       "      </g>\n",
       "     </g>\n",
       "     <g id=\"text_4\">\n",
       "      <!-- 1.2 -->\n",
       "      <defs>\n",
       "       <path d=\"\n",
       "M50.3438 8.45312\n",
       "L50.3438 0\n",
       "L3.03125 0\n",
       "Q2.9375 3.17188 4.04688 6.10938\n",
       "Q5.85938 10.9375 9.82812 15.625\n",
       "Q13.8125 20.3125 21.3438 26.4688\n",
       "Q33.0156 36.0312 37.1094 41.625\n",
       "Q41.2188 47.2188 41.2188 52.2031\n",
       "Q41.2188 57.4219 37.4688 61\n",
       "Q33.7344 64.5938 27.7344 64.5938\n",
       "Q21.3906 64.5938 17.5781 60.7812\n",
       "Q13.7656 56.9844 13.7188 50.25\n",
       "L4.6875 51.1719\n",
       "Q5.60938 61.2812 11.6562 66.5781\n",
       "Q17.7188 71.875 27.9375 71.875\n",
       "Q38.2344 71.875 44.2344 66.1562\n",
       "Q50.25 60.4531 50.25 52\n",
       "Q50.25 47.7031 48.4844 43.5469\n",
       "Q46.7344 39.4062 42.6562 34.8125\n",
       "Q38.5781 30.2188 29.1094 22.2188\n",
       "Q21.1875 15.5781 18.9375 13.2031\n",
       "Q16.7031 10.8438 15.2344 8.45312\n",
       "z\n",
       "\" id=\"ArialMT-32\"/>\n",
       "      </defs>\n",
       "      <g transform=\"translate(181.021230469 258.39015625)scale(0.08 -0.08)\">\n",
       "       <use xlink:href=\"#ArialMT-31\"/>\n",
       "       <use x=\"55.615234375\" xlink:href=\"#ArialMT-2e\"/>\n",
       "       <use x=\"83.3984375\" xlink:href=\"#ArialMT-32\"/>\n",
       "      </g>\n",
       "     </g>\n",
       "    </g>\n",
       "    <g id=\"xtick_5\">\n",
       "     <g id=\"line2d_13\">\n",
       "      <path clip-path=\"url(#p12c48a0e0b)\" d=\"\n",
       "M231.51 248.664\n",
       "L231.51 16.6181\" style=\"fill:none;stroke:#000000;stroke-dasharray:1.000000,3.000000;stroke-dashoffset:0.0;stroke-width:0.5;\"/>\n",
       "     </g>\n",
       "     <g id=\"line2d_14\">\n",
       "      <g>\n",
       "       <use style=\"stroke:#000000;stroke-width:0.5;\" x=\"231.509609375\" xlink:href=\"#m93b0483c22\" y=\"248.66390625\"/>\n",
       "      </g>\n",
       "     </g>\n",
       "     <g id=\"line2d_15\">\n",
       "      <g>\n",
       "       <use style=\"stroke:#000000;stroke-width:0.5;\" x=\"231.509609375\" xlink:href=\"#m741efc42ff\" y=\"16.618125\"/>\n",
       "      </g>\n",
       "     </g>\n",
       "     <g id=\"text_5\">\n",
       "      <!-- 1.4 -->\n",
       "      <defs>\n",
       "       <path d=\"\n",
       "M32.3281 0\n",
       "L32.3281 17.1406\n",
       "L1.26562 17.1406\n",
       "L1.26562 25.2031\n",
       "L33.9375 71.5781\n",
       "L41.1094 71.5781\n",
       "L41.1094 25.2031\n",
       "L50.7812 25.2031\n",
       "L50.7812 17.1406\n",
       "L41.1094 17.1406\n",
       "L41.1094 0\n",
       "z\n",
       "\n",
       "M32.3281 25.2031\n",
       "L32.3281 57.4688\n",
       "L9.90625 25.2031\n",
       "z\n",
       "\" id=\"ArialMT-34\"/>\n",
       "      </defs>\n",
       "      <g transform=\"translate(226.578359375 258.39015625)scale(0.08 -0.08)\">\n",
       "       <use xlink:href=\"#ArialMT-31\"/>\n",
       "       <use x=\"55.615234375\" xlink:href=\"#ArialMT-2e\"/>\n",
       "       <use x=\"83.3984375\" xlink:href=\"#ArialMT-34\"/>\n",
       "      </g>\n",
       "     </g>\n",
       "    </g>\n",
       "    <g id=\"xtick_6\">\n",
       "     <g id=\"line2d_16\">\n",
       "      <path clip-path=\"url(#p12c48a0e0b)\" d=\"\n",
       "M277.084 248.664\n",
       "L277.084 16.6181\" style=\"fill:none;stroke:#000000;stroke-dasharray:1.000000,3.000000;stroke-dashoffset:0.0;stroke-width:0.5;\"/>\n",
       "     </g>\n",
       "     <g id=\"line2d_17\">\n",
       "      <g>\n",
       "       <use style=\"stroke:#000000;stroke-width:0.5;\" x=\"277.084238281\" xlink:href=\"#m93b0483c22\" y=\"248.66390625\"/>\n",
       "      </g>\n",
       "     </g>\n",
       "     <g id=\"line2d_18\">\n",
       "      <g>\n",
       "       <use style=\"stroke:#000000;stroke-width:0.5;\" x=\"277.084238281\" xlink:href=\"#m741efc42ff\" y=\"16.618125\"/>\n",
       "      </g>\n",
       "     </g>\n",
       "     <g id=\"text_6\">\n",
       "      <!-- 1.6 -->\n",
       "      <g transform=\"translate(272.142988281 258.39015625)scale(0.08 -0.08)\">\n",
       "       <use xlink:href=\"#ArialMT-31\"/>\n",
       "       <use x=\"55.615234375\" xlink:href=\"#ArialMT-2e\"/>\n",
       "       <use x=\"83.3984375\" xlink:href=\"#ArialMT-36\"/>\n",
       "      </g>\n",
       "     </g>\n",
       "    </g>\n",
       "    <g id=\"xtick_7\">\n",
       "     <g id=\"line2d_19\">\n",
       "      <path clip-path=\"url(#p12c48a0e0b)\" d=\"\n",
       "M322.659 248.664\n",
       "L322.659 16.6181\" style=\"fill:none;stroke:#000000;stroke-dasharray:1.000000,3.000000;stroke-dashoffset:0.0;stroke-width:0.5;\"/>\n",
       "     </g>\n",
       "     <g id=\"line2d_20\">\n",
       "      <g>\n",
       "       <use style=\"stroke:#000000;stroke-width:0.5;\" x=\"322.658867188\" xlink:href=\"#m93b0483c22\" y=\"248.66390625\"/>\n",
       "      </g>\n",
       "     </g>\n",
       "     <g id=\"line2d_21\">\n",
       "      <g>\n",
       "       <use style=\"stroke:#000000;stroke-width:0.5;\" x=\"322.658867188\" xlink:href=\"#m741efc42ff\" y=\"16.618125\"/>\n",
       "      </g>\n",
       "     </g>\n",
       "     <g id=\"text_7\">\n",
       "      <!-- 1.8 -->\n",
       "      <g transform=\"translate(317.710117188 258.39015625)scale(0.08 -0.08)\">\n",
       "       <use xlink:href=\"#ArialMT-31\"/>\n",
       "       <use x=\"55.615234375\" xlink:href=\"#ArialMT-2e\"/>\n",
       "       <use x=\"83.3984375\" xlink:href=\"#ArialMT-38\"/>\n",
       "      </g>\n",
       "     </g>\n",
       "    </g>\n",
       "    <g id=\"xtick_8\">\n",
       "     <g id=\"line2d_22\">\n",
       "      <path clip-path=\"url(#p12c48a0e0b)\" d=\"\n",
       "M368.233 248.664\n",
       "L368.233 16.6181\" style=\"fill:none;stroke:#000000;stroke-dasharray:1.000000,3.000000;stroke-dashoffset:0.0;stroke-width:0.5;\"/>\n",
       "     </g>\n",
       "     <g id=\"line2d_23\">\n",
       "      <g>\n",
       "       <use style=\"stroke:#000000;stroke-width:0.5;\" x=\"368.233496094\" xlink:href=\"#m93b0483c22\" y=\"248.66390625\"/>\n",
       "      </g>\n",
       "     </g>\n",
       "     <g id=\"line2d_24\">\n",
       "      <g>\n",
       "       <use style=\"stroke:#000000;stroke-width:0.5;\" x=\"368.233496094\" xlink:href=\"#m741efc42ff\" y=\"16.618125\"/>\n",
       "      </g>\n",
       "     </g>\n",
       "     <g id=\"text_8\">\n",
       "      <!-- 2.0 -->\n",
       "      <g transform=\"translate(362.982246094 258.39015625)scale(0.08 -0.08)\">\n",
       "       <use xlink:href=\"#ArialMT-32\"/>\n",
       "       <use x=\"55.615234375\" xlink:href=\"#ArialMT-2e\"/>\n",
       "       <use x=\"83.3984375\" xlink:href=\"#ArialMT-30\"/>\n",
       "      </g>\n",
       "     </g>\n",
       "    </g>\n",
       "    <g id=\"xtick_9\">\n",
       "     <g id=\"line2d_25\">\n",
       "      <path clip-path=\"url(#p12c48a0e0b)\" d=\"\n",
       "M413.808 248.664\n",
       "L413.808 16.6181\" style=\"fill:none;stroke:#000000;stroke-dasharray:1.000000,3.000000;stroke-dashoffset:0.0;stroke-width:0.5;\"/>\n",
       "     </g>\n",
       "     <g id=\"line2d_26\">\n",
       "      <g>\n",
       "       <use style=\"stroke:#000000;stroke-width:0.5;\" x=\"413.808125\" xlink:href=\"#m93b0483c22\" y=\"248.66390625\"/>\n",
       "      </g>\n",
       "     </g>\n",
       "     <g id=\"line2d_27\">\n",
       "      <g>\n",
       "       <use style=\"stroke:#000000;stroke-width:0.5;\" x=\"413.808125\" xlink:href=\"#m741efc42ff\" y=\"16.618125\"/>\n",
       "      </g>\n",
       "     </g>\n",
       "     <g id=\"text_9\">\n",
       "      <!-- 2.2 -->\n",
       "      <g transform=\"translate(408.57625 258.39015625)scale(0.08 -0.08)\">\n",
       "       <use xlink:href=\"#ArialMT-32\"/>\n",
       "       <use x=\"55.615234375\" xlink:href=\"#ArialMT-2e\"/>\n",
       "       <use x=\"83.3984375\" xlink:href=\"#ArialMT-32\"/>\n",
       "      </g>\n",
       "     </g>\n",
       "    </g>\n",
       "    <g id=\"text_10\">\n",
       "     <!-- Julia -->\n",
       "     <defs>\n",
       "      <path d=\"\n",
       "M2.875 20.3125\n",
       "L11.4219 21.4844\n",
       "Q11.7656 13.2812 14.5 10.25\n",
       "Q17.2344 7.23438 22.0781 7.23438\n",
       "Q25.6406 7.23438 28.2188 8.85938\n",
       "Q30.8125 10.5 31.7812 13.2969\n",
       "Q32.7656 16.1094 32.7656 22.2656\n",
       "L32.7656 71.5781\n",
       "L42.2344 71.5781\n",
       "L42.2344 22.7969\n",
       "Q42.2344 13.8125 40.0625 8.875\n",
       "Q37.8906 3.95312 33.1719 1.35938\n",
       "Q28.4688 -1.21875 22.125 -1.21875\n",
       "Q12.7031 -1.21875 7.6875 4.20312\n",
       "Q2.6875 9.625 2.875 20.3125\" id=\"ArialMT-4a\"/>\n",
       "      <path d=\"\n",
       "M40.5781 0\n",
       "L40.5781 7.625\n",
       "Q34.5156 -1.17188 24.125 -1.17188\n",
       "Q19.5312 -1.17188 15.5469 0.578125\n",
       "Q11.5781 2.34375 9.64062 5\n",
       "Q7.71875 7.67188 6.9375 11.5312\n",
       "Q6.39062 14.1094 6.39062 19.7344\n",
       "L6.39062 51.8594\n",
       "L15.1875 51.8594\n",
       "L15.1875 23.0938\n",
       "Q15.1875 16.2188 15.7188 13.8125\n",
       "Q16.5469 10.3594 19.2344 8.375\n",
       "Q21.9219 6.39062 25.875 6.39062\n",
       "Q29.8281 6.39062 33.2969 8.42188\n",
       "Q36.7656 10.4531 38.2031 13.9375\n",
       "Q39.6562 17.4375 39.6562 24.0781\n",
       "L39.6562 51.8594\n",
       "L48.4375 51.8594\n",
       "L48.4375 0\n",
       "z\n",
       "\" id=\"ArialMT-75\"/>\n",
       "      <path d=\"\n",
       "M6.64062 61.4688\n",
       "L6.64062 71.5781\n",
       "L15.4375 71.5781\n",
       "L15.4375 61.4688\n",
       "z\n",
       "\n",
       "M6.64062 0\n",
       "L6.64062 51.8594\n",
       "L15.4375 51.8594\n",
       "L15.4375 0\n",
       "z\n",
       "\" id=\"ArialMT-69\"/>\n",
       "      <path d=\"\n",
       "M6.39062 0\n",
       "L6.39062 71.5781\n",
       "L15.1875 71.5781\n",
       "L15.1875 0\n",
       "z\n",
       "\" id=\"ArialMT-6c\"/>\n",
       "      <path d=\"\n",
       "M40.4375 6.39062\n",
       "Q35.5469 2.25 31.0312 0.53125\n",
       "Q26.5156 -1.17188 21.3438 -1.17188\n",
       "Q12.7969 -1.17188 8.20312 3\n",
       "Q3.60938 7.17188 3.60938 13.6719\n",
       "Q3.60938 17.4844 5.34375 20.625\n",
       "Q7.07812 23.7812 9.89062 25.6875\n",
       "Q12.7031 27.5938 16.2188 28.5625\n",
       "Q18.7969 29.25 24.0312 29.8906\n",
       "Q34.6719 31.1562 39.7031 32.9062\n",
       "Q39.75 34.7188 39.75 35.2031\n",
       "Q39.75 40.5781 37.25 42.7812\n",
       "Q33.8906 45.75 27.25 45.75\n",
       "Q21.0469 45.75 18.0938 43.5781\n",
       "Q15.1406 41.4062 13.7188 35.8906\n",
       "L5.125 37.0625\n",
       "Q6.29688 42.5781 8.98438 45.9688\n",
       "Q11.6719 49.3594 16.75 51.1875\n",
       "Q21.8281 53.0312 28.5156 53.0312\n",
       "Q35.1562 53.0312 39.2969 51.4688\n",
       "Q43.4531 49.9062 45.4062 47.5312\n",
       "Q47.3594 45.1719 48.1406 41.5469\n",
       "Q48.5781 39.3125 48.5781 33.4531\n",
       "L48.5781 21.7344\n",
       "Q48.5781 9.46875 49.1406 6.21875\n",
       "Q49.7031 2.98438 51.375 0\n",
       "L42.1875 0\n",
       "Q40.8281 2.73438 40.4375 6.39062\n",
       "M39.7031 26.0312\n",
       "Q34.9062 24.0781 25.3438 22.7031\n",
       "Q19.9219 21.9219 17.6719 20.9375\n",
       "Q15.4375 19.9688 14.2031 18.0938\n",
       "Q12.9844 16.2188 12.9844 13.9219\n",
       "Q12.9844 10.4062 15.6406 8.0625\n",
       "Q18.3125 5.71875 23.4375 5.71875\n",
       "Q28.5156 5.71875 32.4688 7.9375\n",
       "Q36.4219 10.1562 38.2812 14.0156\n",
       "Q39.7031 17 39.7031 22.7969\n",
       "z\n",
       "\" id=\"ArialMT-61\"/>\n",
       "     </defs>\n",
       "     <g transform=\"translate(220.57921875 272.85375)scale(0.11 -0.11)\">\n",
       "      <use xlink:href=\"#ArialMT-4a\"/>\n",
       "      <use x=\"50.0\" xlink:href=\"#ArialMT-75\"/>\n",
       "      <use x=\"105.615234375\" xlink:href=\"#ArialMT-6c\"/>\n",
       "      <use x=\"127.83203125\" xlink:href=\"#ArialMT-69\"/>\n",
       "      <use x=\"150.048828125\" xlink:href=\"#ArialMT-61\"/>\n",
       "     </g>\n",
       "    </g>\n",
       "   </g>\n",
       "   <g id=\"matplotlib.axis_2\">\n",
       "    <g id=\"ytick_1\">\n",
       "     <g id=\"line2d_28\">\n",
       "      <path clip-path=\"url(#p12c48a0e0b)\" d=\"\n",
       "M49.2111 248.664\n",
       "L413.808 248.664\" style=\"fill:none;stroke:#000000;stroke-dasharray:1.000000,3.000000;stroke-dashoffset:0.0;stroke-width:0.5;\"/>\n",
       "     </g>\n",
       "     <g id=\"line2d_29\">\n",
       "      <defs>\n",
       "       <path d=\"\n",
       "M0 0\n",
       "L4 0\" id=\"m728421d6d4\" style=\"stroke:#000000;stroke-width:0.5;\"/>\n",
       "      </defs>\n",
       "      <g>\n",
       "       <use style=\"stroke:#000000;stroke-width:0.5;\" x=\"49.21109375\" xlink:href=\"#m728421d6d4\" y=\"248.66390625\"/>\n",
       "      </g>\n",
       "     </g>\n",
       "     <g id=\"line2d_30\">\n",
       "      <defs>\n",
       "       <path d=\"\n",
       "M0 0\n",
       "L-4 0\" id=\"mcb0005524f\" style=\"stroke:#000000;stroke-width:0.5;\"/>\n",
       "      </defs>\n",
       "      <g>\n",
       "       <use style=\"stroke:#000000;stroke-width:0.5;\" x=\"413.808125\" xlink:href=\"#mcb0005524f\" y=\"248.66390625\"/>\n",
       "      </g>\n",
       "     </g>\n",
       "     <g id=\"text_11\">\n",
       "      <!-- −100 -->\n",
       "      <defs>\n",
       "       <path d=\"\n",
       "M52.8281 31.2031\n",
       "L5.5625 31.2031\n",
       "L5.5625 39.4062\n",
       "L52.8281 39.4062\n",
       "z\n",
       "\" id=\"ArialMT-2212\"/>\n",
       "      </defs>\n",
       "      <g transform=\"translate(28.01984375 250.73203125)scale(0.08 -0.08)\">\n",
       "       <use xlink:href=\"#ArialMT-2212\"/>\n",
       "       <use x=\"58.3984375\" xlink:href=\"#ArialMT-31\"/>\n",
       "       <use x=\"114.013671875\" xlink:href=\"#ArialMT-30\"/>\n",
       "       <use x=\"169.62890625\" xlink:href=\"#ArialMT-30\"/>\n",
       "      </g>\n",
       "     </g>\n",
       "    </g>\n",
       "    <g id=\"ytick_2\">\n",
       "     <g id=\"line2d_31\">\n",
       "      <path clip-path=\"url(#p12c48a0e0b)\" d=\"\n",
       "M49.2111 215.515\n",
       "L413.808 215.515\" style=\"fill:none;stroke:#000000;stroke-dasharray:1.000000,3.000000;stroke-dashoffset:0.0;stroke-width:0.5;\"/>\n",
       "     </g>\n",
       "     <g id=\"line2d_32\">\n",
       "      <g>\n",
       "       <use style=\"stroke:#000000;stroke-width:0.5;\" x=\"49.21109375\" xlink:href=\"#m728421d6d4\" y=\"215.514508929\"/>\n",
       "      </g>\n",
       "     </g>\n",
       "     <g id=\"line2d_33\">\n",
       "      <g>\n",
       "       <use style=\"stroke:#000000;stroke-width:0.5;\" x=\"413.808125\" xlink:href=\"#mcb0005524f\" y=\"215.514508929\"/>\n",
       "      </g>\n",
       "     </g>\n",
       "     <g id=\"text_12\">\n",
       "      <!-- 0 -->\n",
       "      <g transform=\"translate(41.47734375 217.582633929)scale(0.08 -0.08)\">\n",
       "       <use xlink:href=\"#ArialMT-30\"/>\n",
       "      </g>\n",
       "     </g>\n",
       "    </g>\n",
       "    <g id=\"ytick_3\">\n",
       "     <g id=\"line2d_34\">\n",
       "      <path clip-path=\"url(#p12c48a0e0b)\" d=\"\n",
       "M49.2111 182.365\n",
       "L413.808 182.365\" style=\"fill:none;stroke:#000000;stroke-dasharray:1.000000,3.000000;stroke-dashoffset:0.0;stroke-width:0.5;\"/>\n",
       "     </g>\n",
       "     <g id=\"line2d_35\">\n",
       "      <g>\n",
       "       <use style=\"stroke:#000000;stroke-width:0.5;\" x=\"49.21109375\" xlink:href=\"#m728421d6d4\" y=\"182.365111607\"/>\n",
       "      </g>\n",
       "     </g>\n",
       "     <g id=\"line2d_36\">\n",
       "      <g>\n",
       "       <use style=\"stroke:#000000;stroke-width:0.5;\" x=\"413.808125\" xlink:href=\"#mcb0005524f\" y=\"182.365111607\"/>\n",
       "      </g>\n",
       "     </g>\n",
       "     <g id=\"text_13\">\n",
       "      <!-- 100 -->\n",
       "      <g transform=\"translate(33.11859375 184.433236607)scale(0.08 -0.08)\">\n",
       "       <use xlink:href=\"#ArialMT-31\"/>\n",
       "       <use x=\"55.615234375\" xlink:href=\"#ArialMT-30\"/>\n",
       "       <use x=\"111.23046875\" xlink:href=\"#ArialMT-30\"/>\n",
       "      </g>\n",
       "     </g>\n",
       "    </g>\n",
       "    <g id=\"ytick_4\">\n",
       "     <g id=\"line2d_37\">\n",
       "      <path clip-path=\"url(#p12c48a0e0b)\" d=\"\n",
       "M49.2111 149.216\n",
       "L413.808 149.216\" style=\"fill:none;stroke:#000000;stroke-dasharray:1.000000,3.000000;stroke-dashoffset:0.0;stroke-width:0.5;\"/>\n",
       "     </g>\n",
       "     <g id=\"line2d_38\">\n",
       "      <g>\n",
       "       <use style=\"stroke:#000000;stroke-width:0.5;\" x=\"49.21109375\" xlink:href=\"#m728421d6d4\" y=\"149.215714286\"/>\n",
       "      </g>\n",
       "     </g>\n",
       "     <g id=\"line2d_39\">\n",
       "      <g>\n",
       "       <use style=\"stroke:#000000;stroke-width:0.5;\" x=\"413.808125\" xlink:href=\"#mcb0005524f\" y=\"149.215714286\"/>\n",
       "      </g>\n",
       "     </g>\n",
       "     <g id=\"text_14\">\n",
       "      <!-- 200 -->\n",
       "      <g transform=\"translate(32.48234375 151.283839286)scale(0.08 -0.08)\">\n",
       "       <use xlink:href=\"#ArialMT-32\"/>\n",
       "       <use x=\"55.615234375\" xlink:href=\"#ArialMT-30\"/>\n",
       "       <use x=\"111.23046875\" xlink:href=\"#ArialMT-30\"/>\n",
       "      </g>\n",
       "     </g>\n",
       "    </g>\n",
       "    <g id=\"ytick_5\">\n",
       "     <g id=\"line2d_40\">\n",
       "      <path clip-path=\"url(#p12c48a0e0b)\" d=\"\n",
       "M49.2111 116.066\n",
       "L413.808 116.066\" style=\"fill:none;stroke:#000000;stroke-dasharray:1.000000,3.000000;stroke-dashoffset:0.0;stroke-width:0.5;\"/>\n",
       "     </g>\n",
       "     <g id=\"line2d_41\">\n",
       "      <g>\n",
       "       <use style=\"stroke:#000000;stroke-width:0.5;\" x=\"49.21109375\" xlink:href=\"#m728421d6d4\" y=\"116.066316964\"/>\n",
       "      </g>\n",
       "     </g>\n",
       "     <g id=\"line2d_42\">\n",
       "      <g>\n",
       "       <use style=\"stroke:#000000;stroke-width:0.5;\" x=\"413.808125\" xlink:href=\"#mcb0005524f\" y=\"116.066316964\"/>\n",
       "      </g>\n",
       "     </g>\n",
       "     <g id=\"text_15\">\n",
       "      <!-- 300 -->\n",
       "      <defs>\n",
       "       <path d=\"\n",
       "M4.20312 18.8906\n",
       "L12.9844 20.0625\n",
       "Q14.5 12.5938 18.1406 9.29688\n",
       "Q21.7812 6 27 6\n",
       "Q33.2031 6 37.4688 10.2969\n",
       "Q41.75 14.5938 41.75 20.9531\n",
       "Q41.75 27 37.7969 30.9219\n",
       "Q33.8438 34.8594 27.7344 34.8594\n",
       "Q25.25 34.8594 21.5312 33.8906\n",
       "L22.5156 41.6094\n",
       "Q23.3906 41.5 23.9219 41.5\n",
       "Q29.5469 41.5 34.0312 44.4219\n",
       "Q38.5312 47.3594 38.5312 53.4688\n",
       "Q38.5312 58.2969 35.25 61.4688\n",
       "Q31.9844 64.6562 26.8125 64.6562\n",
       "Q21.6875 64.6562 18.2656 61.4219\n",
       "Q14.8438 58.2031 13.875 51.7656\n",
       "L5.07812 53.3281\n",
       "Q6.6875 62.1562 12.3906 67.0156\n",
       "Q18.1094 71.875 26.6094 71.875\n",
       "Q32.4688 71.875 37.3906 69.3594\n",
       "Q42.3281 66.8438 44.9375 62.5\n",
       "Q47.5625 58.1562 47.5625 53.2656\n",
       "Q47.5625 48.6406 45.0625 44.8281\n",
       "Q42.5781 41.0156 37.7031 38.7656\n",
       "Q44.0469 37.3125 47.5625 32.6875\n",
       "Q51.0781 28.0781 51.0781 21.1406\n",
       "Q51.0781 11.7656 44.2344 5.25\n",
       "Q37.4062 -1.26562 26.9531 -1.26562\n",
       "Q17.5312 -1.26562 11.2969 4.34375\n",
       "Q5.07812 9.96875 4.20312 18.8906\" id=\"ArialMT-33\"/>\n",
       "      </defs>\n",
       "      <g transform=\"translate(32.58359375 118.134441964)scale(0.08 -0.08)\">\n",
       "       <use xlink:href=\"#ArialMT-33\"/>\n",
       "       <use x=\"55.615234375\" xlink:href=\"#ArialMT-30\"/>\n",
       "       <use x=\"111.23046875\" xlink:href=\"#ArialMT-30\"/>\n",
       "      </g>\n",
       "     </g>\n",
       "    </g>\n",
       "    <g id=\"ytick_6\">\n",
       "     <g id=\"line2d_43\">\n",
       "      <path clip-path=\"url(#p12c48a0e0b)\" d=\"\n",
       "M49.2111 82.9169\n",
       "L413.808 82.9169\" style=\"fill:none;stroke:#000000;stroke-dasharray:1.000000,3.000000;stroke-dashoffset:0.0;stroke-width:0.5;\"/>\n",
       "     </g>\n",
       "     <g id=\"line2d_44\">\n",
       "      <g>\n",
       "       <use style=\"stroke:#000000;stroke-width:0.5;\" x=\"49.21109375\" xlink:href=\"#m728421d6d4\" y=\"82.9169196429\"/>\n",
       "      </g>\n",
       "     </g>\n",
       "     <g id=\"line2d_45\">\n",
       "      <g>\n",
       "       <use style=\"stroke:#000000;stroke-width:0.5;\" x=\"413.808125\" xlink:href=\"#mcb0005524f\" y=\"82.9169196429\"/>\n",
       "      </g>\n",
       "     </g>\n",
       "     <g id=\"text_16\">\n",
       "      <!-- 400 -->\n",
       "      <g transform=\"translate(32.34859375 84.9850446429)scale(0.08 -0.08)\">\n",
       "       <use xlink:href=\"#ArialMT-34\"/>\n",
       "       <use x=\"55.615234375\" xlink:href=\"#ArialMT-30\"/>\n",
       "       <use x=\"111.23046875\" xlink:href=\"#ArialMT-30\"/>\n",
       "      </g>\n",
       "     </g>\n",
       "    </g>\n",
       "    <g id=\"ytick_7\">\n",
       "     <g id=\"line2d_46\">\n",
       "      <path clip-path=\"url(#p12c48a0e0b)\" d=\"\n",
       "M49.2111 49.7675\n",
       "L413.808 49.7675\" style=\"fill:none;stroke:#000000;stroke-dasharray:1.000000,3.000000;stroke-dashoffset:0.0;stroke-width:0.5;\"/>\n",
       "     </g>\n",
       "     <g id=\"line2d_47\">\n",
       "      <g>\n",
       "       <use style=\"stroke:#000000;stroke-width:0.5;\" x=\"49.21109375\" xlink:href=\"#m728421d6d4\" y=\"49.7675223214\"/>\n",
       "      </g>\n",
       "     </g>\n",
       "     <g id=\"line2d_48\">\n",
       "      <g>\n",
       "       <use style=\"stroke:#000000;stroke-width:0.5;\" x=\"413.808125\" xlink:href=\"#mcb0005524f\" y=\"49.7675223214\"/>\n",
       "      </g>\n",
       "     </g>\n",
       "     <g id=\"text_17\">\n",
       "      <!-- 500 -->\n",
       "      <defs>\n",
       "       <path d=\"\n",
       "M4.15625 18.75\n",
       "L13.375 19.5312\n",
       "Q14.4062 12.7969 18.1406 9.39062\n",
       "Q21.875 6 27.1562 6\n",
       "Q33.5 6 37.8906 10.7812\n",
       "Q42.2812 15.5781 42.2812 23.4844\n",
       "Q42.2812 31 38.0625 35.3438\n",
       "Q33.8438 39.7031 27 39.7031\n",
       "Q22.75 39.7031 19.3281 37.7656\n",
       "Q15.9219 35.8438 13.9688 32.7656\n",
       "L5.71875 33.8438\n",
       "L12.6406 70.6094\n",
       "L48.25 70.6094\n",
       "L48.25 62.2031\n",
       "L19.6719 62.2031\n",
       "L15.8281 42.9688\n",
       "Q22.2656 47.4688 29.3438 47.4688\n",
       "Q38.7188 47.4688 45.1562 40.9688\n",
       "Q51.6094 34.4688 51.6094 24.2656\n",
       "Q51.6094 14.5469 45.9531 7.46875\n",
       "Q39.0625 -1.21875 27.1562 -1.21875\n",
       "Q17.3906 -1.21875 11.2031 4.25\n",
       "Q5.03125 9.71875 4.15625 18.75\" id=\"ArialMT-35\"/>\n",
       "      </defs>\n",
       "      <g transform=\"translate(32.57984375 51.8356473214)scale(0.08 -0.08)\">\n",
       "       <use xlink:href=\"#ArialMT-35\"/>\n",
       "       <use x=\"55.615234375\" xlink:href=\"#ArialMT-30\"/>\n",
       "       <use x=\"111.23046875\" xlink:href=\"#ArialMT-30\"/>\n",
       "      </g>\n",
       "     </g>\n",
       "    </g>\n",
       "    <g id=\"ytick_8\">\n",
       "     <g id=\"line2d_49\">\n",
       "      <path clip-path=\"url(#p12c48a0e0b)\" d=\"\n",
       "M49.2111 16.6181\n",
       "L413.808 16.6181\" style=\"fill:none;stroke:#000000;stroke-dasharray:1.000000,3.000000;stroke-dashoffset:0.0;stroke-width:0.5;\"/>\n",
       "     </g>\n",
       "     <g id=\"line2d_50\">\n",
       "      <g>\n",
       "       <use style=\"stroke:#000000;stroke-width:0.5;\" x=\"49.21109375\" xlink:href=\"#m728421d6d4\" y=\"16.618125\"/>\n",
       "      </g>\n",
       "     </g>\n",
       "     <g id=\"line2d_51\">\n",
       "      <g>\n",
       "       <use style=\"stroke:#000000;stroke-width:0.5;\" x=\"413.808125\" xlink:href=\"#mcb0005524f\" y=\"16.618125\"/>\n",
       "      </g>\n",
       "     </g>\n",
       "     <g id=\"text_18\">\n",
       "      <!-- 600 -->\n",
       "      <g transform=\"translate(32.54859375 18.68625)scale(0.08 -0.08)\">\n",
       "       <use xlink:href=\"#ArialMT-36\"/>\n",
       "       <use x=\"55.615234375\" xlink:href=\"#ArialMT-30\"/>\n",
       "       <use x=\"111.23046875\" xlink:href=\"#ArialMT-30\"/>\n",
       "      </g>\n",
       "     </g>\n",
       "    </g>\n",
       "    <g id=\"text_19\">\n",
       "     <!-- R -->\n",
       "     <defs>\n",
       "      <path d=\"\n",
       "M7.85938 0\n",
       "L7.85938 71.5781\n",
       "L39.5938 71.5781\n",
       "Q49.1719 71.5781 54.1406 69.6406\n",
       "Q59.125 67.7188 62.1094 62.8281\n",
       "Q65.0938 57.9531 65.0938 52.0469\n",
       "Q65.0938 44.4375 60.1562 39.2031\n",
       "Q55.2188 33.9844 44.9219 32.5625\n",
       "Q48.6875 30.7656 50.6406 29\n",
       "Q54.7812 25.2031 58.5 19.4844\n",
       "L70.9531 0\n",
       "L59.0312 0\n",
       "L49.5625 14.8906\n",
       "Q45.4062 21.3438 42.7188 24.75\n",
       "Q40.0469 28.1719 37.9219 29.5312\n",
       "Q35.7969 30.9062 33.5938 31.4531\n",
       "Q31.9844 31.7812 28.3281 31.7812\n",
       "L17.3281 31.7812\n",
       "L17.3281 0\n",
       "z\n",
       "\n",
       "M17.3281 39.9844\n",
       "L37.7031 39.9844\n",
       "Q44.1875 39.9844 47.8438 41.3281\n",
       "Q51.5156 42.6719 53.4219 45.625\n",
       "Q55.3281 48.5781 55.3281 52.0469\n",
       "Q55.3281 57.125 51.6406 60.3906\n",
       "Q47.9531 63.6719 39.9844 63.6719\n",
       "L17.3281 63.6719\n",
       "z\n",
       "\" id=\"ArialMT-52\"/>\n",
       "     </defs>\n",
       "     <g transform=\"translate(20.83359375 136.111171875)rotate(-90.0)scale(0.11 -0.11)\">\n",
       "      <use xlink:href=\"#ArialMT-52\"/>\n",
       "     </g>\n",
       "    </g>\n",
       "   </g>\n",
       "   <g id=\"PathCollection_1\">\n",
       "    <defs>\n",
       "     <path d=\"\n",
       "M0 3\n",
       "C0.795609 3 1.55874 2.6839 2.12132 2.12132\n",
       "C2.6839 1.55874 3 0.795609 3 0\n",
       "C3 -0.795609 2.6839 -1.55874 2.12132 -2.12132\n",
       "C1.55874 -2.6839 0.795609 -3 0 -3\n",
       "C-0.795609 -3 -1.55874 -2.6839 -2.12132 -2.12132\n",
       "C-2.6839 -1.55874 -3 -0.795609 -3 0\n",
       "C-3 0.795609 -2.6839 1.55874 -2.12132 2.12132\n",
       "C-1.55874 2.6839 -0.795609 3 0 3\n",
       "z\n",
       "\" id=\"C0_0_b09554c9f3\"/>\n",
       "    </defs>\n",
       "    <g clip-path=\"url(#p12c48a0e0b)\">\n",
       "     <use style=\"fill:#009afa;stroke:#000000;\" x=\"393.299541992\" xlink:href=\"#C0_0_b09554c9f3\" y=\"38.6558443393\"/>\n",
       "    </g>\n",
       "    <g clip-path=\"url(#p12c48a0e0b)\">\n",
       "     <use style=\"fill:#009afa;stroke:#000000;\" x=\"242.903266602\" xlink:href=\"#C0_0_b09554c9f3\" y=\"200.355289533\"/>\n",
       "    </g>\n",
       "    <g clip-path=\"url(#p12c48a0e0b)\">\n",
       "     <use style=\"fill:#009afa;stroke:#000000;\" x=\"174.541323242\" xlink:href=\"#C0_0_b09554c9f3\" y=\"127.821093254\"/>\n",
       "    </g>\n",
       "    <g clip-path=\"url(#p12c48a0e0b)\">\n",
       "     <use style=\"fill:#009afa;stroke:#000000;\" x=\"92.5069912109\" xlink:href=\"#C0_0_b09554c9f3\" y=\"197.892289312\"/>\n",
       "    </g>\n",
       "    <g clip-path=\"url(#p12c48a0e0b)\">\n",
       "     <use style=\"fill:#009afa;stroke:#000000;\" x=\"140.360351562\" xlink:href=\"#C0_0_b09554c9f3\" y=\"212.345426545\"/>\n",
       "    </g>\n",
       "    <g clip-path=\"url(#p12c48a0e0b)\">\n",
       "     <use style=\"fill:#009afa;stroke:#000000;\" x=\"290.756626953\" xlink:href=\"#C0_0_b09554c9f3\" y=\"210.687956679\"/>\n",
       "    </g>\n",
       "    <g clip-path=\"url(#p12c48a0e0b)\">\n",
       "     <use style=\"fill:#009afa;stroke:#000000;\" x=\"144.917814453\" xlink:href=\"#C0_0_b09554c9f3\" y=\"214.994063391\"/>\n",
       "    </g>\n",
       "   </g>\n",
       "   <g id=\"line2d_52\">\n",
       "    <path clip-path=\"url(#p12c48a0e0b)\" d=\"\n",
       "M92.507 221.77\n",
       "L393.3 95.3249\" style=\"fill:none;stroke:#e36f47;stroke-linecap:square;\"/>\n",
       "   </g>\n",
       "   <g id=\"patch_3\">\n",
       "    <path d=\"\n",
       "M49.2111 16.6181\n",
       "L413.808 16.6181\" style=\"fill:none;stroke:#000000;\"/>\n",
       "   </g>\n",
       "   <g id=\"patch_4\">\n",
       "    <path d=\"\n",
       "M413.808 248.664\n",
       "L413.808 16.6181\" style=\"fill:none;stroke:#000000;\"/>\n",
       "   </g>\n",
       "   <g id=\"patch_5\">\n",
       "    <path d=\"\n",
       "M49.2111 248.664\n",
       "L413.808 248.664\" style=\"fill:none;stroke:#000000;\"/>\n",
       "   </g>\n",
       "   <g id=\"patch_6\">\n",
       "    <path d=\"\n",
       "M49.2111 248.664\n",
       "L49.2111 16.6181\" style=\"fill:none;stroke:#000000;\"/>\n",
       "   </g>\n",
       "  </g>\n",
       " </g>\n",
       " <defs>\n",
       "  <clipPath id=\"p12c48a0e0b\">\n",
       "   <rect height=\"232.04578125\" width=\"364.59703125\" x=\"49.21109375\" y=\"16.618125\"/>\n",
       "  </clipPath>\n",
       " </defs>\n",
       "</svg>\n"
      ]
     },
     "execution_count": 16,
     "metadata": {},
     "output_type": "execute_result"
    }
   ],
   "source": [
    "scatter(benchmark[:Julia], benchmark[:R], legend=false, xlab=\"Julia\", ylab=\"R\")\n",
    "abline!(pend, inter)"
   ]
  },
  {
   "cell_type": "code",
   "execution_count": 17,
   "metadata": {
    "collapsed": false,
    "slideshow": {
     "slide_type": "slide"
    }
   },
   "outputs": [
    {
     "data": {
      "text/plain": [
       "1000-element Array{Float64,1}:\n",
       " 0.25109  \n",
       " 0.487044 \n",
       " 0.771439 \n",
       " ⋮        \n",
       " 0.0467534\n",
       " 0.403369 "
      ]
     },
     "execution_count": 17,
     "metadata": {},
     "output_type": "execute_result"
    }
   ],
   "source": [
    "using Distributions\n",
    "\n",
    "β = rand(Beta(2,2), 1000)"
   ]
  },
  {
   "cell_type": "markdown",
   "metadata": {
    "slideshow": {
     "slide_type": "slide"
    }
   },
   "source": [
    "### Usando bibliotecas de R"
   ]
  },
  {
   "cell_type": "code",
   "execution_count": 18,
   "metadata": {
    "collapsed": false,
    "slideshow": {
     "slide_type": "-"
    }
   },
   "outputs": [
    {
     "name": "stderr",
     "output_type": "stream",
     "text": [
      "WARNING: RCall.jl \n",
      "This is package 'modeest' written by P. PONCET.\n",
      "For a complete list of functions, use 'library(help = \"modeest\")' or 'help.start()'.\n",
      "\n"
     ]
    },
    {
     "data": {
      "text/plain": [
       "RCall.RObject{RCall.RealSxp}\n",
       "[1] 0.4734172\n"
      ]
     },
     "execution_count": 18,
     "metadata": {},
     "output_type": "execute_result"
    }
   ],
   "source": [
    "# R\"\"\"\n",
    "# install.packages(\"modeest\")\n",
    "# \"\"\"\n",
    "\n",
    "@rimport modeest as rmode\n",
    "\n",
    "β_mode = rmode.hsm(β) # half-sample mode"
   ]
  },
  {
   "cell_type": "code",
   "execution_count": 19,
   "metadata": {
    "collapsed": false,
    "slideshow": {
     "slide_type": "-"
    }
   },
   "outputs": [
    {
     "data": {
      "text/plain": [
       "0.4734171729333303"
      ]
     },
     "execution_count": 19,
     "metadata": {},
     "output_type": "execute_result"
    }
   ],
   "source": [
    "rcopy(β_mode)"
   ]
  },
  {
   "cell_type": "markdown",
   "metadata": {
    "slideshow": {
     "slide_type": "slide"
    }
   },
   "source": [
    "## Clustering"
   ]
  },
  {
   "cell_type": "code",
   "execution_count": 31,
   "metadata": {
    "collapsed": false,
    "slideshow": {
     "slide_type": "-"
    }
   },
   "outputs": [
    {
     "data": {
      "text/html": [
       "<table class=\"data-frame\"><tr><th></th><th>SepalLength</th><th>SepalWidth</th><th>PetalLength</th><th>PetalWidth</th><th>Species</th></tr><tr><th>1</th><td>5.1</td><td>3.5</td><td>1.4</td><td>0.2</td><td>setosa</td></tr><tr><th>2</th><td>4.9</td><td>3.0</td><td>1.4</td><td>0.2</td><td>setosa</td></tr><tr><th>3</th><td>4.7</td><td>3.2</td><td>1.3</td><td>0.2</td><td>setosa</td></tr><tr><th>4</th><td>4.6</td><td>3.1</td><td>1.5</td><td>0.2</td><td>setosa</td></tr><tr><th>5</th><td>5.0</td><td>3.6</td><td>1.4</td><td>0.2</td><td>setosa</td></tr><tr><th>6</th><td>5.4</td><td>3.9</td><td>1.7</td><td>0.4</td><td>setosa</td></tr><tr><th>7</th><td>4.6</td><td>3.4</td><td>1.4</td><td>0.3</td><td>setosa</td></tr><tr><th>8</th><td>5.0</td><td>3.4</td><td>1.5</td><td>0.2</td><td>setosa</td></tr><tr><th>9</th><td>4.4</td><td>2.9</td><td>1.4</td><td>0.2</td><td>setosa</td></tr><tr><th>10</th><td>4.9</td><td>3.1</td><td>1.5</td><td>0.1</td><td>setosa</td></tr><tr><th>&vellip;</th><td>&vellip;</td><td>&vellip;</td><td>&vellip;</td><td>&vellip;</td><td>&vellip;</td></tr></table>"
      ],
      "text/plain": [
       "150x5 DataFrames.DataFrame\n",
       "│ Row │ SepalLength │ SepalWidth │ PetalLength │\n",
       "┝━━━━━┿━━━━━━━━━━━━━┿━━━━━━━━━━━━┿━━━━━━━━━━━━━┥\n",
       "│ 1   │ 5.1         │ 3.5        │ 1.4         │\n",
       "⋮\n",
       "│ 149 │ 6.2         │ 3.4        │ 5.4         │\n",
       "│ 150 │ 5.9         │ 3.0        │ 5.1         │\n",
       "\n",
       "│ Row │ PetalWidth │ Species     │\n",
       "┝━━━━━┿━━━━━━━━━━━━┿━━━━━━━━━━━━━┥\n",
       "│ 1   │ 0.2        │ \"setosa\"    │\n",
       "⋮\n",
       "│ 149 │ 2.3        │ \"virginica\" │\n",
       "│ 150 │ 1.8        │ \"virginica\" │"
      ]
     },
     "execution_count": 31,
     "metadata": {},
     "output_type": "execute_result"
    }
   ],
   "source": [
    "iris = readtable(joinpath(\"data\", \"iris.csv\"))"
   ]
  },
  {
   "cell_type": "code",
   "execution_count": 37,
   "metadata": {
    "collapsed": false,
    "slideshow": {
     "slide_type": "slide"
    }
   },
   "outputs": [
    {
     "data": {
      "text/plain": [
       "Clustering.KmeansResult{Float64}(2x3 Array{Float64,2}:\n",
       " 1.35926  0.246  2.04783\n",
       " 4.29259  1.462  5.62609,[2,2,2,2,2,2,2,2,2,2  …  3,3,3,3,3,3,3,3,3,3],[0.00596,0.00596,0.02836,0.00356,0.00596,0.08036,0.00676,0.00356,0.00596,0.02276  …  0.124707,0.340359,0.29862,0.13862,0.209924,0.245142,0.413837,0.183837,0.114707,0.338185],[54,50,46],[54.0,50.0,46.0],31.412885668276868,9,true)"
      ]
     },
     "execution_count": 37,
     "metadata": {},
     "output_type": "execute_result"
    }
   ],
   "source": [
    "using Clustering\n",
    "\n",
    "cl = kmeans(convert(Matrix{Float64}, iris[:, [:PetalWidth, :PetalLength]])', 3)"
   ]
  },
  {
   "cell_type": "code",
   "execution_count": 35,
   "metadata": {
    "collapsed": false,
    "slideshow": {
     "slide_type": "fragment"
    }
   },
   "outputs": [
    {
     "data": {
      "text/plain": [
       "3x2 Array{Float64,2}:\n",
       " 2.0375   5.59583\n",
       " 0.246    1.462  \n",
       " 1.34231  4.26923"
      ]
     },
     "execution_count": 35,
     "metadata": {},
     "output_type": "execute_result"
    }
   ],
   "source": [
    "cl.centers'"
   ]
  },
  {
   "cell_type": "code",
   "execution_count": 36,
   "metadata": {
    "collapsed": false,
    "slideshow": {
     "slide_type": "fragment"
    }
   },
   "outputs": [
    {
     "data": {
      "text/html": [
       "<table class=\"data-frame\"><tr><th></th><th>Species</th><th>x1</th></tr><tr><th>1</th><td>setosa</td><td>(0.24600000000000002,1.462)</td></tr><tr><th>2</th><td>versicolor</td><td>(1.3259999999999998,4.260000000000001)</td></tr><tr><th>3</th><td>virginica</td><td>(2.026,5.5520000000000005)</td></tr></table>"
      ],
      "text/plain": [
       "3x2 DataFrames.DataFrame\n",
       "│ Row │ Species      │\n",
       "┝━━━━━┿━━━━━━━━━━━━━━┥\n",
       "│ 1   │ \"setosa\"     │\n",
       "│ 2   │ \"versicolor\" │\n",
       "│ 3   │ \"virginica\"  │\n",
       "\n",
       "│ Row │ x1                                     │\n",
       "┝━━━━━┿━━━━━━━━━━━━━━━━━━━━━━━━━━━━━━━━━━━━━━━━┥\n",
       "│ 1   │ (0.24600000000000002,1.462)            │\n",
       "│ 2   │ (1.3259999999999998,4.260000000000001) │\n",
       "│ 3   │ (2.026,5.5520000000000005)             │"
      ]
     },
     "execution_count": 36,
     "metadata": {},
     "output_type": "execute_result"
    }
   ],
   "source": [
    "by(iris, :Species, df -> (mean(df[:PetalWidth]), mean(df[:PetalLength])))"
   ]
  },
  {
   "cell_type": "code",
   "execution_count": null,
   "metadata": {
    "collapsed": true
   },
   "outputs": [],
   "source": []
  }
 ],
 "metadata": {
  "celltoolbar": "Slideshow",
  "default_encoding": "UTF-8",
  "kernelspec": {
   "display_name": "Julia 0.4.5",
   "language": "julia",
   "name": "julia-0.4"
  },
  "language_info": {
   "file_extension": ".jl",
   "mimetype": "application/julia",
   "name": "julia",
   "version": "0.4.5"
  }
 },
 "nbformat": 4,
 "nbformat_minor": 0
}
